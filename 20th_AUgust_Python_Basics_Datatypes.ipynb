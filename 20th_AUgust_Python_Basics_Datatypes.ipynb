{
 "cells": [
  {
   "cell_type": "markdown",
   "id": "77397916-aea5-4322-a0bd-268c723b384f",
   "metadata": {},
   "source": [
    "TOPIC: String Based Assignment Problem"
   ]
  },
  {
   "cell_type": "markdown",
   "id": "72cdbe89-b0e1-4f41-a913-254545bc030c",
   "metadata": {},
   "source": [
    "1. Write a program to reverse a string."
   ]
  },
  {
   "cell_type": "code",
   "execution_count": 37,
   "id": "d6cf3dae-402e-41b3-b22d-4e45bea13de9",
   "metadata": {},
   "outputs": [
    {
     "name": "stdin",
     "output_type": "stream",
     "text": [
      "Enter the String:  pwskills\n"
     ]
    },
    {
     "data": {
      "text/plain": [
       "'sllikswp'"
      ]
     },
     "execution_count": 37,
     "metadata": {},
     "output_type": "execute_result"
    }
   ],
   "source": [
    "# Get the string as input and cnovert it into list\n",
    "\n",
    "s1= input(\"Enter the String: \")\n",
    "\n",
    "#Use reverse() method to reverse the String\n",
    "\n",
    "#defined a fucntion and which accepts one argument\n",
    "def reversed_string(s):\n",
    "    #Converted the String to a list\n",
    "    \n",
    "    newlist = list(s)\n",
    "    #use Reverse method on list as this method is not directly applicable on string\n",
    "    \n",
    "    newlist.reverse()\n",
    "    \n",
    "    #use join to concetenate elements of list\n",
    "    return ''.join(newlist)\n",
    "\n",
    "#run the function\n",
    "\n",
    "reversed_string(s1)\n",
    "\n",
    "#Other simpler way to do is to use (::-1)"
   ]
  },
  {
   "cell_type": "markdown",
   "id": "f915f4c2-8744-4391-966d-9ab81fe3d6c6",
   "metadata": {},
   "source": [
    "2. Check if a string is a palindrome."
   ]
  },
  {
   "cell_type": "code",
   "execution_count": 19,
   "id": "ddca8bc9-ddfe-4f43-9e52-4382677c34f7",
   "metadata": {},
   "outputs": [
    {
     "name": "stdin",
     "output_type": "stream",
     "text": [
      "Enter the String:  SOS\n"
     ]
    },
    {
     "name": "stdout",
     "output_type": "stream",
     "text": [
      "SOS\n",
      "The string is Palindrome\n"
     ]
    }
   ],
   "source": [
    "s1= input(\"Enter the String: \")\n",
    "\n",
    "#Use reverse() method to reverse the String\n",
    "\n",
    "#defined a fucntion and which accepts one argument\n",
    "def reversed_string(s):\n",
    "    #Converted the String to a list\n",
    "    \n",
    "    newlist = list(s)\n",
    "    #use Reverse method on list as this method is not directly applicable on string\n",
    "    \n",
    "    newlist.reverse()\n",
    "    \n",
    "    #use join to concetenate elements of list\n",
    "    return ''.join(newlist)\n",
    "\n",
    "#run the function\n",
    "\n",
    "Rstr= reversed_string(s1)\n",
    "print(Rstr)\n",
    "\n",
    "\n",
    "if Rstr == s1:\n",
    "        print(\"The string is Palindrome\")\n",
    "    \n",
    "else:\n",
    "        print(\"The string is not Palindrome\")\n",
    "    "
   ]
  },
  {
   "cell_type": "markdown",
   "id": "52128749-54ea-498a-a60e-e76e5d3433ff",
   "metadata": {},
   "source": [
    "3. Convert a string to uppercase."
   ]
  },
  {
   "cell_type": "code",
   "execution_count": 20,
   "id": "96c32bf1-e0aa-4776-ad78-7dcf7c69267c",
   "metadata": {},
   "outputs": [
    {
     "name": "stdin",
     "output_type": "stream",
     "text": [
      "Enter the string:  pwskills\n"
     ]
    },
    {
     "data": {
      "text/plain": [
       "'PWSKILLS'"
      ]
     },
     "execution_count": 20,
     "metadata": {},
     "output_type": "execute_result"
    }
   ],
   "source": [
    "str2= input(\"Enter the string: \")\n",
    "\n",
    "str2.upper()\n"
   ]
  },
  {
   "cell_type": "markdown",
   "id": "654f7227-1e80-49bc-a5b7-865924976aae",
   "metadata": {},
   "source": [
    "4. Convert a string to lowercase."
   ]
  },
  {
   "cell_type": "code",
   "execution_count": 21,
   "id": "436a1448-bfd5-4043-8661-24648f1a3ee6",
   "metadata": {},
   "outputs": [
    {
     "name": "stdin",
     "output_type": "stream",
     "text": [
      "Enter the string:  PWSKILLS\n"
     ]
    },
    {
     "data": {
      "text/plain": [
       "'pwskills'"
      ]
     },
     "execution_count": 21,
     "metadata": {},
     "output_type": "execute_result"
    }
   ],
   "source": [
    "str2= input(\"Enter the string: \")\n",
    "\n",
    "str2.lower()"
   ]
  },
  {
   "cell_type": "markdown",
   "id": "11824fab-908f-4ac6-9f19-3f0971fe585e",
   "metadata": {},
   "source": [
    "5. Count the number of vowels in a string."
   ]
  },
  {
   "cell_type": "code",
   "execution_count": 24,
   "id": "6a7eaabe-d588-49d2-9496-ac322739a402",
   "metadata": {},
   "outputs": [
    {
     "name": "stdin",
     "output_type": "stream",
     "text": [
      "Enter the string:  pwskills\n"
     ]
    },
    {
     "name": "stdout",
     "output_type": "stream",
     "text": [
      "Number of vowels is 1\n"
     ]
    }
   ],
   "source": [
    "str3= input(\"Enter the string: \")\n",
    "\n",
    "vcount =0\n",
    "for n in range (len(str3)):\n",
    "    if (str3[n]=='a' or str3[n]=='e' or str3[n]=='i' or str3[n]=='o' or str3[n]=='u'):\n",
    "            vcount +=1\n",
    "print(\"Number of vowels is\", vcount)            \n"
   ]
  },
  {
   "cell_type": "markdown",
   "id": "bfe417af-fcd4-4eb7-b8ec-45e4928a738c",
   "metadata": {},
   "source": [
    "6. Count the number of consonants in a string."
   ]
  },
  {
   "cell_type": "code",
   "execution_count": 38,
   "id": "40946586-b1de-4ca3-be23-d5e9d521d4dd",
   "metadata": {},
   "outputs": [
    {
     "name": "stdin",
     "output_type": "stream",
     "text": [
      "Enter the string:  pwskills\n"
     ]
    },
    {
     "name": "stdout",
     "output_type": "stream",
     "text": [
      "Number of consonets is 7\n"
     ]
    }
   ],
   "source": [
    "str3= input(\"Enter the string: \")\n",
    "\n",
    "vcount =0\n",
    "for n in range (len(str3)):\n",
    "    if (str3[n]=='a' or str3[n]=='e' or str3[n]=='i' or str3[n]=='o' or str3[n]=='u'):\n",
    "            vcount +=1\n",
    "            \n",
    "#Total length of string subtracted by umber of vowels will give us consonents\n",
    "            \n",
    "con_count = len(str3) - vcount\n",
    "print(\"Number of consonets is\", con_count)     "
   ]
  },
  {
   "cell_type": "markdown",
   "id": "46d912a6-bb21-4ebb-9a82-78066c1fcc46",
   "metadata": {},
   "source": [
    "7. Remove all whitespaces from a string."
   ]
  },
  {
   "cell_type": "code",
   "execution_count": 28,
   "id": "f8ba8999-9f21-4e8d-97ee-994920ad9f80",
   "metadata": {},
   "outputs": [
    {
     "name": "stdin",
     "output_type": "stream",
     "text": [
      "Enter the string:  p w s k i l l s\n"
     ]
    },
    {
     "name": "stdout",
     "output_type": "stream",
     "text": [
      "String after removing the spaces: pwskills\n"
     ]
    }
   ],
   "source": [
    "str5 = input(\"Enter the string: \")\n",
    "new_str5=''\n",
    "\n",
    "for char in str5:\n",
    "    if char != ' ':\n",
    "        new_str5 +=char\n",
    "\n",
    "  \n",
    "\n",
    "print(\"String after removing the spaces:\",new_str5)\n"
   ]
  },
  {
   "cell_type": "markdown",
   "id": "96fcd6d1-014e-44a6-89b5-8de0d5372d83",
   "metadata": {},
   "source": [
    "8. Find the length of a string without using the `len()` function."
   ]
  },
  {
   "cell_type": "code",
   "execution_count": 30,
   "id": "ba7886fc-e1de-4710-9803-87683d32c0cf",
   "metadata": {},
   "outputs": [
    {
     "name": "stdin",
     "output_type": "stream",
     "text": [
      "Enter the string: pw skills\n"
     ]
    },
    {
     "name": "stdout",
     "output_type": "stream",
     "text": [
      "Length of string is 9\n"
     ]
    }
   ],
   "source": [
    "str6 = input(\"Enter the string:\")\n",
    "\n",
    "#created a variable to store string length and initiated with 0\n",
    "l_str=0\n",
    "\n",
    "#for every characted in string it will increase the count by 1. This will account for spaces as well\n",
    "for char in str6:\n",
    "    l_str += 1\n",
    "\n",
    "print(\"Length of string is\", l_str)"
   ]
  },
  {
   "cell_type": "markdown",
   "id": "27bc6af2-fb83-46a4-a499-c3d323fdea8a",
   "metadata": {},
   "source": [
    "9. Check if a string contains a specific word."
   ]
  },
  {
   "cell_type": "code",
   "execution_count": 35,
   "id": "8a4fce64-b292-4bda-8c57-7c520c65a4b6",
   "metadata": {},
   "outputs": [
    {
     "name": "stdin",
     "output_type": "stream",
     "text": [
      "Enter the string: Quick brown fox\n"
     ]
    },
    {
     "name": "stdout",
     "output_type": "stream",
     "text": [
      "The entered string is Quick brown fox\n"
     ]
    },
    {
     "name": "stdin",
     "output_type": "stream",
     "text": [
      "Input the word to be found fox\n"
     ]
    },
    {
     "name": "stdout",
     "output_type": "stream",
     "text": [
      "fox exists in the string\n"
     ]
    }
   ],
   "source": [
    "str7 = input(\"Enter the string:\")\n",
    "print(\"The entered string is\", str7)\n",
    "\n",
    "w1 = input(\"Input the word to be found\")\n",
    "\n",
    "if w1 in str7:\n",
    "    print(w1, \"exists in the string\")\n",
    "    \n",
    "else:\n",
    "    print(w1, \"doesn't exists in the string\")\n",
    "    "
   ]
  },
  {
   "cell_type": "markdown",
   "id": "a8177637-e001-43ef-8087-4c63b8267cf6",
   "metadata": {},
   "source": [
    "10. Replace a word in a string with another word.\n"
   ]
  },
  {
   "cell_type": "code",
   "execution_count": 36,
   "id": "920f7795-7f35-48dd-87cc-f27be92de756",
   "metadata": {},
   "outputs": [
    {
     "name": "stdin",
     "output_type": "stream",
     "text": [
      "Enter the string: quick brown fox\n"
     ]
    },
    {
     "name": "stdout",
     "output_type": "stream",
     "text": [
      "The entered string is quick brown fox\n"
     ]
    },
    {
     "name": "stdin",
     "output_type": "stream",
     "text": [
      "Input the word to be replaced fox\n",
      "Tnput the word to be replaced with rabbit\n"
     ]
    },
    {
     "name": "stdout",
     "output_type": "stream",
     "text": [
      "New String with replaced word: quick brown rabbit\n"
     ]
    }
   ],
   "source": [
    "str8 = input(\"Enter the string:\")\n",
    "print(\"The entered string is\", str8)\n",
    "\n",
    "w2 = input(\"Input the word to be replaced\")\n",
    "\n",
    "rw = input(\"Tnput the word to be replaced with\")\n",
    "\n",
    "if w2 in str8:\n",
    "    rstr8= str8.replace(w2, rw)\n",
    "    print(\"New String with replaced word:\", rstr8)\n",
    "    \n",
    "else:\n",
    "    print(w2, \"doesn't exists in the string\")\n"
   ]
  },
  {
   "cell_type": "markdown",
   "id": "e702c8f2-73b9-4e82-b74a-6744610c4a02",
   "metadata": {},
   "source": [
    "11. Count the occurrences of a word in a string."
   ]
  },
  {
   "cell_type": "code",
   "execution_count": 43,
   "id": "bcd744d1-bbe1-4155-b1a1-623bcf612410",
   "metadata": {},
   "outputs": [
    {
     "name": "stdin",
     "output_type": "stream",
     "text": [
      "Enter the string: pwskills\n"
     ]
    },
    {
     "name": "stdout",
     "output_type": "stream",
     "text": [
      "The entered string is pwskills\n"
     ]
    },
    {
     "name": "stdin",
     "output_type": "stream",
     "text": [
      "Input the word to be counted l\n"
     ]
    },
    {
     "data": {
      "text/plain": [
       "2"
      ]
     },
     "execution_count": 43,
     "metadata": {},
     "output_type": "execute_result"
    }
   ],
   "source": [
    "str9 = input(\"Enter the string:\")\n",
    "print(\"The entered string is\", str9)\n",
    "\n",
    "w3 = input(\"Input the word to be counted\")\n",
    "\n",
    "str9.count(w3)\n",
    "        \n",
    "   \n",
    "\n"
   ]
  },
  {
   "cell_type": "markdown",
   "id": "1d0cf91b-477f-4ba5-b988-bde0b9017400",
   "metadata": {},
   "source": [
    "12. Find the first occurrence of a word in a string."
   ]
  },
  {
   "cell_type": "code",
   "execution_count": 45,
   "id": "995ae2d2-a946-4c4e-91ec-cfb61f6968df",
   "metadata": {},
   "outputs": [
    {
     "name": "stdin",
     "output_type": "stream",
     "text": [
      "Enter the string: Quick brown fox\n"
     ]
    },
    {
     "name": "stdout",
     "output_type": "stream",
     "text": [
      "The entered string is Quick brown fox\n"
     ]
    },
    {
     "name": "stdin",
     "output_type": "stream",
     "text": [
      "Input the word to be found r\n"
     ]
    },
    {
     "data": {
      "text/plain": [
       "7"
      ]
     },
     "execution_count": 45,
     "metadata": {},
     "output_type": "execute_result"
    }
   ],
   "source": [
    "str10 = input(\"Enter the string:\")\n",
    "print(\"The entered string is\", str10)\n",
    "\n",
    "w4 = input(\"Input the word to be found\")\n",
    "\n",
    "str10.find(w4)\n"
   ]
  },
  {
   "cell_type": "markdown",
   "id": "06c9f744-e8cb-4003-9c24-71129dc3250e",
   "metadata": {},
   "source": [
    "13. Find the last occurrence of a word in a string."
   ]
  },
  {
   "cell_type": "code",
   "execution_count": 52,
   "id": "57745cd1-5053-4e92-9f23-10c71251b654",
   "metadata": {},
   "outputs": [
    {
     "name": "stdin",
     "output_type": "stream",
     "text": [
      "Enter the string: pwskills\n"
     ]
    },
    {
     "name": "stdout",
     "output_type": "stream",
     "text": [
      "The entered string is pwskills\n"
     ]
    },
    {
     "name": "stdin",
     "output_type": "stream",
     "text": [
      "Input the word to be found l\n"
     ]
    },
    {
     "data": {
      "text/plain": [
       "6"
      ]
     },
     "execution_count": 52,
     "metadata": {},
     "output_type": "execute_result"
    }
   ],
   "source": [
    "str11 = input(\"Enter the string:\")\n",
    "print(\"The entered string is\", str11)\n",
    "\n",
    "w5 = input(\"Input the word to be found\")\n",
    "\n",
    "str11.rfind(w5)\n"
   ]
  },
  {
   "cell_type": "markdown",
   "id": "fda450a7-b76f-45a2-8c7e-e7dd8ac2afe7",
   "metadata": {},
   "source": [
    "14. Split a string into a list of words."
   ]
  },
  {
   "cell_type": "code",
   "execution_count": 53,
   "id": "d7e666f2-d6b1-48f8-bd79-adad168a2e7a",
   "metadata": {},
   "outputs": [
    {
     "name": "stdin",
     "output_type": "stream",
     "text": [
      "Enter the string: Quick Brown Fox\n"
     ]
    },
    {
     "name": "stdout",
     "output_type": "stream",
     "text": [
      "The split string is ['Quick', 'Brown', 'Fox']\n"
     ]
    }
   ],
   "source": [
    "str12=input(\"Enter the string:\")\n",
    "\n",
    "split_str12= str12.split()\n",
    "print(\"The split string is\", split_str12)\n"
   ]
  },
  {
   "cell_type": "markdown",
   "id": "a24a81b4-8e3f-4654-8df7-0b83dac8745a",
   "metadata": {},
   "source": [
    "15. Join a list of words into a string."
   ]
  },
  {
   "cell_type": "code",
   "execution_count": 57,
   "id": "366d5f4d-a13e-4896-8015-ab6cbe648c6e",
   "metadata": {},
   "outputs": [
    {
     "name": "stdout",
     "output_type": "stream",
     "text": [
      "Quick Brown Fox\n"
     ]
    }
   ],
   "source": [
    "list_1=[\"Quick\", \"Brown\", \"Fox\"]\n",
    "\n",
    "list_4 = ' '.join(list_1)\n",
    "\n",
    "print(list_4)"
   ]
  },
  {
   "cell_type": "markdown",
   "id": "f4f3da93-cd9b-4d3e-b6c7-167c23f1ea3c",
   "metadata": {},
   "source": [
    "16. Convert a string where words are separated by spaces to one where words\n",
    "are separated by underscores."
   ]
  },
  {
   "cell_type": "code",
   "execution_count": 59,
   "id": "ad11de6b-fcd8-4383-af70-58dc4fcd161e",
   "metadata": {},
   "outputs": [
    {
     "name": "stdin",
     "output_type": "stream",
     "text": [
      "Enter the string: Quick Brown Fox\n"
     ]
    },
    {
     "data": {
      "text/plain": [
       "'Quick_Brown_Fox'"
      ]
     },
     "execution_count": 59,
     "metadata": {},
     "output_type": "execute_result"
    }
   ],
   "source": [
    "str13=input(\"Enter the string:\")\n",
    "str14 = str13.replace(' ', '_')\n",
    "str14"
   ]
  },
  {
   "cell_type": "markdown",
   "id": "33d3dfcb-5cc2-4db2-a401-6ad264204035",
   "metadata": {},
   "source": [
    "17. Check if a string starts with a specific word or phrase."
   ]
  },
  {
   "cell_type": "code",
   "execution_count": 62,
   "id": "d8ff3cdb-45d1-4745-8670-09a958132276",
   "metadata": {},
   "outputs": [
    {
     "name": "stdin",
     "output_type": "stream",
     "text": [
      "Enter the string: Quick Brown Fox\n"
     ]
    },
    {
     "name": "stdout",
     "output_type": "stream",
     "text": [
      "The entered string is Quick Brown Fox\n"
     ]
    },
    {
     "name": "stdin",
     "output_type": "stream",
     "text": [
      "Input the word to be checked Fox\n"
     ]
    },
    {
     "data": {
      "text/plain": [
       "False"
      ]
     },
     "execution_count": 62,
     "metadata": {},
     "output_type": "execute_result"
    }
   ],
   "source": [
    "str15 = input(\"Enter the string:\")\n",
    "print(\"The entered string is\", str15)\n",
    "\n",
    "w6 = input(\"Input the word to be checked\")\n",
    "\n",
    "str15.startswith(w6)\n"
   ]
  },
  {
   "cell_type": "markdown",
   "id": "e3c672ad-0839-48de-8c62-b352cb2b1b6e",
   "metadata": {},
   "source": [
    "18. Check if a string ends with a specific word or phrase.\n"
   ]
  },
  {
   "cell_type": "code",
   "execution_count": 65,
   "id": "f399e53d-3121-4ab0-b758-e5894f6b04a4",
   "metadata": {},
   "outputs": [
    {
     "name": "stdin",
     "output_type": "stream",
     "text": [
      "Enter the string: Pw Skills\n"
     ]
    },
    {
     "name": "stdout",
     "output_type": "stream",
     "text": [
      "The entered string is Pw Skills\n"
     ]
    },
    {
     "name": "stdin",
     "output_type": "stream",
     "text": [
      "Input the word to be checked Skills\n"
     ]
    },
    {
     "data": {
      "text/plain": [
       "True"
      ]
     },
     "execution_count": 65,
     "metadata": {},
     "output_type": "execute_result"
    }
   ],
   "source": [
    "str16 = input(\"Enter the string:\")\n",
    "print(\"The entered string is\", str16)\n",
    "\n",
    "w7 = input(\"Input the word to be checked\")\n",
    "\n",
    "str16.endswith(w7)\n"
   ]
  },
  {
   "cell_type": "markdown",
   "id": "b1d05dc6-0d9a-47ee-bd9b-88a5c0d85594",
   "metadata": {},
   "source": [
    "19. Convert a string to title case (e.g., \"hello world\" to \"Hello World\")."
   ]
  },
  {
   "cell_type": "code",
   "execution_count": 67,
   "id": "f782f8e1-2091-4262-a4de-6f6ba1f6f4ac",
   "metadata": {},
   "outputs": [
    {
     "name": "stdin",
     "output_type": "stream",
     "text": [
      "Enter the string: quick brown fox\n"
     ]
    },
    {
     "data": {
      "text/plain": [
       "'Quick Brown Fox'"
      ]
     },
     "execution_count": 67,
     "metadata": {},
     "output_type": "execute_result"
    }
   ],
   "source": [
    "str17 = input(\"Enter the string:\")\n",
    "str17.title()\n"
   ]
  },
  {
   "cell_type": "markdown",
   "id": "c08873fd-1079-42ef-923a-712a0a24172f",
   "metadata": {},
   "source": [
    "20. Find the longest word in a string."
   ]
  },
  {
   "cell_type": "code",
   "execution_count": 69,
   "id": "e22c3638-0f9f-4310-bcc4-5edbef940fa7",
   "metadata": {},
   "outputs": [
    {
     "name": "stdin",
     "output_type": "stream",
     "text": [
      "Enter the string: Quick brown fox jumping from the tree\n"
     ]
    },
    {
     "name": "stdout",
     "output_type": "stream",
     "text": [
      "Longest word in the string is: jumping\n"
     ]
    }
   ],
   "source": [
    "str18 = input(\"Enter the string:\")\n",
    "\n",
    "#convert the String to a list\n",
    "lst_str18 = str18.split()\n",
    "\n",
    "#Initiate an empty word\n",
    "\n",
    "longest_w = \"\"\n",
    "\n",
    "#Iterate through the created list from String\n",
    "for word in lst_str18:\n",
    "    #Everytime loop finds the length of the word greater than longest word, it assign the value\n",
    "    if len(word) > len(longest_w):\n",
    "        longest_w = word\n",
    "        \n",
    "print(\"Longest word in the string is:\", longest_w)"
   ]
  },
  {
   "cell_type": "markdown",
   "id": "4b46793c-ab16-4c76-a329-9a502c277541",
   "metadata": {},
   "source": [
    "Alternate way to handle above problem"
   ]
  },
  {
   "cell_type": "code",
   "execution_count": 75,
   "id": "ed0ea21f-32ce-43c8-a6b4-ab417a0e8dd2",
   "metadata": {},
   "outputs": [
    {
     "name": "stdin",
     "output_type": "stream",
     "text": [
      "Enter the string: Quick brown fox jumping down the tree\n"
     ]
    },
    {
     "name": "stdout",
     "output_type": "stream",
     "text": [
      "longest word is jumping\n"
     ]
    }
   ],
   "source": [
    "str18_new = input(\"Enter the string:\")\n",
    "\n",
    "#convert the String to a list\n",
    "newlst_str18 = str18_new.split()\n",
    "\n",
    "\n",
    "longest_word = max(newlst_str18, key=len)\n",
    "\n",
    "print(\"longest word is\",longest_word)\n"
   ]
  },
  {
   "cell_type": "markdown",
   "id": "c740b212-a84d-4a18-ad56-ee9cf62cb305",
   "metadata": {},
   "source": [
    "21. Find the shortest word in a string."
   ]
  },
  {
   "cell_type": "code",
   "execution_count": 73,
   "id": "e1500a89-53d8-4a40-9608-3e2e6e61fa75",
   "metadata": {},
   "outputs": [
    {
     "name": "stdin",
     "output_type": "stream",
     "text": [
      "Enter the string: happy day\n"
     ]
    },
    {
     "name": "stdout",
     "output_type": "stream",
     "text": [
      "Shortest word is day\n"
     ]
    }
   ],
   "source": [
    "str19 = input(\"Enter the string:\")\n",
    "\n",
    "#convert the String to a list\n",
    "lst_str19 = str19.split()\n",
    "\n",
    "shortest_word = min(lst_str19, key=len)\n",
    "\n",
    "print(\"Shortest word is\", shortest_word)"
   ]
  },
  {
   "cell_type": "markdown",
   "id": "de029f9a-79ee-40a0-9779-a842d9a784a8",
   "metadata": {},
   "source": [
    "22. Reverse the order of words in a string."
   ]
  },
  {
   "cell_type": "code",
   "execution_count": 17,
   "id": "3cccc301-3a98-4871-ae03-1ba67338bb2d",
   "metadata": {},
   "outputs": [
    {
     "name": "stdin",
     "output_type": "stream",
     "text": [
      "Enter the string: Quick Brown Fox jumping from the tree\n"
     ]
    },
    {
     "name": "stdout",
     "output_type": "stream",
     "text": [
      "['Quick', 'Brown', 'Fox', 'jumping', 'from', 'the', 'tree']\n",
      "['tree', 'the', 'from', 'jumping', 'Fox', 'Brown', 'Quick']\n",
      "tree the from jumping Fox Brown Quick\n"
     ]
    }
   ],
   "source": [
    "str20 = input(\"Enter the string:\")\n",
    "\n",
    "#convert the String to a list\n",
    "lst_str20 = str20.split()\n",
    "print(lst_str20)\n",
    "\n",
    "#reverse the lements of list\n",
    "lst_str20.reverse()\n",
    "\n",
    "#Check elements are revered in place\n",
    "print(lst_str20)\n",
    "\n",
    "#Concatenate the string\n",
    "rever_string = print(\" \".join(lst_str20))\n",
    "\n"
   ]
  },
  {
   "cell_type": "markdown",
   "id": "bdb3990e-06ed-44ff-97f7-8a88eab1dcf1",
   "metadata": {},
   "source": [
    "23. Check if a string is alphanumeric."
   ]
  },
  {
   "cell_type": "code",
   "execution_count": 19,
   "id": "e4406cf2-7857-4e87-ab5d-4fd44f74d466",
   "metadata": {},
   "outputs": [
    {
     "name": "stdin",
     "output_type": "stream",
     "text": [
      "Enter the string: alpha24\n"
     ]
    },
    {
     "data": {
      "text/plain": [
       "True"
      ]
     },
     "execution_count": 19,
     "metadata": {},
     "output_type": "execute_result"
    }
   ],
   "source": [
    "str21 = input(\"Enter the string:\")\n",
    "\n",
    "str21.isalnum()"
   ]
  },
  {
   "cell_type": "markdown",
   "id": "e66b755d-1980-4249-bfe0-b1347df37a3b",
   "metadata": {},
   "source": [
    "24. Extract all digits from a string."
   ]
  },
  {
   "cell_type": "code",
   "execution_count": 24,
   "id": "9e030d5d-a368-4f0c-a2cb-8d0b706d8cd8",
   "metadata": {},
   "outputs": [
    {
     "name": "stdin",
     "output_type": "stream",
     "text": [
      "Enter the string: alpha9876\n"
     ]
    },
    {
     "name": "stdout",
     "output_type": "stream",
     "text": [
      "This list of digits is ['9', '8', '7', '6']\n"
     ]
    }
   ],
   "source": [
    "str22 = input(\"Enter the string:\")\n",
    "digit_list =list()\n",
    "for char in str22:\n",
    "    if char.isnumeric():\n",
    "        digit_list.append(char)\n",
    "\n",
    "print(\"This list of digits is\", digit_list)"
   ]
  },
  {
   "cell_type": "markdown",
   "id": "3e38cf62-910c-4685-981f-7f11fff816a1",
   "metadata": {},
   "source": [
    "25. Extract all alphabets from a string."
   ]
  },
  {
   "cell_type": "code",
   "execution_count": 26,
   "id": "434903f5-bc69-4e2f-b8db-64fb52baf0ab",
   "metadata": {},
   "outputs": [
    {
     "name": "stdin",
     "output_type": "stream",
     "text": [
      "Enter the string: alpha876\n"
     ]
    },
    {
     "name": "stdout",
     "output_type": "stream",
     "text": [
      "This list of alphabets is ['a', 'l', 'p', 'h', 'a']\n"
     ]
    }
   ],
   "source": [
    "str23 = input(\"Enter the string:\")\n",
    "alpha_list =list()\n",
    "for char in str23:\n",
    "    if char.isalpha():\n",
    "       alpha_list.append(char)\n",
    "\n",
    "print(\"This list of alphabets is\", alpha_list)"
   ]
  },
  {
   "cell_type": "markdown",
   "id": "851f0c13-3375-4371-8971-cfc0643fd583",
   "metadata": {},
   "source": [
    "26. Count the number of uppercase letters in a string."
   ]
  },
  {
   "cell_type": "code",
   "execution_count": 33,
   "id": "01c3df49-03e0-4d3d-a514-fbc8998b62f5",
   "metadata": {},
   "outputs": [
    {
     "name": "stdin",
     "output_type": "stream",
     "text": [
      "Enter the string: UppER345\n"
     ]
    },
    {
     "name": "stdout",
     "output_type": "stream",
     "text": [
      "This list of Uppercase letters is ['U', 'E', 'R']\n",
      "Number of Upper Case letters 3\n"
     ]
    }
   ],
   "source": [
    "str24 = input(\"Enter the string:\")\n",
    "upper_list =list()\n",
    "for char in str24:\n",
    "    if char.isupper():\n",
    "       upper_list.append(char)\n",
    "\n",
    "print(\"This list of Uppercase letters is\", upper_list)\n",
    "\n",
    "upper_count = len(upper_list)\n",
    "\n",
    "print(\"Number of Upper Case letters\", upper_count)"
   ]
  },
  {
   "cell_type": "markdown",
   "id": "a77e4a5b-3a73-4c8a-b310-23c85009d040",
   "metadata": {},
   "source": [
    "27. Count the number of lowercase letters in a string."
   ]
  },
  {
   "cell_type": "code",
   "execution_count": 34,
   "id": "15624084-26e3-49c9-a0de-d5bfb2f2dbd5",
   "metadata": {},
   "outputs": [
    {
     "name": "stdin",
     "output_type": "stream",
     "text": [
      "Enter the string: TheList1234\n"
     ]
    },
    {
     "name": "stdout",
     "output_type": "stream",
     "text": [
      "This list of Lowercase letters is: ['h', 'e', 'i', 's', 't']\n",
      "Number of lower Case letters 5\n"
     ]
    }
   ],
   "source": [
    "str25 = input(\"Enter the string:\")\n",
    "lower_list =list()\n",
    "for char in str25:\n",
    "    if char.islower():\n",
    "      lower_list.append(char)\n",
    "\n",
    "print(\"This list of Lowercase letters is:\", lower_list)\n",
    "\n",
    "lower_count = len(lower_list)\n",
    "\n",
    "print(\"Number of lower Case letters\", lower_count)"
   ]
  },
  {
   "cell_type": "markdown",
   "id": "53c3b8c6-c838-45ce-9fdd-386dbc23a5ba",
   "metadata": {},
   "source": [
    "28. Swap the case of each character in a string."
   ]
  },
  {
   "cell_type": "code",
   "execution_count": 41,
   "id": "a081d981-8459-47ad-af60-06b83a7483aa",
   "metadata": {},
   "outputs": [
    {
     "name": "stdin",
     "output_type": "stream",
     "text": [
      "Enter the string: PySkills\n"
     ]
    },
    {
     "name": "stdout",
     "output_type": "stream",
     "text": [
      "pYsKILLS\n"
     ]
    }
   ],
   "source": [
    "str26 = input(\"Enter the string:\")\n",
    "\n",
    "#Initiate empty string\n",
    "\n",
    "new_str26 =''\n",
    "\n",
    "for char in str26:\n",
    "    \n",
    "#Check condition for Upper Case\n",
    "    if char.isupper()==True:\n",
    "        l_char= char.lower()\n",
    "        new_str26 += l_char\n",
    "        \n",
    "#Check condition for lower case\n",
    "\n",
    "    elif char.islower()==True:\n",
    "        u_char= char.upper()\n",
    "        new_str26 += u_char\n",
    "        \n",
    "    else:\n",
    "        pass\n",
    "        \n",
    "      \n",
    "        \n",
    "    \n",
    "    \n",
    "print(new_str26)"
   ]
  },
  {
   "cell_type": "markdown",
   "id": "f7244192-9e90-4f8f-822d-bdb7716d84c0",
   "metadata": {},
   "source": [
    "29. Remove a specific word from a string."
   ]
  },
  {
   "cell_type": "code",
   "execution_count": 53,
   "id": "48fdedc2-b113-4cf0-b2f0-691909b5acfc",
   "metadata": {},
   "outputs": [
    {
     "name": "stdin",
     "output_type": "stream",
     "text": [
      "Enter the string: quick brown fox jumping from the tree\n",
      "Enter the word to be removed: tree\n"
     ]
    },
    {
     "name": "stdout",
     "output_type": "stream",
     "text": [
      "['quick', 'brown', 'fox', 'jumping', 'from', 'the']\n",
      "The new string with removed word is:  quick brown fox jumping from the\n"
     ]
    }
   ],
   "source": [
    "str27 = input(\"Enter the string:\")\n",
    "\n",
    "word_rem = input(\"Enter the word to be removed:\")\n",
    "\n",
    "lst_str27 = str27.split()\n",
    "\n",
    "for char in lst_str27:\n",
    "    if char == word_rem:\n",
    "        lst_str27.remove(word_rem)\n",
    "        \n",
    "    else:\n",
    "        pass\n",
    "        \n",
    "print(lst_str27)\n",
    "\n",
    "new_str27 = \" \".join(lst_str27)\n",
    "\n",
    "print(\"The new string with removed word is: \", new_str27)"
   ]
  },
  {
   "cell_type": "markdown",
   "id": "b46622b6-7888-4c1c-86a2-645e439c77da",
   "metadata": {},
   "source": [
    "30. Check if a string is a valid email address."
   ]
  },
  {
   "cell_type": "code",
   "execution_count": 2,
   "id": "37defe3e-f4aa-435c-8613-5b948570fdc9",
   "metadata": {},
   "outputs": [
    {
     "name": "stdin",
     "output_type": "stream",
     "text": [
      "Enter the string: test@test.com\n"
     ]
    },
    {
     "data": {
      "text/plain": [
       "True"
      ]
     },
     "execution_count": 2,
     "metadata": {},
     "output_type": "execute_result"
    }
   ],
   "source": [
    "str28 = input(\"Enter the string:\")\n",
    "\n",
    "def email_validate(s):\n",
    "    \n",
    "   #check if string has less than or more than one '@'\n",
    "   if s.count('@') != 1:\n",
    "              \n",
    "              return False\n",
    "    # Split user name and domain\n",
    "   username, domain = s.split('@')\n",
    "   #Check if username and domain side of email is not empty\n",
    "   if len(username) ==0 and len(domain) ==0:\n",
    "              return False\n",
    "   #ensure '.' exists        \n",
    "   if domain.find('.') == -1:\n",
    "              return False\n",
    "              \n",
    "   return True\n",
    "              \n",
    "email_validate(str28)\n",
    "              "
   ]
  },
  {
   "cell_type": "markdown",
   "id": "9662f8f6-fd98-40cb-b90e-dc2d406e5a9b",
   "metadata": {},
   "source": [
    "31. Extract the username from an email address string."
   ]
  },
  {
   "cell_type": "code",
   "execution_count": 9,
   "id": "1df622cc-23b2-45e6-8a14-de30355b6722",
   "metadata": {},
   "outputs": [
    {
     "name": "stdin",
     "output_type": "stream",
     "text": [
      "Enter the valid email id: testemail@email.com\n"
     ]
    },
    {
     "name": "stdout",
     "output_type": "stream",
     "text": [
      "Username for the email is: testemail\n"
     ]
    }
   ],
   "source": [
    "def email_validate(s):\n",
    "    \n",
    "   #check if string has less than or more than one '@'\n",
    "   if s.count('@') != 1:\n",
    "              \n",
    "              return False\n",
    "    # Split user name and domain\n",
    "   username, domain = s.split('@')\n",
    "   #Check if username and domain side of email is not empty\n",
    "   if len(username) ==0 and len(domain) ==0:\n",
    "              return False\n",
    "   #ensure '.' exists        \n",
    "   if domain.find('.') == -1:\n",
    "              return False\n",
    "              \n",
    "   return True\n",
    "\n",
    "str29 = input(\"Enter the valid email id:\")\n",
    "\n",
    "#First validate using above example that entered email id is valid. using same email_validate() function to validate the email id\n",
    "\n",
    "if email_validate(str29) == True:\n",
    "    #slicing the email before the '@'\n",
    "    rusername = str29[str29.index('@')-1::-1]\n",
    "    #sliced string which we will get will be reveresed, we have to reverse that again to get the username\n",
    "    username=rusername[::-1]\n",
    "    print(\"Username for the email is:\", username)\n",
    "    \n",
    "else:\n",
    "    print(\"Not a valid email id\")\n"
   ]
  },
  {
   "cell_type": "markdown",
   "id": "4ee2c234-e46c-4499-9db3-5000491507a8",
   "metadata": {},
   "source": [
    "32. Extract the domain name from an email address string."
   ]
  },
  {
   "cell_type": "code",
   "execution_count": 13,
   "id": "5a04dcb8-71f6-4005-8d5b-5e10df5f28f6",
   "metadata": {},
   "outputs": [
    {
     "name": "stdin",
     "output_type": "stream",
     "text": [
      "Enter the valid email id: testemail2@newemail.com\n"
     ]
    },
    {
     "name": "stdout",
     "output_type": "stream",
     "text": [
      "Domain name for the email is: newemail.com\n"
     ]
    }
   ],
   "source": [
    "def email_validate(s):\n",
    "    \n",
    "   #check if string has less than or more than one '@'\n",
    "   if s.count('@') != 1:\n",
    "              \n",
    "              return False\n",
    "    # Split user name and domain\n",
    "   username, domain = s.split('@')\n",
    "   #Check if username and domain side of email is not empty\n",
    "   if len(username) ==0 and len(domain) ==0:\n",
    "              return False\n",
    "   #ensure '.' exists        \n",
    "   if domain.find('.') == -1:\n",
    "              return False\n",
    "              \n",
    "   return True\n",
    "\n",
    "str30 = input(\"Enter the valid email id:\")\n",
    "\n",
    "#First validate using above example that entered email id is valid. using same email_validate() function to validate the email id\n",
    "\n",
    "if email_validate(str30) == True:\n",
    "    #slicing the email before the '@'\n",
    "    domainname = str30[str30.index('@')+1:]\n",
    "    \n",
    "    print(\"Domain name for the email is:\",domainname)\n",
    "    \n",
    "else:\n",
    "    print(\"Not a valid email id\")\n"
   ]
  },
  {
   "cell_type": "markdown",
   "id": "e3a04a32-f68b-40b9-a532-052806a0185f",
   "metadata": {},
   "source": [
    "33. Replace multiple spaces in a string with a single space."
   ]
  },
  {
   "cell_type": "code",
   "execution_count": 18,
   "id": "699aceb2-06a5-4803-8e9e-b000230c317b",
   "metadata": {},
   "outputs": [
    {
     "name": "stdin",
     "output_type": "stream",
     "text": [
      "Enter the string with spaces:     Quick brown fox         jumping  from   the   tree.\n"
     ]
    },
    {
     "data": {
      "text/plain": [
       "'Quick brown fox jumping from the tree.'"
      ]
     },
     "execution_count": 18,
     "metadata": {},
     "output_type": "execute_result"
    }
   ],
   "source": [
    "str31 = input(\"Enter the string with spaces:\")\n",
    "\n",
    "#importing Regular Expressions Module\"\n",
    "\n",
    "import re\n",
    "\n",
    "#Strip() will remove extra space in front and back of string\n",
    "\n",
    "re.sub(\" +\", \" \",str31.strip())\n",
    "\n"
   ]
  },
  {
   "cell_type": "markdown",
   "id": "7d2710a9-2720-47e5-9ac4-e046c0831b4b",
   "metadata": {},
   "source": [
    "34. Check if a string is a valid URL."
   ]
  },
  {
   "cell_type": "code",
   "execution_count": 28,
   "id": "ecff5730-2dcd-4b90-98e7-ef8b697b3eda",
   "metadata": {},
   "outputs": [
    {
     "name": "stdin",
     "output_type": "stream",
     "text": [
      "Enter the url to cehck if it is a valid url: https://www.google.com\n"
     ]
    },
    {
     "name": "stdout",
     "output_type": "stream",
     "text": [
      "https://www.google.com is a valid url.\n"
     ]
    }
   ],
   "source": [
    "from urllib.parse import urlparse\n",
    "\n",
    "def url_validation(url):\n",
    "    try:\n",
    "        url_result = urlparse(url)\n",
    "        return all([url_result.scheme, url_result.netloc]) # scheme returns the protocol and netloc returns the network location\n",
    "    except ValueError:\n",
    "        return False\n",
    "    \n",
    "str32 = input(\"Enter the url to cehck if it is a valid url:\")\n",
    "result = url_validation(str32)\n",
    "\n",
    "if result==True:\n",
    "    print(f'{str32} is a valid url.')\n",
    "    \n",
    "else:\n",
    "    print(\"It is an invalid url.\")\n",
    "\n",
    "        \n",
    "        \n",
    "    "
   ]
  },
  {
   "cell_type": "markdown",
   "id": "982ca80e-33ba-4b0c-bd0e-ebec082e3f18",
   "metadata": {},
   "source": [
    "35. Extract the protocol (http or https) from a URL string."
   ]
  },
  {
   "cell_type": "code",
   "execution_count": 34,
   "id": "bad3050a-7abc-401e-b730-2df6f86dcc29",
   "metadata": {},
   "outputs": [
    {
     "name": "stdin",
     "output_type": "stream",
     "text": [
      "Enter the url to cehck if it is a valid url: https://www.google.com\n"
     ]
    },
    {
     "name": "stdout",
     "output_type": "stream",
     "text": [
      "https\n"
     ]
    }
   ],
   "source": [
    "from urllib.parse import urlparse\n",
    "\n",
    "def url_validation(url):\n",
    "    try:\n",
    "        url_result = urlparse(url)\n",
    "        return all([url_result.scheme, url_result.netloc]) # scheme returns the protocol and netloc returns the network location\n",
    "    except ValueError:\n",
    "        return False\n",
    "    \n",
    "str33 = input(\"Enter the url to cehck if it is a valid url:\")\n",
    "result = url_validation(str33)\n",
    "\n",
    "if result==True:\n",
    "    protocol = urlparse(str33).scheme\n",
    "    print(protocol)\n",
    "    "
   ]
  },
  {
   "cell_type": "markdown",
   "id": "a4158ad4-95b8-4531-ac42-eceebac2401c",
   "metadata": {},
   "source": [
    "36. Find the frequency of each character in a string."
   ]
  },
  {
   "cell_type": "code",
   "execution_count": 38,
   "id": "5f81e85b-32ea-4893-9fa5-21c2012b9fec",
   "metadata": {},
   "outputs": [
    {
     "name": "stdin",
     "output_type": "stream",
     "text": [
      "Enter the string to check character frequency: pyskills\n"
     ]
    },
    {
     "name": "stdout",
     "output_type": "stream",
     "text": [
      "{'p': 1, 'y': 1, 's': 2, 'k': 1, 'i': 1, 'l': 2}\n"
     ]
    }
   ],
   "source": [
    "str34 = input(\"Enter the string to check character frequency:\")\n",
    "\n",
    "#initate an empty dictionary:\n",
    "\n",
    "freq_dict ={}\n",
    "\n",
    "for i in str34:\n",
    "    \n",
    "    #if that char is available in the string\n",
    "    if i in freq_dict:\n",
    "       freq_dict[i] +=1\n",
    "    \n",
    "      #else add it to the dictionary  \n",
    "    else:\n",
    "        freq_dict[i] =1\n",
    "        \n",
    "print(freq_dict)\n",
    "        "
   ]
  },
  {
   "cell_type": "markdown",
   "id": "36508dbf-96b8-477f-bfc2-4ecf84c6ff74",
   "metadata": {},
   "source": [
    "37. Remove all punctuation from a string."
   ]
  },
  {
   "cell_type": "code",
   "execution_count": 40,
   "id": "24e18f70-4ee3-4ec8-a379-8df727bdb751",
   "metadata": {},
   "outputs": [
    {
     "name": "stdin",
     "output_type": "stream",
     "text": [
      "Enter the string to remove translation Hi! John, How are you?\n"
     ]
    },
    {
     "data": {
      "text/plain": [
       "'Hi John How are you'"
      ]
     },
     "execution_count": 40,
     "metadata": {},
     "output_type": "execute_result"
    }
   ],
   "source": [
    "import string\n",
    "\n",
    "def rem_punc(s):\n",
    "    #create a table that maps all the punctuation to None\n",
    "    \n",
    "    trans_table= str.maketrans(\"\",\"\",string.punctuation)\n",
    "    return s.translate(trans_table)\n",
    "\n",
    "str35=input(\"Enter the string to remove translation\")\n",
    "\n",
    "rem_punc(str35)"
   ]
  },
  {
   "cell_type": "markdown",
   "id": "34b9bd7b-5e5a-4e10-95ff-cafda14115e5",
   "metadata": {},
   "source": [
    "38. Check if a string contains only digits."
   ]
  },
  {
   "cell_type": "code",
   "execution_count": 45,
   "id": "f5e0b5c9-ed46-4cc1-9669-e8f19cebeda2",
   "metadata": {},
   "outputs": [
    {
     "name": "stdin",
     "output_type": "stream",
     "text": [
      "Enter the string to be checked for digits 122345\n"
     ]
    },
    {
     "data": {
      "text/plain": [
       "True"
      ]
     },
     "execution_count": 45,
     "metadata": {},
     "output_type": "execute_result"
    }
   ],
   "source": [
    "str36=input(\"Enter the string to be checked for digits\")\n",
    "\n",
    "str36.isdigit()\n",
    "        \n",
    "    \n",
    "    "
   ]
  },
  {
   "cell_type": "markdown",
   "id": "34b96444-1a51-42e1-9202-1c884420ce38",
   "metadata": {},
   "source": [
    "39. Check if a string contains only alphabets."
   ]
  },
  {
   "cell_type": "code",
   "execution_count": 48,
   "id": "c085f948-c6f8-4439-9626-86e2e0208cdd",
   "metadata": {},
   "outputs": [
    {
     "name": "stdin",
     "output_type": "stream",
     "text": [
      "Enter the string to be checked for only alphabets pyskills\n"
     ]
    },
    {
     "data": {
      "text/plain": [
       "True"
      ]
     },
     "execution_count": 48,
     "metadata": {},
     "output_type": "execute_result"
    }
   ],
   "source": [
    "str37=input(\"Enter the string to be checked for only alphabets\")\n",
    "\n",
    "str37.isalpha()"
   ]
  },
  {
   "cell_type": "markdown",
   "id": "d22e0e94-02fb-41a7-bb91-66b71e702e38",
   "metadata": {},
   "source": [
    "40. Convert a string to a list of characters."
   ]
  },
  {
   "cell_type": "code",
   "execution_count": 50,
   "id": "f08307f9-1d4a-419e-ad26-3151d3c665ef",
   "metadata": {},
   "outputs": [
    {
     "name": "stdin",
     "output_type": "stream",
     "text": [
      "Enter the string to be conberted to list of characters This is python\n"
     ]
    },
    {
     "name": "stdout",
     "output_type": "stream",
     "text": [
      "['T', 'h', 'i', 's', ' ', 'i', 's', ' ', 'p', 'y', 't', 'h', 'o', 'n']\n"
     ]
    }
   ],
   "source": [
    "str37=input(\"Enter the string to be conberted to list of characters\")\n",
    "\n",
    "char_list=list(str37)\n",
    "\n",
    "print(char_list)"
   ]
  },
  {
   "cell_type": "markdown",
   "id": "b4af39a8-3f5b-47d2-84a6-21e7af0b2f24",
   "metadata": {},
   "source": [
    "41. Check if two strings are anagrams."
   ]
  },
  {
   "cell_type": "code",
   "execution_count": 4,
   "id": "38ad9058-7d0f-4592-8639-48b97701d6cf",
   "metadata": {},
   "outputs": [
    {
     "name": "stdin",
     "output_type": "stream",
     "text": [
      "Enter first string to compare elbow\n",
      "Enter second string to compare below\n"
     ]
    },
    {
     "data": {
      "text/plain": [
       "'Strings are anagrams'"
      ]
     },
     "execution_count": 4,
     "metadata": {},
     "output_type": "execute_result"
    }
   ],
   "source": [
    "str38=  str(input(\"Enter first string to compare\"))\n",
    "str39 = str(input(\"Enter second string to compare\"))\n",
    "\n",
    "#Sort the string and make it all lower case for comparison\n",
    "\n",
    "str38 = sorted(str38.lower())\n",
    "str39 = sorted(str39.lower())\n",
    "\n",
    "def anagram():\n",
    "    if (str38 == str39):\n",
    "        return \"Strings are anagrams\"\n",
    "    else:\n",
    "        return \"Strings are not anagrams\"\n",
    "anagram()\n",
    "        "
   ]
  },
  {
   "cell_type": "markdown",
   "id": "b5c0d907-371e-4fbb-abe5-f6d5ad3e10b2",
   "metadata": {},
   "source": [
    "42. Encode a string using a Caesar cipher."
   ]
  },
  {
   "cell_type": "code",
   "execution_count": 18,
   "id": "6d0ecc4e-83ad-41d9-aeb2-a04c2c7c4e75",
   "metadata": {},
   "outputs": [
    {
     "name": "stdin",
     "output_type": "stream",
     "text": [
      "Enter the text to cipher:  Hello World\n",
      "Enter the shift:  1\n"
     ]
    },
    {
     "data": {
      "text/plain": [
       "'Ifmmp Xpsme'"
      ]
     },
     "execution_count": 18,
     "metadata": {},
     "output_type": "execute_result"
    }
   ],
   "source": [
    "def enc_cipher(text,shift):\n",
    "    \n",
    "    ciphered_text =\"\"\n",
    "    \n",
    "    for char in text:\n",
    "        if (char.isupper() and char != ' '):\n",
    "             ciphered_text += chr((ord(char) + s-65) % 26 + 65)\n",
    "        elif (char.islower() and char != ' '):  \n",
    "              ciphered_text += chr((ord(char) + s-97) % 26 + 97)\n",
    "        elif (char ==' '):\n",
    "               ciphered_text += ' '\n",
    "        elif  (char.isdigit):\n",
    "                ciphered_text +=char\n",
    "                \n",
    "    return ciphered_text\n",
    "              \n",
    "str40= str(input(\"Enter the text to cipher: \"))\n",
    "\n",
    "#default type for input is String\n",
    "s = int(input(\"Enter the shift: \"))\n",
    "\n",
    "enc_cipher(str40,s)\n"
   ]
  },
  {
   "cell_type": "markdown",
   "id": "c2247951-d3c6-4990-b3f9-2207f986f314",
   "metadata": {},
   "source": [
    "43. Decode a Caesar cipher encoded string."
   ]
  },
  {
   "cell_type": "code",
   "execution_count": 21,
   "id": "e6aa690d-89ff-414d-b59b-12e5b53900e4",
   "metadata": {},
   "outputs": [
    {
     "name": "stdin",
     "output_type": "stream",
     "text": [
      "Enter the text to Decipher:  Ifmmp Xpsme\n",
      "Enter the shift:  1\n"
     ]
    },
    {
     "data": {
      "text/plain": [
       "'Hello World'"
      ]
     },
     "execution_count": 21,
     "metadata": {},
     "output_type": "execute_result"
    }
   ],
   "source": [
    "def enc_cipher(text,shift):\n",
    "\n",
    "    #Initiate the empty Deciphered String\n",
    "    deciphered_text =\"\"\n",
    "    \n",
    "    #Instead of adding, we will subtract the shift\n",
    "    for char in text:\n",
    "        if (char.isupper() and char != ' '):\n",
    "             deciphered_text += chr((ord(char) - s-65) % 26 + 65)\n",
    "        elif (char.islower() and char != ' '):  \n",
    "              deciphered_text += chr((ord(char) - s-97) % 26 + 97)\n",
    "        elif (char ==' '):\n",
    "               deciphered_text += ' '\n",
    "        elif  (char.isdigit):\n",
    "                deciphered_text +=char\n",
    "                \n",
    "    return deciphered_text\n",
    "              \n",
    "str41= str(input(\"Enter the text to Decipher: \"))\n",
    "\n",
    "#default type for input is String\n",
    "sb = int(input(\"Enter the shift: \"))\n",
    "\n",
    "enc_cipher(str41,sb)\n"
   ]
  },
  {
   "cell_type": "markdown",
   "id": "010879c3-6a99-4ed0-b2cd-c5f6845c20a8",
   "metadata": {},
   "source": [
    "44. Find the most frequent word in a string."
   ]
  },
  {
   "cell_type": "code",
   "execution_count": 40,
   "id": "b9a84842-4290-4624-b11c-38dd0770d532",
   "metadata": {},
   "outputs": [
    {
     "data": {
      "text/plain": [
       "'hi'"
      ]
     },
     "execution_count": 40,
     "metadata": {},
     "output_type": "execute_result"
    }
   ],
   "source": [
    "import re\n",
    "from collections import Counter\n",
    "\n",
    "def freq_word(input_string):\n",
    "    #remove punctuations\n",
    "    new_string= re.sub('[^\\w\\s]', '', input_string).lower()\n",
    "    words = new_string.split()\n",
    "    \n",
    "    w_counter=Counter(words)\n",
    "    \n",
    "    most_freq_word = w_counter.most_common(1)[0][0]\n",
    "    \n",
    "    return most_freq_word\n",
    "\n",
    "str42 = \"Hi hi there\"\n",
    "\n",
    "\n",
    "freq_word(str42)\n",
    "    \n",
    "    "
   ]
  },
  {
   "cell_type": "markdown",
   "id": "20f7a22d-b425-4d71-a64f-3c27e826ae5e",
   "metadata": {},
   "source": [
    "45. Find all unique words in a string."
   ]
  },
  {
   "cell_type": "code",
   "execution_count": 44,
   "id": "6d0d338e-446f-4f13-8f0a-61b0792fba99",
   "metadata": {},
   "outputs": [
    {
     "name": "stdin",
     "output_type": "stream",
     "text": [
      "Enter the string Hello World! Hello Everyone!\n"
     ]
    },
    {
     "data": {
      "text/plain": [
       "{'Everyone!', 'Hello', 'World!'}"
      ]
     },
     "execution_count": 44,
     "metadata": {},
     "output_type": "execute_result"
    }
   ],
   "source": [
    "str45 = input(\"Enter the string\")\n",
    "\n",
    "str45_set=set(str45.split())\n",
    "#Set has unique set of elements\n",
    "str45_set"
   ]
  },
  {
   "cell_type": "markdown",
   "id": "baf81fc2-0021-4301-a6b2-e2322f0b4cc3",
   "metadata": {},
   "source": [
    "46. Count the number of syllables in a string."
   ]
  },
  {
   "cell_type": "code",
   "execution_count": 45,
   "id": "621c9425-ecfe-41d2-b7e2-66dda0497dd1",
   "metadata": {},
   "outputs": [
    {
     "name": "stdin",
     "output_type": "stream",
     "text": [
      "Enter the word Water\n"
     ]
    },
    {
     "name": "stdout",
     "output_type": "stream",
     "text": [
      "Water has 2 syllables\n"
     ]
    }
   ],
   "source": [
    "import re\n",
    "\n",
    "def count_syl(word):\n",
    "    v_grps = re.findall(r'[aeiou]+', word, re.IGNORECASE)\n",
    "    \n",
    "    return len(v_grps)\n",
    "\n",
    "re.findall\n",
    "\n",
    "w1 = input(\"Enter the word\")\n",
    "\n",
    "scount=count_syl(w1)\n",
    "\n",
    "print(f'{w1} has {scount} syllables')\n"
   ]
  },
  {
   "cell_type": "markdown",
   "id": "867b2e9e-9cb4-4098-b49d-9d1142260dc3",
   "metadata": {},
   "source": [
    "47. Check if a string contains any special characters."
   ]
  },
  {
   "cell_type": "code",
   "execution_count": 51,
   "id": "dc5aa763-f2c4-4671-8e61-43e82f115ed3",
   "metadata": {},
   "outputs": [
    {
     "name": "stdin",
     "output_type": "stream",
     "text": [
      "Enter the string: !hi@hi\n"
     ]
    },
    {
     "name": "stdout",
     "output_type": "stream",
     "text": [
      "String has special characters\n"
     ]
    }
   ],
   "source": [
    "import re\n",
    "\n",
    "def check_special(input_string):\n",
    "    #create an object from the pattern containing special characters\n",
    "    regex = re.compile('[@_!#$%^&*()<>?/\\|}{~:]') \n",
    "    \n",
    "    #use search to look for pattern in input string\n",
    "    if(regex.search(input_string) == None):\n",
    "        print(\"String has no special characters\")\n",
    "        \n",
    "    else:\n",
    "        print(\"String has special characters\")\n",
    "        \n",
    "in_str=input(\"Enter the string:\")\n",
    "        \n",
    "check_special(in_str)\n",
    "              \n"
   ]
  },
  {
   "cell_type": "markdown",
   "id": "fcb23562-64aa-471d-8149-668d8ae2d8f1",
   "metadata": {},
   "source": [
    "48. Remove the nth word from a string."
   ]
  },
  {
   "cell_type": "code",
   "execution_count": 61,
   "id": "5f249e58-6a3c-4bbe-b63c-cb4c47328492",
   "metadata": {},
   "outputs": [
    {
     "name": "stdin",
     "output_type": "stream",
     "text": [
      "Enter the sentence: Quick brown fox jumping from the tree\n",
      "Enter the Index value of element to be removed 2\n"
     ]
    },
    {
     "name": "stdout",
     "output_type": "stream",
     "text": [
      "['Quick', 'brown', 'jumping', 'from', 'the', 'tree']\n",
      "Sentence after popped item: Quick brown jumping from the tree\n"
     ]
    }
   ],
   "source": [
    "str46 = input(\"Enter the sentence:\")\n",
    "\n",
    "#ocnverting it to the list\n",
    "list_str = str46.split()\n",
    "\n",
    "i = int(input(\"Enter the Index value of element to be removed\"))\n",
    "\n",
    "#removing nth element using pop\n",
    "list_str.pop(i)\n",
    "\n",
    "print(list_str)\n",
    "\n",
    "#converting back list to sentence\n",
    "str46_afterpop= \" \".join(list_str)\n",
    "\n",
    "print(\"Sentence after popped item:\", str46_afterpop)"
   ]
  },
  {
   "cell_type": "markdown",
   "id": "642305f9-66ac-443a-a4be-a3a3e8fce7ba",
   "metadata": {},
   "source": [
    "49. Insert a word at the nth position in a string."
   ]
  },
  {
   "cell_type": "code",
   "execution_count": 63,
   "id": "2a942d34-ba37-46a2-888b-72dae85b7675",
   "metadata": {},
   "outputs": [
    {
     "name": "stdin",
     "output_type": "stream",
     "text": [
      "Enter the sentence: Quick brown jumping from the tree\n",
      "Enter the Index value of element to be added 2\n",
      "Enter the item to be inserted fox\n"
     ]
    },
    {
     "name": "stdout",
     "output_type": "stream",
     "text": [
      "['Quick', 'brown', 'fox', 'jumping', 'from', 'the', 'tree']\n",
      "Quick brown fox jumping from the tree\n"
     ]
    }
   ],
   "source": [
    "str47 = input(\"Enter the sentence:\")\n",
    "\n",
    "#ocnverting it to the list\n",
    "list_str47 = str47.split()\n",
    "\n",
    "n = int(input(\"Enter the Index value of element to be added\"))\n",
    "item_ins = input(\"Enter the item to be inserted\")\n",
    "\n",
    "list_str47.insert(n, item_ins)\n",
    "\n",
    "print(list_str47)\n",
    "\n",
    "str47_afterins= \" \".join(list_str47)\n",
    "\n",
    "print(str47_afterins)\n",
    "\n"
   ]
  },
  {
   "cell_type": "markdown",
   "id": "1d3b4d55-2528-4a06-b8a0-5b3017ca02ea",
   "metadata": {},
   "source": [
    "50. Convert a CSV string to a list of lists\n"
   ]
  },
  {
   "cell_type": "code",
   "execution_count": 68,
   "id": "351ca81e-18d1-4d46-8792-88e8efeaa78a",
   "metadata": {},
   "outputs": [
    {
     "name": "stdout",
     "output_type": "stream",
     "text": [
      "['Name', ' Age', ' Country']\n",
      "['John', ' 20', ' USA']\n",
      "['Doe', ' 25', ' India']\n",
      "['Ryan', ' 30', ' Fiji']\n"
     ]
    }
   ],
   "source": [
    "def csv_to_list(csv_str):\n",
    "    \n",
    "    #First split the csv into different lines\n",
    "    lines= csv_str.split('\\n')\n",
    "    \n",
    "    #Initiate an empty list\n",
    "    \n",
    "    r_list=[]\n",
    "    \n",
    "    for line in lines:\n",
    "        rows = line.split(',') #split eachh line using comma\n",
    "        r_list.append(rows)\n",
    "        \n",
    "    return r_list\n",
    "        \n",
    "csv_data = \"Name, Age, Country\\nJohn, 20, USA\\nDoe, 25, India\\nRyan, 30, Fiji\"\n",
    "final_list= csv_to_list(csv_data)\n",
    "    \n",
    "for row in final_list:\n",
    "    print(row)"
   ]
  },
  {
   "cell_type": "markdown",
   "id": "cf9bc47a-a2f4-4be9-a25c-cb1147240b28",
   "metadata": {},
   "source": [
    "TOPIC: List Based Practice Problem "
   ]
  },
  {
   "cell_type": "markdown",
   "id": "5913ef3a-295d-4f52-88d8-5eb8b0b66252",
   "metadata": {},
   "source": [
    "1. Create a list with integers from 1 to 10."
   ]
  },
  {
   "cell_type": "code",
   "execution_count": 78,
   "id": "1ac7df3f-f4ef-4872-8845-a5e4ac4d6327",
   "metadata": {},
   "outputs": [
    {
     "data": {
      "text/plain": [
       "[1, 2, 3, 4, 5, 6, 7, 8, 9, 10]"
      ]
     },
     "execution_count": 78,
     "metadata": {},
     "output_type": "execute_result"
    }
   ],
   "source": [
    "#Initiate an empty list\n",
    "lst01 =list()\n",
    "for i in range(1,11):\n",
    "#add to the list\n",
    "    lst01.append(i)\n",
    "lst01\n",
    "    "
   ]
  },
  {
   "cell_type": "markdown",
   "id": "1ec1543e-3048-4b32-bf37-df266b194ad9",
   "metadata": {},
   "source": [
    "2. Find the length of a list without using the `len()` function."
   ]
  },
  {
   "cell_type": "code",
   "execution_count": 2,
   "id": "f9c63e74-545e-4f89-9af5-8181a6231416",
   "metadata": {},
   "outputs": [
    {
     "data": {
      "text/plain": [
       "8"
      ]
     },
     "execution_count": 2,
     "metadata": {},
     "output_type": "execute_result"
    }
   ],
   "source": [
    "\n",
    "\n",
    "#Initiate a list of elements\n",
    "lst02 = [1,2,3,4,5,6,'pyskills', 18]\n",
    "lst_count=0\n",
    "\n",
    "#Iterate over the elements in list\n",
    "for i in lst02:\n",
    "    lst_count +=1\n",
    "    \n",
    "lst_count"
   ]
  },
  {
   "cell_type": "markdown",
   "id": "46df83c2-b7e0-406a-b14b-92d48836d427",
   "metadata": {},
   "source": [
    "3. Append an element to the end of a list."
   ]
  },
  {
   "cell_type": "code",
   "execution_count": 4,
   "id": "d962a721-0066-4849-9a15-a3daee21e9ed",
   "metadata": {},
   "outputs": [
    {
     "data": {
      "text/plain": [
       "[1, 2, 3, 4, 5, 6, 'pyskills', 18, 'flask']"
      ]
     },
     "execution_count": 4,
     "metadata": {},
     "output_type": "execute_result"
    }
   ],
   "source": [
    "lst03 = [1,2,3,4,5,6,'pyskills', 18]\n",
    "\n",
    "lst03.append('flask')\n",
    "\n",
    "lst03"
   ]
  },
  {
   "cell_type": "markdown",
   "id": "d6c8d05d-3765-4553-9635-2b4b9c8d4da2",
   "metadata": {},
   "source": [
    "4. Insert an element at a specific index in a list."
   ]
  },
  {
   "cell_type": "code",
   "execution_count": 6,
   "id": "739c8a71-1698-4ec7-b557-8f6711ba8194",
   "metadata": {},
   "outputs": [
    {
     "data": {
      "text/plain": [
       "[1, 2, 'Django', 3, 4, 5, 6, 'pyskills', 18]"
      ]
     },
     "execution_count": 6,
     "metadata": {},
     "output_type": "execute_result"
    }
   ],
   "source": [
    "lst04 = [1,2,3,4,5,6,'pyskills', 18]\n",
    "\n",
    "#we will insert 'Django' at index 2\n",
    "lst04.insert(2,'Django')\n",
    "\n",
    "lst04"
   ]
  },
  {
   "cell_type": "markdown",
   "id": "a7f878c4-ba66-41a9-b7c3-28ba60a44722",
   "metadata": {},
   "source": [
    "5. Remove an element from a list by its value."
   ]
  },
  {
   "cell_type": "code",
   "execution_count": 8,
   "id": "ad6c2aa4-a3e6-42a5-a7cc-8e6a08ad76d5",
   "metadata": {},
   "outputs": [
    {
     "data": {
      "text/plain": [
       "[1, 3, 4, 5, 6, 'pyskills', 18, 1, 2]"
      ]
     },
     "execution_count": 8,
     "metadata": {},
     "output_type": "execute_result"
    }
   ],
   "source": [
    "lst05 = [1,2,3,4,5,6,'pyskills', 18,1,2]\n",
    "\n",
    "#It will remove first occurence of 2\n",
    "\n",
    "lst05.remove(2)\n",
    "lst05"
   ]
  },
  {
   "cell_type": "markdown",
   "id": "3b6df4a6-5c0a-4037-8392-a859fdbad4b1",
   "metadata": {},
   "source": [
    "6. Remove an element from a list by its index."
   ]
  },
  {
   "cell_type": "code",
   "execution_count": 12,
   "id": "a8849dc8-c649-40ca-a033-bbb6eb5c40f9",
   "metadata": {},
   "outputs": [
    {
     "data": {
      "text/plain": [
       "[2, 3, 4, 5, 6, 'pyskills', 18, 1, 2]"
      ]
     },
     "execution_count": 12,
     "metadata": {},
     "output_type": "execute_result"
    }
   ],
   "source": [
    "lst06 = [1,2,3,4,5,6,'pyskills', 18,1,2]\n",
    "\n",
    "lst06.pop(0)\n",
    "\n",
    "lst06\n"
   ]
  },
  {
   "cell_type": "markdown",
   "id": "d2de678e-7f31-4e4f-99f8-f10c97fa2149",
   "metadata": {},
   "source": [
    "7. Check if an element exists in a list.\n"
   ]
  },
  {
   "cell_type": "code",
   "execution_count": 40,
   "id": "a98d0008-8b99-4f03-ad32-de4fe1e00743",
   "metadata": {},
   "outputs": [
    {
     "name": "stdout",
     "output_type": "stream",
     "text": [
      "pyskills exists in the list\n"
     ]
    }
   ],
   "source": [
    "lst07 = [1,2,3,4,5,6,'pyskills', 18,1,2]\n",
    "\n",
    "\n",
    "check_item= 'pyskills'\n",
    "\n",
    "if check_item in lst07:\n",
    "        print(check_item, \"exists in the list\")\n",
    "else:\n",
    "       print(check_item, \"does not exists in the list\")\n",
    "        "
   ]
  },
  {
   "cell_type": "markdown",
   "id": "dd56c511-b224-4feb-8bb7-a03a20b7030d",
   "metadata": {},
   "source": [
    "8. Find the index of the first occurrence of an element in a list."
   ]
  },
  {
   "cell_type": "code",
   "execution_count": 41,
   "id": "1406acce-cadd-4670-9ff2-6027cb354af2",
   "metadata": {},
   "outputs": [
    {
     "data": {
      "text/plain": [
       "1"
      ]
     },
     "execution_count": 41,
     "metadata": {},
     "output_type": "execute_result"
    }
   ],
   "source": [
    "lst07 = [1,2,3,4,5,6,'pyskills', 18,1,2]\n",
    "\n",
    "lst07.index(2)"
   ]
  },
  {
   "cell_type": "markdown",
   "id": "cc269585-8162-4a6f-b77a-827cccc71cf3",
   "metadata": {},
   "source": [
    "9. Count the occurrences of an element in a list."
   ]
  },
  {
   "cell_type": "code",
   "execution_count": 42,
   "id": "0bc9f6bb-3046-4457-a72d-24ea8057a93e",
   "metadata": {},
   "outputs": [
    {
     "data": {
      "text/plain": [
       "2"
      ]
     },
     "execution_count": 42,
     "metadata": {},
     "output_type": "execute_result"
    }
   ],
   "source": [
    "lst07 = [1,2,3,4,5,6,'pyskills', 18,1,2]\n",
    "\n",
    "lst07.count(1)"
   ]
  },
  {
   "cell_type": "markdown",
   "id": "0e0c6901-9266-40c4-bd02-725452601810",
   "metadata": {},
   "source": [
    "10. Reverse the order of elements in a list."
   ]
  },
  {
   "cell_type": "code",
   "execution_count": 44,
   "id": "1d256dac-cfb5-468f-86eb-817fb12f64c4",
   "metadata": {},
   "outputs": [
    {
     "data": {
      "text/plain": [
       "[2, 1, 18, 'pyskills', 6, 5, 4, 3, 2, 1]"
      ]
     },
     "execution_count": 44,
     "metadata": {},
     "output_type": "execute_result"
    }
   ],
   "source": [
    "lst07 = [1,2,3,4,5,6,'pyskills', 18,1,2]\n",
    "\n",
    "lst07.reverse()\n",
    "\n",
    "lst07"
   ]
  },
  {
   "cell_type": "markdown",
   "id": "76530490-a9c9-4460-8e8a-7308e2a9cafd",
   "metadata": {},
   "source": [
    "11. Sort a list in ascending order."
   ]
  },
  {
   "cell_type": "code",
   "execution_count": 47,
   "id": "88908430-d1a1-49a7-adcb-ae6e9e6e5800",
   "metadata": {},
   "outputs": [
    {
     "data": {
      "text/plain": [
       "[1, 1, 2, 2, 3, 4, 5, 6, 18]"
      ]
     },
     "execution_count": 47,
     "metadata": {},
     "output_type": "execute_result"
    }
   ],
   "source": [
    "lst08 = [1,2,3,4,5,6, 18,1,2]\n",
    "\n",
    "lst08.sort()\n",
    "\n",
    "lst08"
   ]
  },
  {
   "cell_type": "markdown",
   "id": "aaf80418-6231-4cb0-b10c-6b3a469a296c",
   "metadata": {},
   "source": [
    "12. Sort a list in descending order."
   ]
  },
  {
   "cell_type": "code",
   "execution_count": 48,
   "id": "6e170935-ea38-4c2c-92a8-8a722dd71dd7",
   "metadata": {},
   "outputs": [
    {
     "data": {
      "text/plain": [
       "[18, 6, 5, 4, 3, 2, 2, 1, 1]"
      ]
     },
     "execution_count": 48,
     "metadata": {},
     "output_type": "execute_result"
    }
   ],
   "source": [
    "lst09 = [1,2,3,4,5,6, 18,1,2]\n",
    "\n",
    "lst09.sort(reverse=True)\n",
    "\n",
    "lst09"
   ]
  },
  {
   "cell_type": "markdown",
   "id": "390eb34f-de91-4ba0-b67d-aad593b7d0d4",
   "metadata": {},
   "source": [
    "13. Create a list of even numbers from 1 to 20."
   ]
  },
  {
   "cell_type": "code",
   "execution_count": 54,
   "id": "032fbab9-194b-4d75-841d-c05004563894",
   "metadata": {},
   "outputs": [
    {
     "data": {
      "text/plain": [
       "[2, 4, 6, 8, 10, 12, 14, 16, 18, 20]"
      ]
     },
     "execution_count": 54,
     "metadata": {},
     "output_type": "execute_result"
    }
   ],
   "source": [
    "lst10 =[]\n",
    "\n",
    "for i in range(1, 21):\n",
    "    if i%2==0:\n",
    "        lst10.append(i)\n",
    "    else:\n",
    "        pass\n",
    "lst10"
   ]
  },
  {
   "cell_type": "markdown",
   "id": "15a88e1c-d3ff-4ac1-819f-5ab6b171cca0",
   "metadata": {},
   "source": [
    "14. Create a list of odd numbers from 1 to 20."
   ]
  },
  {
   "cell_type": "code",
   "execution_count": 55,
   "id": "e83dbf46-1016-4072-9fe9-77f6d2edeaf1",
   "metadata": {},
   "outputs": [
    {
     "data": {
      "text/plain": [
       "[1, 3, 5, 7, 9, 11, 13, 15, 17, 19]"
      ]
     },
     "execution_count": 55,
     "metadata": {},
     "output_type": "execute_result"
    }
   ],
   "source": [
    "lst11 =[]\n",
    "\n",
    "for i in range(1, 21):\n",
    "    if i%2 ==1:\n",
    "        lst11.append(i)\n",
    "    else:\n",
    "        pass\n",
    "lst11"
   ]
  },
  {
   "cell_type": "markdown",
   "id": "1a789f5f-dfae-43ff-8024-56eba0668807",
   "metadata": {},
   "source": [
    "15. Find the sum of all elements in a list."
   ]
  },
  {
   "cell_type": "code",
   "execution_count": 57,
   "id": "9af3488f-41b3-4f5b-af78-853cf3b949db",
   "metadata": {},
   "outputs": [
    {
     "name": "stdout",
     "output_type": "stream",
     "text": [
      "The sum of all elements in a list is: 26\n"
     ]
    }
   ],
   "source": [
    "lst22 = [1,3,4,5,6,7]\n",
    "\n",
    "#Initiate sum as 0\n",
    "sum = 0\n",
    "\n",
    "#iterate through the list\n",
    "\n",
    "for i in lst22:\n",
    "        sum = sum + i\n",
    "        \n",
    "print(\"The sum of all elements in a list is:\", sum)"
   ]
  },
  {
   "cell_type": "markdown",
   "id": "d63bd9d1-5c26-46eb-935a-5ed9b1793bd6",
   "metadata": {},
   "source": [
    "16. Find the maximum value in a list."
   ]
  },
  {
   "cell_type": "code",
   "execution_count": 64,
   "id": "f7d37484-e414-4ca7-977b-eb7accb949d9",
   "metadata": {},
   "outputs": [
    {
     "name": "stdout",
     "output_type": "stream",
     "text": [
      "The max in a list is: 91\n"
     ]
    }
   ],
   "source": [
    "lst23 = [1,3,4,5,91,6,7]\n",
    "\n",
    "#Initiate max as 0\n",
    "max = 0\n",
    "\n",
    "#iterate through the list\n",
    "\n",
    "for i in lst23:\n",
    "        if i > max:\n",
    "             max =i\n",
    "                \n",
    "print(\"The max in a list is:\", max)"
   ]
  },
  {
   "cell_type": "markdown",
   "id": "3a154776-1283-4371-8f87-5a70f5024cc8",
   "metadata": {},
   "source": [
    "17. Find the minimum value in a list."
   ]
  },
  {
   "cell_type": "code",
   "execution_count": 78,
   "id": "a9584f23-c882-42f8-9c3d-50fd38ad2c98",
   "metadata": {},
   "outputs": [
    {
     "name": "stdout",
     "output_type": "stream",
     "text": [
      "The min in a list is: 2\n"
     ]
    }
   ],
   "source": [
    "lst24 = [2,3,4,5,91,6,7]\n",
    "\n",
    "#Initiate max as 0\n",
    "max = 0\n",
    "\n",
    "#iterate through the list\n",
    "\n",
    "for i in lst24:\n",
    "        if i > max:\n",
    "             max =i\n",
    "         \n",
    "\n",
    "#assiging min to max\n",
    "\n",
    "min = max\n",
    "\n",
    "#iterate through the list\n",
    "\n",
    "for j in lst24:\n",
    "        if j < min :\n",
    "             min =j\n",
    "                \n",
    "print(\"The min in a list is:\", min)"
   ]
  },
  {
   "cell_type": "markdown",
   "id": "7a68eeed-4dfc-455c-bcc4-50fc2942e44b",
   "metadata": {},
   "source": [
    "18. Create a list of squares of numbers from 1 to 10."
   ]
  },
  {
   "cell_type": "code",
   "execution_count": 82,
   "id": "7f82894e-9319-446d-b11f-a2f760a491bf",
   "metadata": {},
   "outputs": [
    {
     "data": {
      "text/plain": [
       "[1, 4, 9, 16, 25, 36, 49, 64, 81, 100]"
      ]
     },
     "execution_count": 82,
     "metadata": {},
     "output_type": "execute_result"
    }
   ],
   "source": [
    "sqlst =[]\n",
    "\n",
    "for i in range(1,11):\n",
    "    sqlst.append(i*i)\n",
    "\n",
    "sqlst\n"
   ]
  },
  {
   "cell_type": "markdown",
   "id": "bcc74134-e8a8-41a5-8471-78b327f006db",
   "metadata": {},
   "source": [
    "19. Create a list of random numbers."
   ]
  },
  {
   "cell_type": "code",
   "execution_count": 86,
   "id": "e3918ed9-8fb3-4104-8c4f-3b68e7b65a41",
   "metadata": {},
   "outputs": [
    {
     "name": "stdout",
     "output_type": "stream",
     "text": [
      "List of random integers [83, 84, 90, 88, 99, 42, 32, 66, 25, 34, 7, 25, 21, 98, 63, 24, 53, 28, 2, 6]\n"
     ]
    }
   ],
   "source": [
    "import random\n",
    "\n",
    "random_list = [random.randint(1,100) for i in range (20)]\n",
    "\n",
    "print(\"List of random integers\",random_list)\n",
    "            "
   ]
  },
  {
   "cell_type": "markdown",
   "id": "fc80c8c8-09fa-47f9-8470-ca0bcab0e006",
   "metadata": {},
   "source": [
    "20. Remove duplicates from a list."
   ]
  },
  {
   "cell_type": "code",
   "execution_count": 89,
   "id": "ac2420a1-0767-436e-ae10-f8ea2538d879",
   "metadata": {},
   "outputs": [
    {
     "data": {
      "text/plain": [
       "[2, 3, 4, 5, 6, 7, 8, 10]"
      ]
     },
     "execution_count": 89,
     "metadata": {},
     "output_type": "execute_result"
    }
   ],
   "source": [
    "#converting a list into sets removes duplicates from the list\n",
    "\n",
    "lst25 = [2,2,2,2,3,3,4,4,4,5,5,5,6,6,7,8,10,10]\n",
    "\n",
    "lst25_rd = list(set(lst25))\n",
    "\n",
    "lst25_rd"
   ]
  },
  {
   "cell_type": "markdown",
   "id": "16773c3c-eb9b-4c4f-bc57-d77920755613",
   "metadata": {},
   "source": [
    "21. Find the common elements between two lists."
   ]
  },
  {
   "cell_type": "code",
   "execution_count": 92,
   "id": "9705bc6a-ca8b-4aef-8c3b-631e78199afa",
   "metadata": {},
   "outputs": [
    {
     "name": "stdout",
     "output_type": "stream",
     "text": [
      "list of Common elements in list is [10, 30]\n"
     ]
    }
   ],
   "source": [
    "lst26 = [10,20,30,40,50]\n",
    "lst26A = [10,30,70,80]\n",
    "\n",
    "lst26_common = []\n",
    "\n",
    "for i in lst26:\n",
    "    if i in lst26A:\n",
    "        lst26_common.append(i)\n",
    "print(\"list of Common elements in list is\", lst26_common)"
   ]
  },
  {
   "cell_type": "markdown",
   "id": "426aa459-7e4c-4e39-a32c-13b66e3f3cc7",
   "metadata": {},
   "source": [
    "22. Find the difference between two lists."
   ]
  },
  {
   "cell_type": "code",
   "execution_count": 93,
   "id": "648c4744-b096-47a4-97b9-9a14a53aea03",
   "metadata": {},
   "outputs": [
    {
     "name": "stdout",
     "output_type": "stream",
     "text": [
      "Difference between two lists [20, 40, 50]\n"
     ]
    }
   ],
   "source": [
    "lst27 = [10,20,30,40,50]\n",
    "lst27A = [10,30,70,80]\n",
    "\n",
    "lst27_difference = []\n",
    "\n",
    "for i in lst26:\n",
    "    if i not in lst26A:\n",
    "        lst27_difference.append(i)\n",
    "print(\"Difference between two lists\", lst27_difference)"
   ]
  },
  {
   "cell_type": "markdown",
   "id": "c95ad611-eb33-47d7-919e-f40527dccb52",
   "metadata": {},
   "source": [
    "23. Merge two lists."
   ]
  },
  {
   "cell_type": "code",
   "execution_count": 94,
   "id": "646b4c45-6ac6-45c2-81bc-72929c389ea1",
   "metadata": {},
   "outputs": [
    {
     "name": "stdout",
     "output_type": "stream",
     "text": [
      "Merged List is [10, 20, 30, 40, 50, 10, 30, 70, 80]\n"
     ]
    }
   ],
   "source": [
    "lst28 = [10,20,30,40,50]\n",
    "lst29 = [10,30,70,80]\n",
    "\n",
    "merged_list = lst28 + lst29\n",
    "\n",
    "print(\"Merged List is\",merged_list)"
   ]
  },
  {
   "cell_type": "markdown",
   "id": "618b93e8-5842-420e-ae18-b614be40d76e",
   "metadata": {},
   "source": [
    "24. Multiply all elements in a list by 2."
   ]
  },
  {
   "cell_type": "code",
   "execution_count": 96,
   "id": "9e607029-627e-495c-b846-8bee055cef2e",
   "metadata": {},
   "outputs": [
    {
     "name": "stdout",
     "output_type": "stream",
     "text": [
      "New List is [20, 40, 60, 80, 100]\n"
     ]
    }
   ],
   "source": [
    "lst30 = [10,20,30,40,50]\n",
    "\n",
    "lst30_new =[]\n",
    "for i in lst30:\n",
    "           lst30_new.append(i*2)\n",
    "\n",
    "print(\"New List is\",lst30_new)  "
   ]
  },
  {
   "cell_type": "markdown",
   "id": "f27a5742-5ee1-44ec-80b2-8400ca623c93",
   "metadata": {},
   "source": [
    "25. Filter out all even numbers from a list."
   ]
  },
  {
   "cell_type": "code",
   "execution_count": 105,
   "id": "edffa50b-14c4-40c7-a46c-5ab8d4576980",
   "metadata": {},
   "outputs": [
    {
     "name": "stdout",
     "output_type": "stream",
     "text": [
      "New List with removed even number is [11, 21, 31, 41, 51, 61]\n"
     ]
    }
   ],
   "source": [
    "lst31 = [10,2,30,4,50, 11,21,31,41,51,61]\n",
    "\n",
    "filtered_lst31 =[]\n",
    "for i in lst31:\n",
    "    if i % 2  != 0:\n",
    "        filtered_lst31.append(i)\n",
    "\n",
    "print(\"New List with removed even number is\",filtered_lst31)  "
   ]
  },
  {
   "cell_type": "markdown",
   "id": "ab22f659-2897-4634-a0b6-e706a9382f83",
   "metadata": {},
   "source": [
    "26. Convert a list of strings to a list of integers."
   ]
  },
  {
   "cell_type": "code",
   "execution_count": 106,
   "id": "0b0b8af6-b90f-47a1-80ed-33c8320bb6e3",
   "metadata": {},
   "outputs": [
    {
     "name": "stdout",
     "output_type": "stream",
     "text": [
      "[10, 2, 30, 4, 50, 11, 21, 31, 41, 51, 61]\n"
     ]
    }
   ],
   "source": [
    "lst32 = ['10','2','30','4','50', '11','21','31','41','51','61']\n",
    "\n",
    "int_list= [int(i) for i in lst32]\n",
    "\n",
    "print(int_list)"
   ]
  },
  {
   "cell_type": "markdown",
   "id": "b9746792-1ce8-4925-a62e-b6acb25e3a70",
   "metadata": {},
   "source": [
    "27. Convert a list of integers to a list of strings."
   ]
  },
  {
   "cell_type": "code",
   "execution_count": 107,
   "id": "09895250-ae9f-403b-aca3-f0c7540a3eab",
   "metadata": {},
   "outputs": [
    {
     "name": "stdout",
     "output_type": "stream",
     "text": [
      "['10', '2', '30', '4', '50', '11', '21', '31', '41', '51', '61']\n"
     ]
    }
   ],
   "source": [
    "lst33 = [10, 2, 30, 4, 50, 11, 21, 31, 41, 51, 61]\n",
    "\n",
    "str_lst = [str(i) for i in lst33]\n",
    "\n",
    "print(str_lst)"
   ]
  },
  {
   "cell_type": "markdown",
   "id": "d3e41e77-9b14-41dd-bb6e-0065d8e62a51",
   "metadata": {},
   "source": [
    "28. Flatten a nested list."
   ]
  },
  {
   "cell_type": "code",
   "execution_count": 111,
   "id": "c7ee19d4-9b69-46f1-acd8-ed9c1a37350c",
   "metadata": {},
   "outputs": [
    {
     "name": "stdout",
     "output_type": "stream",
     "text": [
      "Flattended list is: [10, 20, 20, 30, 40, 50, 60, 70, 70, 80, 100]\n"
     ]
    }
   ],
   "source": [
    "lst33 = [10,20,[20,30,40],50,60, [70,70,80],100]\n",
    "\n",
    "#Create a function which takes nested list as argument\n",
    "def flattened_list(nested):\n",
    "    #Initiate an empty list\n",
    "    flt = []\n",
    "    for sublist in nested:\n",
    "        if isinstance(sublist, list):\n",
    "            flt.extend(flattened_list(sublist))\n",
    "        else:\n",
    "            flt.append(sublist)\n",
    "    return flt\n",
    "                        \n",
    "                       \n",
    "flat_list = flattened_list(lst33)\n",
    "                   \n",
    "    \n",
    "print(\"Flattended list is:\", flat_list)\n",
    "                         \n"
   ]
  },
  {
   "cell_type": "markdown",
   "id": "b609a8a7-2b44-4588-8952-fc374a4121d7",
   "metadata": {},
   "source": [
    "29. Create a list of the first 10 Fibonacci numbers."
   ]
  },
  {
   "cell_type": "code",
   "execution_count": 48,
   "id": "ca00724f-5bc8-445a-87e4-8494073cfc35",
   "metadata": {},
   "outputs": [
    {
     "name": "stdout",
     "output_type": "stream",
     "text": [
      "List of first 10 Fibonacci numbers [0, 1, 1, 2, 3, 5, 8, 13, 21, 34]\n"
     ]
    }
   ],
   "source": [
    "#Initiate a list with first 2 Fibonacci numbers\n",
    "\n",
    "fb_list=[0,1]\n",
    "\n",
    "for i in range(2,10):\n",
    "    next = fb_list[i-1] + fb_list[i-2]\n",
    "    fb_list.append(next)\n",
    "\n",
    "print(\"List of first 10 Fibonacci numbers\",fb_list)"
   ]
  },
  {
   "cell_type": "markdown",
   "id": "795c9dae-24db-46e2-923d-87186252e525",
   "metadata": {},
   "source": [
    "30. Check if a list is sorted."
   ]
  },
  {
   "cell_type": "code",
   "execution_count": 123,
   "id": "1118af95-1857-44e3-8e8f-ab1200234b0b",
   "metadata": {},
   "outputs": [
    {
     "name": "stdout",
     "output_type": "stream",
     "text": [
      "The list is sorted\n"
     ]
    }
   ],
   "source": [
    "lst33 = [10,20,30,40]\n",
    "\n",
    "#checking for all elements in list if every element is smaller than the next element.\n",
    "#We have to use -1 in len(lst33), otherwise it  will be out of range for last element\n",
    "\n",
    "if all(lst33[i] <= lst33[i+1] for i in range(len(lst33)-1)):\n",
    "    print(\"The list is sorted\")\n",
    "    \n",
    "else:\n",
    "        print(\"The list is not sorted\")"
   ]
  },
  {
   "cell_type": "markdown",
   "id": "68275bc8-c4da-4f24-896f-ad6a541a7838",
   "metadata": {},
   "source": [
    "31. Rotate a list to the left by `n` positions."
   ]
  },
  {
   "cell_type": "code",
   "execution_count": 125,
   "id": "30beb400-db9f-4e44-98e6-52d86e2f147f",
   "metadata": {},
   "outputs": [
    {
     "name": "stdin",
     "output_type": "stream",
     "text": [
      "Enter the positions to rotate 2\n"
     ]
    },
    {
     "name": "stdout",
     "output_type": "stream",
     "text": [
      "List rotated left by 2 elements is: [3, 4, 5, 6, 7, 8, 1, 2]\n"
     ]
    }
   ],
   "source": [
    "#initialize the list\n",
    "\n",
    "lst34 = [1,2,3,4,5,6,7,8]\n",
    "\n",
    "n = int(input(\"Enter the positions to rotate\"))\n",
    "\n",
    "if n > len(lst34):\n",
    "    n = n%lst34\n",
    "\n",
    "rotated_left = lst34[n:] + lst34[:n]\n",
    "\n",
    "print(f\"List rotated left by {n} elements is: {rotated_left}\")"
   ]
  },
  {
   "cell_type": "markdown",
   "id": "66a15d53-d132-40d0-ace2-212da19d2073",
   "metadata": {},
   "source": [
    "32. Rotate a list to the right by `n` positions."
   ]
  },
  {
   "cell_type": "code",
   "execution_count": 126,
   "id": "99146bf8-ce7f-40e4-aac1-1df13262742f",
   "metadata": {},
   "outputs": [
    {
     "name": "stdin",
     "output_type": "stream",
     "text": [
      "Enter the positions to rotate 2\n"
     ]
    },
    {
     "name": "stdout",
     "output_type": "stream",
     "text": [
      "List rotated right by 2 elements is: [7, 8, 1, 2, 3, 4, 5, 6]\n"
     ]
    }
   ],
   "source": [
    "lst35 = [1,2,3,4,5,6,7,8]\n",
    "n = int(input(\"Enter the positions to rotate\"))\n",
    "\n",
    "if n > len(lst35):\n",
    "    n = n%lst35\n",
    "    \n",
    "rotated_right = lst35[ -n:] + lst35[:-n]\n",
    "\n",
    "print(f\"List rotated right by {n} elements is: {rotated_right}\")"
   ]
  },
  {
   "cell_type": "markdown",
   "id": "aa3e17b4-c018-41ba-a0b5-1a7ab8161daa",
   "metadata": {},
   "source": [
    "33. Create a list of prime numbers up to 50."
   ]
  },
  {
   "cell_type": "code",
   "execution_count": 135,
   "id": "28e5c288-3777-4b2a-a12f-42bdbdace5a1",
   "metadata": {},
   "outputs": [
    {
     "data": {
      "text/plain": [
       "[2, 3, 5, 7, 11, 13, 17, 19, 23, 29, 31, 37, 41, 43, 47]"
      ]
     },
     "execution_count": 135,
     "metadata": {},
     "output_type": "execute_result"
    }
   ],
   "source": [
    "prime_list=[]\n",
    "            \n",
    "for num in range(2,50):\n",
    "    \n",
    "    #assume its prime number unless prove otherwise\n",
    "    isPrime = True\n",
    "    \n",
    "    for i in range(2, num):\n",
    "        \n",
    "         if num%i == 0:\n",
    "            isPrime = False\n",
    "    if isPrime:\n",
    "        prime_list.append(num)\n",
    "    \n",
    "prime_list"
   ]
  },
  {
   "cell_type": "markdown",
   "id": "0915dff5-fcdb-4ae5-af06-6ab1898d0bc6",
   "metadata": {},
   "source": [
    "34. Split a list into chunks of size `n`."
   ]
  },
  {
   "cell_type": "code",
   "execution_count": 4,
   "id": "2bc0494a-9d44-4489-8c38-bb20a598e315",
   "metadata": {},
   "outputs": [
    {
     "name": "stdout",
     "output_type": "stream",
     "text": [
      "[[1, 2], [3, 4], [5, 6], [7, 8]]\n"
     ]
    }
   ],
   "source": [
    "lst36= [1,2,3,4,5,6,7,8]\n",
    "\n",
    "#define a function to create split\n",
    "def split_list(lst, csize):\n",
    "\n",
    "#iterate through the list using for loop with increment of chunk size\n",
    "  for i in range(0, len(lst), csize):\n",
    "    yield lst[i:i + csize]\n",
    "\n",
    "chunk_size = 2\n",
    "\n",
    "print(list(split_list(lst36, chunk_size)))"
   ]
  },
  {
   "cell_type": "markdown",
   "id": "fd2aebab-1857-41ab-8400-cfc41f47300b",
   "metadata": {},
   "source": [
    "35. Find the second largest number in a list."
   ]
  },
  {
   "cell_type": "code",
   "execution_count": 6,
   "id": "49a6ba05-c15f-4897-817c-286420e77ee4",
   "metadata": {},
   "outputs": [
    {
     "data": {
      "text/plain": [
       "20"
      ]
     },
     "execution_count": 6,
     "metadata": {},
     "output_type": "execute_result"
    }
   ],
   "source": [
    "lst37= [1,20,30,4,5,6,7,8]\n",
    "\n",
    "#Sort the list in ascending order\n",
    "lst37.sort()\n",
    "\n",
    "#Second largest number will be at index -2 as largest number in sorted list will be the last one\n",
    "lst37[-2]"
   ]
  },
  {
   "cell_type": "markdown",
   "id": "bed5da0b-65e8-40b4-aca8-212465f99df3",
   "metadata": {},
   "source": [
    "36. Replace every element in a list with its square."
   ]
  },
  {
   "cell_type": "code",
   "execution_count": 7,
   "id": "c3d8f301-dfd0-482a-a8a9-7d889d5fdbf9",
   "metadata": {},
   "outputs": [
    {
     "data": {
      "text/plain": [
       "[4, 9, 16, 25, 36]"
      ]
     },
     "execution_count": 7,
     "metadata": {},
     "output_type": "execute_result"
    }
   ],
   "source": [
    "lst38 =[2,3,4,5,6]\n",
    "\n",
    "#Initiate an empty list\n",
    "\n",
    "lst38_sq=[]\n",
    "\n",
    "for i in lst38:\n",
    "    lst38_sq.append(i*i)\n",
    "lst38_sq\n",
    "    "
   ]
  },
  {
   "cell_type": "markdown",
   "id": "e539a224-396b-489a-a3db-2e6df92160f3",
   "metadata": {},
   "source": [
    "37. Convert a list to a dictionary where list elements become keys and their indices become values."
   ]
  },
  {
   "cell_type": "code",
   "execution_count": 22,
   "id": "fa01b4c2-a35b-42ca-8593-eee165c65968",
   "metadata": {},
   "outputs": [
    {
     "data": {
      "text/plain": [
       "{10: 0, 20: 1, 30: 5, 50: 6, 40: 4}"
      ]
     },
     "execution_count": 22,
     "metadata": {},
     "output_type": "execute_result"
    }
   ],
   "source": [
    "lst39 = [10,20,30,50,40,30,50]\n",
    "\n",
    "#Keys has to be unique , so instead of for loop, we will use enumerate to iterate the list\n",
    "dict_lst39 ={element: index for index, element in enumerate(lst39)}\n",
    "\n",
    "\n",
    "dict_lst39"
   ]
  },
  {
   "cell_type": "markdown",
   "id": "774e198e-a494-40af-baec-b4e2756699f1",
   "metadata": {},
   "source": [
    "38. Shuffle the elements of a list randomly."
   ]
  },
  {
   "cell_type": "code",
   "execution_count": 29,
   "id": "49d23e65-3106-4780-858e-59efd42f3f79",
   "metadata": {},
   "outputs": [
    {
     "data": {
      "text/plain": [
       "[10, 50, 40, 30, 30, 20, 50]"
      ]
     },
     "execution_count": 29,
     "metadata": {},
     "output_type": "execute_result"
    }
   ],
   "source": [
    "import random\n",
    "lst40 = [10,20,30,50,40,30,50]\n",
    "random.shuffle(lst40)\n",
    "\n",
    "lst40"
   ]
  },
  {
   "cell_type": "markdown",
   "id": "7506efd5-6ac2-4040-91e2-25d142011938",
   "metadata": {},
   "source": [
    "39. Create a list of the first 10 factorial numbers."
   ]
  },
  {
   "cell_type": "code",
   "execution_count": 30,
   "id": "7e44bf5f-bf0c-4764-b68a-613a8f18bc19",
   "metadata": {},
   "outputs": [
    {
     "name": "stdout",
     "output_type": "stream",
     "text": [
      "List for first 10 factorial numbers: [1, 1, 2, 6, 24, 120, 720, 5040, 40320, 362880]\n"
     ]
    }
   ],
   "source": [
    "def fact(n):\n",
    "    if n == 0 or n ==1:\n",
    "        return 1\n",
    "    else:\n",
    "        return n * fact(n-1) \n",
    "#create list with factorial numbers:\n",
    "\n",
    "fact_numbers = [fact(i) for i in range(10)]\n",
    "\n",
    "print(\"List for first 10 factorial numbers:\",fact_numbers)"
   ]
  },
  {
   "cell_type": "markdown",
   "id": "e6c27c54-bfb4-4bdc-8f1c-898cbe73240d",
   "metadata": {},
   "source": [
    "40. Check if two lists have at least one element in common."
   ]
  },
  {
   "cell_type": "code",
   "execution_count": 33,
   "id": "8eb40bb2-d7d0-4e8a-94ee-25089911e889",
   "metadata": {},
   "outputs": [
    {
     "name": "stdout",
     "output_type": "stream",
     "text": [
      "The lists have atleast one common item\n"
     ]
    }
   ],
   "source": [
    "lst40a = [10,20,30,40,50]\n",
    "lst40b = [20,30,40,50,60,70,80]\n",
    "\n",
    "def check_list_common(lst1,lst2):\n",
    "    for i in lst1:\n",
    "        if i in lst40b:\n",
    "            return True\n",
    "    return False\n",
    "if check_list_common(lst40a, lst40b):\n",
    "        print(\"The lists have atleast one common item\")\n",
    "        \n",
    "else:\n",
    "        print(\"No common items in lists\")"
   ]
  },
  {
   "cell_type": "markdown",
   "id": "af512d12-e8c3-4dda-8277-373726bf44e5",
   "metadata": {},
   "source": [
    "41. Remove all elements from a list."
   ]
  },
  {
   "cell_type": "code",
   "execution_count": 38,
   "id": "7ba5838e-6a59-4992-8fb0-7663f74e0a54",
   "metadata": {},
   "outputs": [
    {
     "data": {
      "text/plain": [
       "[]"
      ]
     },
     "execution_count": 38,
     "metadata": {},
     "output_type": "execute_result"
    }
   ],
   "source": [
    "lst41 = [10,20,30,40,50]\n",
    "\n",
    "lst41.clear()\n",
    "lst41\n"
   ]
  },
  {
   "cell_type": "markdown",
   "id": "767d1d93-832a-4c58-8551-f0533db1e39b",
   "metadata": {},
   "source": [
    "42. Replace negative numbers in a list with 0."
   ]
  },
  {
   "cell_type": "code",
   "execution_count": 39,
   "id": "bcebe180-fe3f-4bf2-8a79-ae625c01e1ba",
   "metadata": {},
   "outputs": [
    {
     "data": {
      "text/plain": [
       "[-10, -20, 30, 40, 50]"
      ]
     },
     "execution_count": 39,
     "metadata": {},
     "output_type": "execute_result"
    }
   ],
   "source": [
    "lst42 =[-10,-20,30,40,50]\n",
    "\n",
    "for i in range(len(lst41)):\n",
    "    if lst42[i] <0:\n",
    "        lst42[i] = 0\n",
    "lst42"
   ]
  },
  {
   "cell_type": "markdown",
   "id": "abab95d1-0b4a-4116-879c-44f53f0ee229",
   "metadata": {},
   "source": [
    "43. Convert a string into a list of words."
   ]
  },
  {
   "cell_type": "code",
   "execution_count": 40,
   "id": "23a40dad-f03a-4eca-bcda-e8956ca5468f",
   "metadata": {},
   "outputs": [
    {
     "name": "stdin",
     "output_type": "stream",
     "text": [
      "Enter the String Quick brown fox\n"
     ]
    },
    {
     "data": {
      "text/plain": [
       "['Quick', 'brown', 'fox']"
      ]
     },
     "execution_count": 40,
     "metadata": {},
     "output_type": "execute_result"
    }
   ],
   "source": [
    "str60 = input(\"Enter the String\")\n",
    "\n",
    "str60_s = str60.split()\n",
    "\n",
    "str60_s"
   ]
  },
  {
   "cell_type": "markdown",
   "id": "8a4071d9-382d-4b91-ab24-3b62f1923f1c",
   "metadata": {},
   "source": [
    "44. Convert a list of words into a string."
   ]
  },
  {
   "cell_type": "code",
   "execution_count": 42,
   "id": "2b9c3306-1b13-4142-b75b-54f7c2a93166",
   "metadata": {},
   "outputs": [
    {
     "name": "stdout",
     "output_type": "stream",
     "text": [
      "New String: Quick brown fox\n"
     ]
    }
   ],
   "source": [
    "word_list = ['Quick', 'brown', 'fox']\n",
    "\n",
    "str_words = \" \".join(word_list)\n",
    "\n",
    "print(\"New String:\", str_words)"
   ]
  },
  {
   "cell_type": "markdown",
   "id": "0d91dcb5-9c4c-427a-b419-42e380cf7f3e",
   "metadata": {},
   "source": [
    "45. Create a list of the first `n` powers of 2."
   ]
  },
  {
   "cell_type": "code",
   "execution_count": 43,
   "id": "3b97abb7-a9a5-4077-a732-b7008e3a5f40",
   "metadata": {},
   "outputs": [
    {
     "name": "stdin",
     "output_type": "stream",
     "text": [
      "Enter the value of n 6\n"
     ]
    },
    {
     "data": {
      "text/plain": [
       "[1, 2, 4, 8, 16, 32]"
      ]
     },
     "execution_count": 43,
     "metadata": {},
     "output_type": "execute_result"
    }
   ],
   "source": [
    "n = int(input(\"Enter the value of n\"))\n",
    "\n",
    "#using list comprehension\n",
    "\n",
    "power_n_list= [2 ** i for i in range(n)] \n",
    "\n",
    "power_n_list"
   ]
  },
  {
   "cell_type": "markdown",
   "id": "a4fa1d35-e325-4aeb-a851-1b8437fd6355",
   "metadata": {},
   "source": [
    "46. Find the longest string in a list of strings."
   ]
  },
  {
   "cell_type": "code",
   "execution_count": 46,
   "id": "42a9d904-abd9-46c5-bd10-3efdaada7c26",
   "metadata": {},
   "outputs": [
    {
     "data": {
      "text/plain": [
       "'CricketWorldCup'"
      ]
     },
     "execution_count": 46,
     "metadata": {},
     "output_type": "execute_result"
    }
   ],
   "source": [
    "str61 = [\"John\", \"Doe\", \"India\", \"Canada\", \"USA\", \"Banana\",\"CricketWorldCup\"]\n",
    "\n",
    "#iniiate empty string to store a value\n",
    "longest_str = \"\"\n",
    "\n",
    "for s in str61:\n",
    "    if len(s) > len(longest_str):\n",
    "        longest_str=s\n",
    "longest_str\n",
    "    "
   ]
  },
  {
   "cell_type": "markdown",
   "id": "75a89eb9-9318-4ad5-b7b0-bfb257bcc89f",
   "metadata": {},
   "source": [
    "47. Find the shortest string in a list of strings."
   ]
  },
  {
   "cell_type": "code",
   "execution_count": 48,
   "id": "a6808e5a-0f8e-4b3f-afad-49942cac23f3",
   "metadata": {},
   "outputs": [
    {
     "name": "stdout",
     "output_type": "stream",
     "text": [
      "Shortest string in the list is: Doe\n"
     ]
    }
   ],
   "source": [
    "str62=[\"John\", \"Doe\", \"India\", \"Canada\", \"USA\", \"Banana\",\"CricketWorldCup\"]\n",
    "\n",
    "#initiate with first string\n",
    "\n",
    "shortest_str=str62[0]\n",
    "\n",
    "for s in str62:\n",
    "    if len(s)<len(shortest_str):\n",
    "        shortest_str=s\n",
    "print(\"Shortest string in the list is:\",shortest_str)"
   ]
  },
  {
   "cell_type": "markdown",
   "id": "6d1d1f30-45df-4f78-981d-4bb2989e0d78",
   "metadata": {},
   "source": [
    "48. Create a list of the first n triangular numbers.\n"
   ]
  },
  {
   "cell_type": "code",
   "execution_count": 51,
   "id": "d9ad788e-e919-454a-ad38-3579d0550374",
   "metadata": {},
   "outputs": [
    {
     "name": "stdin",
     "output_type": "stream",
     "text": [
      "Enter the valube of n 5\n"
     ]
    },
    {
     "name": "stdout",
     "output_type": "stream",
     "text": [
      "List of triangular numbers [1, 3, 6, 10, 15]\n"
     ]
    }
   ],
   "source": [
    "def t_numbers(n):\n",
    "    return [i *(i+1)//2 for i in range(1, n+1)]\n",
    "\n",
    "num= int(input(\"Enter the valube of n\"))\n",
    "\n",
    "t_list = t_numbers(num)\n",
    "            \n",
    "print(\"List of triangular numbers\",t_list)"
   ]
  },
  {
   "cell_type": "markdown",
   "id": "07088473-5ce7-495e-818b-ce343a6846d1",
   "metadata": {},
   "source": [
    "49. Check if a list contains another list as a subsequence."
   ]
  },
  {
   "cell_type": "code",
   "execution_count": 55,
   "id": "61aa27a9-b861-4f53-a1e2-f014ddf3e333",
   "metadata": {},
   "outputs": [
    {
     "name": "stdout",
     "output_type": "stream",
     "text": [
      "list contains the subsequence\n"
     ]
    }
   ],
   "source": [
    "#Create the function which takes subsequence and main_list as parameters\n",
    "def is_subseq(subsequence, main_list):\n",
    "    subseq_index=0 \n",
    "    \n",
    "    #iterate through main list\n",
    "    for element in main_list:\n",
    "        if element == subsequence[subseq_index]: #if element in main list matches the element in subsequence, then move to next index in substring\n",
    "            subseq_index +=1\n",
    "            if subseq_index == len(subsequence): #if we reach end of the subsequence if it matches compleltly\n",
    "                return True\n",
    "    return False #if it doesn't matches\n",
    "\n",
    "lst43 = [1,2,3,4,5]\n",
    "sublst = [2,3,4]\n",
    "\n",
    "if is_subseq(sublst, lst43):\n",
    "    print(\"list contains the subsequence\")\n",
    "else:\n",
    "        print(\"list doesn't contain the subsequence\")\n",
    "        \n",
    "        \n",
    "    \n",
    "    "
   ]
  },
  {
   "cell_type": "markdown",
   "id": "da020108-d36e-4996-9628-3530a00902ef",
   "metadata": {},
   "source": [
    "50. Swap two elements in a list by their indices."
   ]
  },
  {
   "cell_type": "code",
   "execution_count": 56,
   "id": "c07b6a17-39d5-4015-956b-e064e8cb3323",
   "metadata": {},
   "outputs": [
    {
     "data": {
      "text/plain": [
       "[1, 4, 3, 2, 5, 6, 7]"
      ]
     },
     "execution_count": 56,
     "metadata": {},
     "output_type": "execute_result"
    }
   ],
   "source": [
    "lst45 =[1,2,3,4,5,6,7]\n",
    "\n",
    "#lets try swapping 2 with 4 which are in index 1 and index 3\n",
    "\n",
    "index1 = 1\n",
    "index2 = 3\n",
    "\n",
    "temp = lst45[index2]\n",
    "lst45[index2]=lst45[index1]\n",
    "lst45[index1]=temp\n",
    "\n",
    "lst45\n"
   ]
  },
  {
   "cell_type": "markdown",
   "id": "32995f05-9ec6-40e3-9024-070c738450d5",
   "metadata": {},
   "source": [
    "Topic: Tuple Based Practice Problem "
   ]
  },
  {
   "cell_type": "markdown",
   "id": "8ddd62ad-b431-4752-b703-302e6d695fa6",
   "metadata": {},
   "source": [
    "1. Create a tuple with integers from 1 to 5."
   ]
  },
  {
   "cell_type": "code",
   "execution_count": 64,
   "id": "739619e2-7968-44ab-a0ec-f423d3d8ff05",
   "metadata": {},
   "outputs": [
    {
     "name": "stdout",
     "output_type": "stream",
     "text": [
      "(1, 2, 3, 4, 5)\n"
     ]
    }
   ],
   "source": [
    "tup_lst1 = []\n",
    "\n",
    "for i in range(1,6):\n",
    "    tup_lst1.append(i)\n",
    "#Created a list from 1 to 5 and then converted into tuple    \n",
    "tup1=tuple(tup_lst1) \n",
    "print(tup1)"
   ]
  },
  {
   "cell_type": "markdown",
   "id": "d574556e-0ecd-4878-bdaf-430e52f95f06",
   "metadata": {},
   "source": [
    "2. Access the third element of a tuple."
   ]
  },
  {
   "cell_type": "code",
   "execution_count": 70,
   "id": "cb731340-42ca-43ad-b6f5-0dcf42b552f7",
   "metadata": {},
   "outputs": [
    {
     "data": {
      "text/plain": [
       "5"
      ]
     },
     "execution_count": 70,
     "metadata": {},
     "output_type": "execute_result"
    }
   ],
   "source": [
    "tup2=(2,4,5,6,7)\n",
    "\n",
    "#Third element is at index 2\n",
    "tup2[2]"
   ]
  },
  {
   "cell_type": "markdown",
   "id": "27fed92e-c120-4616-9a3f-a27d6eab5ceb",
   "metadata": {},
   "source": [
    "3. Find the length of a tuple without using the `len()` function."
   ]
  },
  {
   "cell_type": "code",
   "execution_count": 9,
   "id": "4b9578dc-cb0b-484e-8ba9-bb6786846d46",
   "metadata": {},
   "outputs": [
    {
     "name": "stdout",
     "output_type": "stream",
     "text": [
      "Length of tuple is: 7\n"
     ]
    }
   ],
   "source": [
    "tup3 =(1,5,6,7,8,7,9)\n",
    "\n",
    "tup_count= 0\n",
    "\n",
    "for i in tup3:\n",
    "    tup_count +=1\n",
    "\n",
    "print(f\"Length of tuple is: {tup_count}\")"
   ]
  },
  {
   "cell_type": "markdown",
   "id": "15566cb5-da50-4519-93f8-559546c27206",
   "metadata": {},
   "source": [
    "4. Count the occurrences of an element in a tuple."
   ]
  },
  {
   "cell_type": "code",
   "execution_count": 14,
   "id": "8dd6a38b-d194-4b84-8bb1-c233cc793075",
   "metadata": {},
   "outputs": [
    {
     "name": "stdin",
     "output_type": "stream",
     "text": [
      "Enter the element to check: 1\n"
     ]
    },
    {
     "name": "stdout",
     "output_type": "stream",
     "text": [
      "Number for occurences for element 1 is:3\n"
     ]
    }
   ],
   "source": [
    "tup5 = (1,1,3,4,5,6,1,2)\n",
    "\n",
    "num = int(input(\"Enter the element to check:\"))\n",
    "num_count=0\n",
    "\n",
    "for i in tup5:\n",
    "    if i == num:\n",
    "         num_count += 1\n",
    "\n",
    "print(f\"Number for occurences for element {num} is:{num_count}\")"
   ]
  },
  {
   "cell_type": "markdown",
   "id": "73c65064-e3ed-4e79-8e07-02bfb4180495",
   "metadata": {},
   "source": [
    "5. Find the index of the first occurrence of an element in a tuple."
   ]
  },
  {
   "cell_type": "code",
   "execution_count": 18,
   "id": "f4356794-de12-4061-841f-3ad99976fcf1",
   "metadata": {},
   "outputs": [
    {
     "name": "stdout",
     "output_type": "stream",
     "text": [
      "Index of first occurence for item is: 4\n"
     ]
    }
   ],
   "source": [
    "tup6 = (1,1,3,4,5,6,1,2,5)\n",
    "\n",
    "element_to_check=5\n",
    "element_index=0\n",
    "\n",
    "for item in tup6:\n",
    "    if item == element_to_check:\n",
    "        element_index = tup6.index(item)\n",
    "        \n",
    "print(\"Index of first occurence for item is:\",element_index)\n",
    "    "
   ]
  },
  {
   "cell_type": "markdown",
   "id": "22fca402-9924-4d01-b7bf-2b82dc6b7dab",
   "metadata": {},
   "source": [
    "6. Check if an element exists in a tuple."
   ]
  },
  {
   "cell_type": "code",
   "execution_count": 25,
   "id": "41123871-1a90-494f-8b03-2075ede72dd6",
   "metadata": {},
   "outputs": [
    {
     "name": "stdout",
     "output_type": "stream",
     "text": [
      "5 exists in the list\n"
     ]
    }
   ],
   "source": [
    "tup7 = (1,1,3,4,5,6,1,2,5)\n",
    "\n",
    "element_to_check=5\n",
    "\n",
    "\n",
    "if element_to_check in tup7:\n",
    "        print(f\"{element_to_check} exists in the list\")\n",
    "else:\n",
    "        print(\"Item doesn't exists in the list\")\n",
    "        \n",
    "    \n",
    "    "
   ]
  },
  {
   "cell_type": "markdown",
   "id": "5cd0c919-16a9-4a0e-9c2b-bdf3985bb307",
   "metadata": {},
   "source": [
    "7. Convert a tuple to a list."
   ]
  },
  {
   "cell_type": "code",
   "execution_count": 28,
   "id": "fdecfd47-497e-4e24-b8bf-64d4e9165b3a",
   "metadata": {},
   "outputs": [
    {
     "data": {
      "text/plain": [
       "[1, 1, 3, 4, 5, 6, 1, 2, 5]"
      ]
     },
     "execution_count": 28,
     "metadata": {},
     "output_type": "execute_result"
    }
   ],
   "source": [
    "tup7 = (1,1,3,4,5,6,1,2,5)\n",
    "\n",
    "tup7_list = list(tup7)\n",
    "\n",
    "tup7_list"
   ]
  },
  {
   "cell_type": "markdown",
   "id": "fe34c82e-c9d7-407a-9df4-bb97f7666f2e",
   "metadata": {},
   "source": [
    "8. Convert a list to a tuple."
   ]
  },
  {
   "cell_type": "code",
   "execution_count": 30,
   "id": "3ec42dc8-24d9-485e-8ef7-cc580f1aeda3",
   "metadata": {},
   "outputs": [
    {
     "data": {
      "text/plain": [
       "(1, 2, 4, 5, 6)"
      ]
     },
     "execution_count": 30,
     "metadata": {},
     "output_type": "execute_result"
    }
   ],
   "source": [
    "lst_1 = [1,2,4,5,6]\n",
    "\n",
    "tup_lst_1 =tuple(lst_1)\n",
    "\n",
    "tup_lst_1"
   ]
  },
  {
   "cell_type": "markdown",
   "id": "27080e1e-6d17-4f09-8e11-d8790ff2db6d",
   "metadata": {},
   "source": [
    "9. Unpack the elements of a tuple into variables."
   ]
  },
  {
   "cell_type": "code",
   "execution_count": 31,
   "id": "9c239fd1-74f8-4016-b172-6b5429b6cff5",
   "metadata": {},
   "outputs": [
    {
     "name": "stdout",
     "output_type": "stream",
     "text": [
      "var1: 1\n",
      "var2: 2\n",
      "var3: 3\n",
      "var4: 4\n"
     ]
    }
   ],
   "source": [
    "tup9 = (1,2,3,4)\n",
    "\n",
    "#assign them to different variables\n",
    "\n",
    "var1, var2, var3, var4 = tup9\n",
    "\n",
    "print(\"var1:\", var1)\n",
    "print(\"var2:\", var2)\n",
    "print(\"var3:\", var3)\n",
    "print(\"var4:\", var4)\n"
   ]
  },
  {
   "cell_type": "markdown",
   "id": "56a35622-f57e-4202-830c-8bdb63e94fbd",
   "metadata": {},
   "source": [
    "10. Create a tuple of even numbers from 1 to 10."
   ]
  },
  {
   "cell_type": "code",
   "execution_count": 34,
   "id": "fc4565d6-b3ad-445b-826a-85a85779039e",
   "metadata": {},
   "outputs": [
    {
     "name": "stdout",
     "output_type": "stream",
     "text": [
      "Tuples with even numbers: (2, 4, 6, 8, 10)\n"
     ]
    }
   ],
   "source": [
    "#create a list for even numbers\n",
    "\n",
    "lst_10 = [i for i in range(2,11,2)] #even numbers between 2 and 11 with increment step of 2\n",
    "\n",
    "tup_10 = tuple(lst_10) #Convert list to Tuple\n",
    "\n",
    "print(\"Tuples with even numbers:\", tup_10)"
   ]
  },
  {
   "cell_type": "markdown",
   "id": "c0a1ec2e-1602-426d-a469-15c26418e420",
   "metadata": {},
   "source": [
    "11. Create a tuple of odd numbers from 1 to 10."
   ]
  },
  {
   "cell_type": "code",
   "execution_count": 36,
   "id": "9a5f808a-a4a8-4499-8be2-2a3d5336e897",
   "metadata": {},
   "outputs": [
    {
     "name": "stdout",
     "output_type": "stream",
     "text": [
      "Tuples with odd numbers: (1, 3, 5, 7, 9)\n"
     ]
    }
   ],
   "source": [
    "#create a list for odd numbers as in above example\n",
    "\n",
    "lst_11 =[i for i in range(1,11,2)] #odd numbers with increament step of 2\n",
    "         \n",
    "tup_11 = tuple(lst_11) \n",
    "         \n",
    "print(\"Tuples with odd numbers:\", tup_11)\n",
    "         "
   ]
  },
  {
   "cell_type": "markdown",
   "id": "60b48bc8-2a3c-453f-a812-b0c838b2de85",
   "metadata": {},
   "source": [
    "12. Concatenate two tuples."
   ]
  },
  {
   "cell_type": "code",
   "execution_count": 37,
   "id": "0176f00d-2088-4dfb-89a5-d873cde428a5",
   "metadata": {},
   "outputs": [
    {
     "name": "stdout",
     "output_type": "stream",
     "text": [
      "Concatenated tuple is: (1, 2, 3, 10, 20, 30)\n"
     ]
    }
   ],
   "source": [
    "tup_12a = (1,2,3)\n",
    "tup_12b = (10,20,30)\n",
    "\n",
    "tup_12c = tup_12a + tup_12b\n",
    "\n",
    "print(\"Concatenated tuple is:\", tup_12c)"
   ]
  },
  {
   "cell_type": "markdown",
   "id": "5b6890e0-6c57-4054-88f1-573a80e99527",
   "metadata": {},
   "source": [
    "13. Repeat a tuple three times."
   ]
  },
  {
   "cell_type": "code",
   "execution_count": 3,
   "id": "cd0eab84-3ab1-4426-a28c-d485527526a0",
   "metadata": {},
   "outputs": [
    {
     "data": {
      "text/plain": [
       "(1, 2, 3, 1, 2, 3, 1, 2, 3)"
      ]
     },
     "execution_count": 3,
     "metadata": {},
     "output_type": "execute_result"
    }
   ],
   "source": [
    "tup_13 = (1,2,3)\n",
    "\n",
    "tup13_3 = tup_13 * 3\n",
    "\n",
    "tup13_3"
   ]
  },
  {
   "cell_type": "markdown",
   "id": "c3c83972-4bea-45c6-9e33-d040090edc0d",
   "metadata": {},
   "source": [
    "14. Check if a tuple is empty."
   ]
  },
  {
   "cell_type": "code",
   "execution_count": 7,
   "id": "541bc120-29d3-4019-94b2-56ea92dc4e9e",
   "metadata": {},
   "outputs": [
    {
     "name": "stdout",
     "output_type": "stream",
     "text": [
      " tup14_e: () is empty\n",
      " tup_14: (1, 2, 3) is not empty\n"
     ]
    }
   ],
   "source": [
    "tup14_e = ()\n",
    "\n",
    "tup_14 = (1,2,3)\n",
    "\n",
    "if not tup14_e:\n",
    "    print(f\" tup14_e: {tup14_e} is empty\")\n",
    "else:\n",
    "    print(f\" tup14_e: {tup14_e} is not empty\")\n",
    "    \n",
    "if not tup_14:\n",
    "    print(f\" tup_14: {tup_14} is empty\")\n",
    "else:\n",
    "    print(f\" tup_14: {tup_14} is not empty\")\n",
    "    \n",
    "\n"
   ]
  },
  {
   "cell_type": "markdown",
   "id": "fc2823da-d8e6-405c-91e5-60cbd528d49f",
   "metadata": {},
   "source": [
    "15. Create a nested tuple."
   ]
  },
  {
   "cell_type": "code",
   "execution_count": 11,
   "id": "d13118bb-6c49-4b24-ae67-fd22384b64a9",
   "metadata": {},
   "outputs": [
    {
     "name": "stdout",
     "output_type": "stream",
     "text": [
      "Nested Tuple: ((1, 2, 3), ('apple', 'banana', 'strawberry', 'mango'), (20, 30, 40))\n"
     ]
    }
   ],
   "source": [
    "nested_tuple = ((1,2,3), (\"apple\", \"banana\",\"strawberry\",\"mango\"), (20,30,40))\n",
    "\n",
    "print(\"Nested Tuple:\", nested_tuple)"
   ]
  },
  {
   "cell_type": "markdown",
   "id": "7d217329-4c83-455e-9a61-98d54db37c12",
   "metadata": {},
   "source": [
    "16. Access the first element of a nested tuple."
   ]
  },
  {
   "cell_type": "code",
   "execution_count": 14,
   "id": "20324ee3-d1b1-4744-99da-413cbee411fd",
   "metadata": {},
   "outputs": [
    {
     "name": "stdout",
     "output_type": "stream",
     "text": [
      "First element of nested Tuple is: (1, 2, 3)\n"
     ]
    }
   ],
   "source": [
    "nested_tuple_16 = ((1,2,3), (\"apple\", \"banana\",\"strawberry\",\"mango\"), (20,30,40))\n",
    "\n",
    "print(\"First element of nested Tuple is:\",nested_tuple_16[0])  #using indexing to access first element"
   ]
  },
  {
   "cell_type": "markdown",
   "id": "447cabc3-43e7-40cc-aaa8-3624b8eec536",
   "metadata": {},
   "source": [
    "17. Create a tuple with a single element."
   ]
  },
  {
   "cell_type": "code",
   "execution_count": 20,
   "id": "9810f018-d1dd-4e62-87ff-ae88930c489c",
   "metadata": {},
   "outputs": [
    {
     "name": "stdout",
     "output_type": "stream",
     "text": [
      "<class 'tuple'>\n",
      "<class 'int'>\n"
     ]
    }
   ],
   "source": [
    "#we need to use , after the number to create a tuple with single element. If we don't use comma, it will be an 'int' type\n",
    "\n",
    "tup17 =(21,)\n",
    "\n",
    "print(type(tup17))\n",
    "\n",
    "#if not using comma\n",
    "\n",
    "tup17i =(31)\n",
    "\n",
    "#it should be an int\n",
    "\n",
    "print(type(tup17i))"
   ]
  },
  {
   "cell_type": "markdown",
   "id": "e07efbfe-acdd-48d9-9cdf-d214345fb7b0",
   "metadata": {},
   "source": [
    "18. Compare two tuples."
   ]
  },
  {
   "cell_type": "code",
   "execution_count": 21,
   "id": "5d053120-b5c6-4f42-b33d-9b80332d19f7",
   "metadata": {},
   "outputs": [
    {
     "name": "stdout",
     "output_type": "stream",
     "text": [
      "tup18a == tup18b: False\n",
      "tup18a != tup18b: True\n",
      "tup18a < tup18b: True\n",
      "tup18a <= tup18b: True\n",
      "tup18a > tup18b: False\n",
      "tup18a >= tup18b: False\n"
     ]
    }
   ],
   "source": [
    "#We will comparee 2 tuples lexographically which means the tuple with numbers smaller in order. Please see example below\n",
    "\n",
    "tup18a=(1,5,7,8)\n",
    "tup18b = (1,5,7,9,10)\n",
    "\n",
    "print(\"tup18a == tup18b:\", tup18a == tup18b)  # Equality check\n",
    "print(\"tup18a != tup18b:\", tup18a != tup18b)  # Inequality check\n",
    "print(\"tup18a < tup18b:\", tup18a < tup18b)    # Less than check\n",
    "print(\"tup18a <= tup18b:\", tup18a <= tup18b)  # Less than or equal to check\n",
    "print(\"tup18a > tup18b:\", tup18a > tup18b)    # Greater than check\n",
    "print(\"tup18a >= tup18b:\", tup18a >= tup18b)  # Greater than or equal to check"
   ]
  },
  {
   "cell_type": "markdown",
   "id": "e3a9c203-8d5e-4a12-88ce-8fb36445244d",
   "metadata": {},
   "source": [
    "19. Delete a tuple."
   ]
  },
  {
   "cell_type": "code",
   "execution_count": 22,
   "id": "04702e0f-acc4-45f0-81d0-7796ced60ba0",
   "metadata": {},
   "outputs": [
    {
     "ename": "NameError",
     "evalue": "name 'tup19' is not defined",
     "output_type": "error",
     "traceback": [
      "\u001b[0;31m---------------------------------------------------------------------------\u001b[0m",
      "\u001b[0;31mNameError\u001b[0m                                 Traceback (most recent call last)",
      "Cell \u001b[0;32mIn[22], line 5\u001b[0m\n\u001b[1;32m      1\u001b[0m tup19 \u001b[38;5;241m=\u001b[39m (\u001b[38;5;241m20\u001b[39m,\u001b[38;5;241m20\u001b[39m,\u001b[38;5;241m40\u001b[39m)\n\u001b[1;32m      3\u001b[0m \u001b[38;5;28;01mdel\u001b[39;00m tup19\n\u001b[0;32m----> 5\u001b[0m \u001b[38;5;28mprint\u001b[39m(\u001b[43mtup19\u001b[49m)\n",
      "\u001b[0;31mNameError\u001b[0m: name 'tup19' is not defined"
     ]
    }
   ],
   "source": [
    "tup19 = (20,20,40)\n",
    "\n",
    "del tup19\n",
    "\n",
    "print(tup19)"
   ]
  },
  {
   "cell_type": "markdown",
   "id": "89c6602c-7d2c-4c09-97b5-5d142857ae56",
   "metadata": {},
   "source": [
    "20. Slice a Tuple"
   ]
  },
  {
   "cell_type": "code",
   "execution_count": 23,
   "id": "ded597da-4149-420c-ad86-cefefea11d56",
   "metadata": {},
   "outputs": [
    {
     "data": {
      "text/plain": [
       "(20, 40)"
      ]
     },
     "execution_count": 23,
     "metadata": {},
     "output_type": "execute_result"
    }
   ],
   "source": [
    "tup20 = (20,20,40,60,80,100,120)\n",
    "\n",
    "tup20[1:3]"
   ]
  },
  {
   "cell_type": "markdown",
   "id": "713bf2ef-51a4-46ee-8535-bb1ce0437b7b",
   "metadata": {},
   "source": [
    "21. Find the maximum value in a tuple."
   ]
  },
  {
   "cell_type": "code",
   "execution_count": 24,
   "id": "381f591c-00cf-4a3a-9a63-502c1e5cb969",
   "metadata": {},
   "outputs": [
    {
     "name": "stdout",
     "output_type": "stream",
     "text": [
      "Maximum value in Tuple: 80\n"
     ]
    }
   ],
   "source": [
    "tup21 =(10,20,30,40,70,10,20,80,4,5,6)\n",
    "\n",
    "max_tup = max(tup21)\n",
    "\n",
    "print(\"Maximum value in Tuple:\", max_tup)"
   ]
  },
  {
   "cell_type": "markdown",
   "id": "a05d6a7d-bee3-4ac7-b0c4-c005566d8d6b",
   "metadata": {},
   "source": [
    "22. Find the minimum value in a tuple."
   ]
  },
  {
   "cell_type": "code",
   "execution_count": 25,
   "id": "f251f371-97a4-4d0e-a04e-f5f7fa79c022",
   "metadata": {},
   "outputs": [
    {
     "name": "stdout",
     "output_type": "stream",
     "text": [
      "Maximum value in Tuple: 4\n"
     ]
    }
   ],
   "source": [
    "tup22 =(10,20,30,40,70,10,20,80,4,5,6)\n",
    "\n",
    "min_tup = min(tup21)\n",
    "\n",
    "print(\"Maximum value in Tuple:\", min_tup)"
   ]
  },
  {
   "cell_type": "markdown",
   "id": "29ea45dc-3f65-4355-b6c5-f43bc238dda9",
   "metadata": {},
   "source": [
    "23. Convert a string to a tuple of characters."
   ]
  },
  {
   "cell_type": "code",
   "execution_count": 27,
   "id": "316241a9-8b9d-464a-94de-836fd87fa30a",
   "metadata": {},
   "outputs": [
    {
     "name": "stdout",
     "output_type": "stream",
     "text": [
      "Tuple of characters: ('P', 'y', 's', 'k', 'i', 'l', 'l', 's', ' ', 'D', 'a', 't', 'a', ' ', 'S', 'c', 'i', 'e', 'n', 'c', 'e')\n"
     ]
    }
   ],
   "source": [
    "str = \"Pyskills Data Science\"\n",
    "\n",
    "tup23 = tuple(str)\n",
    "\n",
    "print(\"Tuple of characters:\", tup23)"
   ]
  },
  {
   "cell_type": "markdown",
   "id": "4e98419a-7a63-47c0-b2e7-0a80d512b83a",
   "metadata": {},
   "source": [
    "24. Convert a tuple of characters to a string."
   ]
  },
  {
   "cell_type": "code",
   "execution_count": 32,
   "id": "d59f651d-d36e-4026-9b14-97d9b5456a63",
   "metadata": {},
   "outputs": [
    {
     "name": "stdout",
     "output_type": "stream",
     "text": [
      "Converting Tuple of Characters to a string: Pyskills Data Science\n"
     ]
    }
   ],
   "source": [
    "tup_c =  ('P', 'y', 's', 'k', 'i', 'l', 'l', 's', ' ', 'D', 'a', 't', 'a', ' ', 'S', 'c', 'i', 'e', 'n', 'c', 'e')\n",
    "\n",
    "\n",
    "str_c = \"\".join(tup_c)\n",
    "\n",
    "print(\"Converting Tuple of Characters to a string:\",str_c)"
   ]
  },
  {
   "cell_type": "markdown",
   "id": "2eb7afa6-ce8f-4162-9914-05e44d53919a",
   "metadata": {},
   "source": [
    "25. Create a tuple from multiple data types."
   ]
  },
  {
   "cell_type": "code",
   "execution_count": 34,
   "id": "8bc67f94-5d47-4f37-acb5-f62ffdecdf45",
   "metadata": {},
   "outputs": [
    {
     "name": "stdout",
     "output_type": "stream",
     "text": [
      "Mixed Tuple is: ('Mixed', True, 12, 13.2)\n"
     ]
    }
   ],
   "source": [
    "mix_tuple = (\"Mixed\", True, 12, 13.2)\n",
    "\n",
    "print(\"Mixed Tuple is:\", mix_tuple)"
   ]
  },
  {
   "cell_type": "markdown",
   "id": "53ce2bc5-d1f9-4e91-bf1e-67e2da573b4d",
   "metadata": {},
   "source": [
    "26. Check if two tuples are identical."
   ]
  },
  {
   "cell_type": "code",
   "execution_count": 1,
   "id": "914ff24c-f186-4f3f-845c-c0a944ecdbec",
   "metadata": {},
   "outputs": [
    {
     "name": "stdout",
     "output_type": "stream",
     "text": [
      "Are tupA and tupB identical? False\n",
      "Are tupB and tupC identical? True\n"
     ]
    }
   ],
   "source": [
    "tupA = (1,2,3)\n",
    "tupB = (9,7,6)\n",
    "tupC = (9,7,6)\n",
    "\n",
    "check_tups_na = tupA == tupB\n",
    "check_tups_iden = tupB == tupC\n",
    "\n",
    "print(\"Are tupA and tupB identical?\", check_tups_na)\n",
    "print(\"Are tupB and tupC identical?\", check_tups_iden)\n"
   ]
  },
  {
   "cell_type": "markdown",
   "id": "4fbc005a-8b98-4ce4-bada-a2b762214584",
   "metadata": {},
   "source": [
    "27. Sort the elements of a tuple."
   ]
  },
  {
   "cell_type": "code",
   "execution_count": 3,
   "id": "0ff43197-d69f-49ed-be9c-a9fbc46f5cb6",
   "metadata": {},
   "outputs": [
    {
     "name": "stdout",
     "output_type": "stream",
     "text": [
      "Sorted tuple is: [3, 4, 5, 9, 11, 12, 32, 34, 56]\n"
     ]
    }
   ],
   "source": [
    "tup27 = (9,4,3,5,34,56,12,32,11)\n",
    "\n",
    "sorted_tuple = sorted(tup27)\n",
    "\n",
    "print(\"Sorted tuple is:\", sorted_tuple)"
   ]
  },
  {
   "cell_type": "markdown",
   "id": "61324091-7126-4dd2-b09b-7c754578944c",
   "metadata": {},
   "source": [
    "28. Convert a tuple of integers to a tuple of strings."
   ]
  },
  {
   "cell_type": "code",
   "execution_count": 11,
   "id": "9ded1636-4da9-46f3-85e2-8fee5e4b74ff",
   "metadata": {},
   "outputs": [
    {
     "name": "stdout",
     "output_type": "stream",
     "text": [
      "Transformed Tuple is ('1', '3', '4', '5')\n"
     ]
    }
   ],
   "source": [
    "tup28 = (1,3,4,5)\n",
    "\n",
    "#using map to transform every item to string in tuple. \n",
    "\n",
    "map_tup28 = tuple(map(str, tup28))\n",
    "\n",
    "print(\"Transformed Tuple is\", map_tup28)\n",
    "\n"
   ]
  },
  {
   "cell_type": "markdown",
   "id": "dac5ee8f-722d-47c9-bafa-eb4931b8ae2a",
   "metadata": {},
   "source": [
    "29. Convert a tuple of strings to a tuple of integers"
   ]
  },
  {
   "cell_type": "code",
   "execution_count": 9,
   "id": "6c2c6fec-54c3-48c7-80a9-659af073db26",
   "metadata": {},
   "outputs": [
    {
     "name": "stdout",
     "output_type": "stream",
     "text": [
      "Transformed Tuple is (23, 42, 32, 12)\n"
     ]
    }
   ],
   "source": [
    "tup29 = ('23', '42', '32','12')\n",
    "\n",
    "#again using map function to transform the tuple\n",
    "map_tup29 = tuple(map(int, tup29))\n",
    "\n",
    "print(\"Transformed Tuple is\", map_tup29)"
   ]
  },
  {
   "cell_type": "markdown",
   "id": "11c029cd-3186-46c6-92ab-380ce010738a",
   "metadata": {},
   "source": [
    "30. Merge two tuples."
   ]
  },
  {
   "cell_type": "code",
   "execution_count": 10,
   "id": "0f8dc595-ee65-4739-8e1c-60b78b2aafaf",
   "metadata": {},
   "outputs": [
    {
     "name": "stdout",
     "output_type": "stream",
     "text": [
      "Merged Tuples are (3, 4, 5, 20, 30, 89, 97)\n"
     ]
    }
   ],
   "source": [
    "tup30A = (3,4,5)\n",
    "tup30B = (20,30,89,97)\n",
    "\n",
    "print(\"Merged Tuples are\", tup30A + tup30B)"
   ]
  },
  {
   "cell_type": "markdown",
   "id": "d024c4fa-fb3f-4b06-9b27-bc418e17b833",
   "metadata": {},
   "source": [
    "31. Flatten a nested tuple."
   ]
  },
  {
   "cell_type": "code",
   "execution_count": 24,
   "id": "018ab5ef-35dd-4416-8e3f-269d5afb59f1",
   "metadata": {},
   "outputs": [
    {
     "name": "stdout",
     "output_type": "stream",
     "text": [
      "Extended Tuple is (1, 2, 3, 20, 30, 40, 'Apple', 'Mango')\n"
     ]
    }
   ],
   "source": [
    "tup31 = (1,2,3, (20,30,40), (\"Apple\",\"Mango\"))\n",
    "\n",
    "#it can be initiate  a list and then we can use extend fucntion\n",
    "\n",
    "\n",
    "\n",
    "def extend_tuple(nested_tuple):\n",
    "    lst31_t = []\n",
    "    for item in nested_tuple:\n",
    "        if isinstance(item, tuple):\n",
    "                lst31_t.extend(extend_tuple(item)) #here if loop encounters the tuple as element, it call itself again to get to point in loop to extend the nested tuple)\n",
    "        \n",
    "        else:\n",
    "            lst31_t.append(item)\n",
    "    return lst31_t\n",
    "        \n",
    "flattened_tuple = tuple(extend_tuple(tup31))\n",
    "\n",
    "print(\"Extended Tuple is\", flattened_tuple)\n",
    "        \n",
    "\n",
    "\n",
    "\n",
    "\n",
    "         \n",
    "         "
   ]
  },
  {
   "cell_type": "markdown",
   "id": "445d5f84-98f5-413d-becf-bb25d3617c57",
   "metadata": {},
   "source": [
    "32. Create a tuple of the first 5 prime numbers."
   ]
  },
  {
   "cell_type": "code",
   "execution_count": 43,
   "id": "87111151-b4e3-43ec-b17c-fb7406d5190a",
   "metadata": {},
   "outputs": [
    {
     "name": "stdout",
     "output_type": "stream",
     "text": [
      "Tuple with first 5 prime numbers (2, 3, 5, 7, 11)\n"
     ]
    }
   ],
   "source": [
    "#Initiate an empty List\n",
    "\n",
    "p_numbers = []\n",
    "\n",
    "for num in range(2,12):\n",
    "        #Assume number is prime, unless it is proven otherwise\n",
    "        IsPrime = True\n",
    "        \n",
    "        for i in range(2,num):\n",
    "            if num%i == 0:\n",
    "                IsPrime = False\n",
    "            \n",
    "        if IsPrime:\n",
    "                  p_numbers.append(num)\n",
    "                \n",
    "tuple_p_numbers = tuple(p_numbers)\n",
    "\n",
    "print(\"Tuple with first 5 prime numbers\", tuple_p_numbers)\n",
    "\n",
    "\n",
    "        \n",
    "        \n",
    "        "
   ]
  },
  {
   "cell_type": "markdown",
   "id": "22fe3e0f-3720-4b30-9d80-ff9211a3246c",
   "metadata": {},
   "source": [
    "33. Check if a tuple is a palindrome."
   ]
  },
  {
   "cell_type": "code",
   "execution_count": 44,
   "id": "832d70eb-71db-4e03-8a90-0d70ffc01f15",
   "metadata": {},
   "outputs": [
    {
     "name": "stdout",
     "output_type": "stream",
     "text": [
      "palindrome _tup is a palindrome tuple True\n",
      "nonpalindrome _tup is a non palindrome tuple False\n"
     ]
    }
   ],
   "source": [
    "def is_palindrome(tup):\n",
    "     return tup == tup[::-1]\n",
    "    \n",
    "palindrome_tup = (1,2,3,2,1)\n",
    "nonpalindrome_tup = (5,6,7,8,5)\n",
    "\n",
    "print(\"palindrome _tup is a palindrome tuple\",is_palindrome(palindrome_tup))\n",
    "print(\"nonpalindrome _tup is a non palindrome tuple\",is_palindrome(nonpalindrome_tup))\n",
    "        "
   ]
  },
  {
   "cell_type": "markdown",
   "id": "dc5fdd42-f275-4508-8df9-45f20a0c0937",
   "metadata": {},
   "source": [
    "34. Create a tuple of squares of numbers from 1 to 5."
   ]
  },
  {
   "cell_type": "code",
   "execution_count": 45,
   "id": "389d59f8-5f83-4e58-934d-caa74a592e9b",
   "metadata": {},
   "outputs": [
    {
     "name": "stdout",
     "output_type": "stream",
     "text": [
      "List of squared items in tuple (1, 4, 9, 16, 25)\n"
     ]
    }
   ],
   "source": [
    "tup34 =(1,2,3,4,5)\n",
    "\n",
    "#convert it into list as tuples are immutable\n",
    "tup34_list = list(tup34)\n",
    "#Initiate empty list\n",
    "\n",
    "tup34_list_sqr =[]\n",
    "\n",
    "for item in tup34_list:\n",
    "    item = item * item\n",
    "    tup34_list_sqr.append(item)\n",
    "\n",
    "#Converting list back to Tuple\n",
    "tup34_squared = tuple(tup34_list_sqr)\n",
    "    \n",
    "print(\"List of squared items in tuple\", tup34_squared )\n",
    "    "
   ]
  },
  {
   "cell_type": "markdown",
   "id": "cbfc5b79-73fa-4546-94d8-9ae63dafcea4",
   "metadata": {},
   "source": [
    "35. Filter out all even numbers from a tuple."
   ]
  },
  {
   "cell_type": "code",
   "execution_count": 46,
   "id": "b26fea9f-b86b-44e2-88b5-f7ff674f861c",
   "metadata": {},
   "outputs": [
    {
     "name": "stdout",
     "output_type": "stream",
     "text": [
      "Tuple with filtered out even numbers (1, 3, 5, 7, 9)\n"
     ]
    }
   ],
   "source": [
    "tup35 =(1,2,3,4,5,7,8,9,10)\n",
    "\n",
    "#Creating new tuple from original Tuple and storing all values which are not divided by 2\n",
    "tup35_filtered_even = tuple(num for num in tup35 if num%2 !=0)\n",
    "\n",
    "print(\"Tuple with filtered out even numbers\", tup35_filtered_even)\n"
   ]
  },
  {
   "cell_type": "markdown",
   "id": "ddffe126-409a-4f0a-b027-0ad9cda3a151",
   "metadata": {},
   "source": [
    "36. Multiply all elements in a tuple by 2."
   ]
  },
  {
   "cell_type": "code",
   "execution_count": 1,
   "id": "02ae3c94-f0f2-4e2d-a189-4205b7077cf3",
   "metadata": {},
   "outputs": [
    {
     "name": "stdout",
     "output_type": "stream",
     "text": [
      "Tuple with elements multiplies by 2 (2, 4, 6, 8, 10, 14, 16, 18, 20)\n"
     ]
    }
   ],
   "source": [
    "tup36 =(1,2,3,4,5,7,8,9,10)\n",
    "\n",
    "tup36_two= tuple(num*2 for num in tup36)\n",
    "\n",
    "\n",
    "print(\"Tuple with elements multiplies by 2\",tup36_two)"
   ]
  },
  {
   "cell_type": "markdown",
   "id": "0752b812-fb3d-4ff4-bec9-804f50b5302f",
   "metadata": {},
   "source": [
    "37. Create a tuple of random numbers."
   ]
  },
  {
   "cell_type": "code",
   "execution_count": 3,
   "id": "64d9463c-5475-479e-a6df-4ab0f383b312",
   "metadata": {},
   "outputs": [
    {
     "name": "stdout",
     "output_type": "stream",
     "text": [
      "Random Tuple: (93, 14, 55, 75, 93, 7, 70, 81, 79, 41, 18, 40, 24, 50, 42, 3, 41, 91, 53, 39)\n"
     ]
    }
   ],
   "source": [
    "import random\n",
    "\n",
    "rand_tuple = tuple(random.randint(1,100) for _ in range(20)) # _ is use as placeholder\n",
    "\n",
    "print(\"Random Tuple:\", rand_tuple)"
   ]
  },
  {
   "cell_type": "markdown",
   "id": "30cdcdf9-cb19-4d6d-8416-b2446196d420",
   "metadata": {},
   "source": [
    "38. Check if a tuple is sorted."
   ]
  },
  {
   "cell_type": "code",
   "execution_count": 10,
   "id": "a01ee607-243f-4861-b77e-8b4302637775",
   "metadata": {},
   "outputs": [
    {
     "name": "stdout",
     "output_type": "stream",
     "text": [
      "Sorted Tuple is sorted: True\n",
      "UnSorted Tuple is sorted: False\n"
     ]
    }
   ],
   "source": [
    "tup_sorted = (1,2,4,5,6,7,8)\n",
    "tup_unsorted = (1,42,14,15,6,17,8)\n",
    "def sortcheck(tup):\n",
    "    for i in range(len(tup)-1):\n",
    "        if tup[i] > tup[i+1]:\n",
    "            return False\n",
    "            \n",
    "    return True\n",
    "        \n",
    "print(\"Sorted Tuple is sorted:\", sortcheck(tup_sorted))\n",
    "print(\"UnSorted Tuple is sorted:\", sortcheck(tup_unsorted))\n",
    "        \n",
    "\n",
    "        \n"
   ]
  },
  {
   "cell_type": "markdown",
   "id": "464e4ce4-38b7-4836-bb77-8b111e2a8718",
   "metadata": {},
   "source": [
    "39. Rotate a tuple to the left by `n` positions."
   ]
  },
  {
   "cell_type": "code",
   "execution_count": 13,
   "id": "13837f52-9474-49b8-9116-8bb2799dc0f8",
   "metadata": {},
   "outputs": [
    {
     "name": "stdin",
     "output_type": "stream",
     "text": [
      "Enter the positions to rotate 3\n"
     ]
    },
    {
     "name": "stdout",
     "output_type": "stream",
     "text": [
      "List rotated left by 3 elements is: (4, 5, 6, 7, 8, 1, 2, 3)\n"
     ]
    }
   ],
   "source": [
    "tup39 = (1,2,3,4,5,6,7,8)\n",
    "tup_lst39 = list(tup39)\n",
    "\n",
    "n = int(input(\"Enter the positions to rotate\"))\n",
    "\n",
    "if n > len(tup_lst39):\n",
    "    n = n%tup_lst39\n",
    "\n",
    "list_rotated_left = tup_lst39[n:] + tup_lst39[:n]\n",
    "\n",
    "tup_r_left = tuple(list_rotated_left)\n",
    "\n",
    "print(f\"List rotated left by {n} elements is: {tup_r_left}\")"
   ]
  },
  {
   "cell_type": "markdown",
   "id": "551bf156-fdc9-4b16-841a-dc58a4793556",
   "metadata": {},
   "source": [
    "40. Rotate a tuple to the right by `n` positions."
   ]
  },
  {
   "cell_type": "code",
   "execution_count": 16,
   "id": "960fba25-e1cf-44e6-9db7-a7b238a48791",
   "metadata": {},
   "outputs": [
    {
     "name": "stdin",
     "output_type": "stream",
     "text": [
      "Enter the positions to rotate 3\n"
     ]
    },
    {
     "name": "stdout",
     "output_type": "stream",
     "text": [
      "List rotated left by 3 elements is: (6, 7, 8, 1, 2, 3, 4, 5)\n"
     ]
    }
   ],
   "source": [
    "tup40 = (1,2,3,4,5,6,7,8)\n",
    "tup_lst40 = list(tup40)\n",
    "\n",
    "n = int(input(\"Enter the positions to rotate\"))\n",
    "\n",
    "if n > len(tup_lst40):\n",
    "    n = n%tup_lst40\n",
    "\n",
    "list_rotated_right = tup_lst40[-n:] + tup_lst40[:-n]\n",
    "\n",
    "tup_r_right = tuple(list_rotated_right)\n",
    "\n",
    "print(f\"List rotated left by {n} elements is: {tup_r_right}\")"
   ]
  },
  {
   "cell_type": "markdown",
   "id": "1a1d5df5-ae1b-4660-8e72-d09281da80e8",
   "metadata": {},
   "source": [
    "41. Create a tuple of the first 5 Fibonacci numbers."
   ]
  },
  {
   "cell_type": "code",
   "execution_count": 19,
   "id": "7b726480-8d3e-45d6-b1cc-00dc38cb090c",
   "metadata": {},
   "outputs": [
    {
     "data": {
      "text/plain": [
       "(0, 1, 1, 2, 3)"
      ]
     },
     "execution_count": 19,
     "metadata": {},
     "output_type": "execute_result"
    }
   ],
   "source": [
    "def generate_fibonacci(num):\n",
    "    fibonacci = [0,1] #initiate with 0 and 1 as first 2 elements\n",
    "    while len(fibonacci) < num:\n",
    "        next_num = fibonacci[-1] + fibonacci[-2]\n",
    "        fibonacci.append(next_num)\n",
    "    return tuple(fibonacci)\n",
    "\n",
    "fib_tuple= generate_fibonacci(5)\n",
    "fib_tuple"
   ]
  },
  {
   "cell_type": "markdown",
   "id": "b0392552-23d9-4e56-be48-701ea46aeb18",
   "metadata": {},
   "source": [
    "42. Create a tuple from user input."
   ]
  },
  {
   "cell_type": "code",
   "execution_count": 24,
   "id": "3faf3f7a-a528-4a6b-81ec-a2fcecdcdbbb",
   "metadata": {},
   "outputs": [
    {
     "name": "stdin",
     "output_type": "stream",
     "text": [
      "Enter elements separated by comma  apple, banana, mango, orange\n"
     ]
    },
    {
     "name": "stdout",
     "output_type": "stream",
     "text": [
      "Tuple from User input: ('apple', ' banana', ' mango', ' orange')\n"
     ]
    }
   ],
   "source": [
    "get_elements = input(\"Enter elements separated by comma \")\n",
    "\n",
    "list_elements = get_elements.split(',')\n",
    "\n",
    "tuple_elements = tuple(list_elements)\n",
    "\n",
    "print(\"Tuple from User input:\", tuple_elements)"
   ]
  },
  {
   "cell_type": "markdown",
   "id": "e2f6f65e-0cd5-4a4f-ac10-c22be4ded858",
   "metadata": {},
   "source": [
    "43. Swap two elements in a tuple."
   ]
  },
  {
   "cell_type": "code",
   "execution_count": 27,
   "id": "89dfb86b-10aa-41a9-809b-dadd5a6f3cc8",
   "metadata": {},
   "outputs": [
    {
     "name": "stdout",
     "output_type": "stream",
     "text": [
      "Swapped Tuple: (10, 40, 30, 20, 50)\n"
     ]
    }
   ],
   "source": [
    "tup43 = (10,20,30, 40,50)\n",
    "\n",
    "#Swapping Tuple from index 1 to index 3\n",
    "index1=1\n",
    "index2=3\n",
    "\n",
    "swapped_tuple = tuple(\n",
    "                tup43[i] if i not in (index1, index2) else\n",
    "                tup43[index2] if i == index1 else\n",
    "                tup43[index1]\n",
    "                for i in range(len(tup43)))\n",
    "print(\"Swapped Tuple:\", swapped_tuple)\n",
    "    "
   ]
  },
  {
   "cell_type": "markdown",
   "id": "20e8dd68-d5c8-42af-bbc0-5beec0866d21",
   "metadata": {},
   "source": [
    "44. Reverse the elements of a tuple."
   ]
  },
  {
   "cell_type": "code",
   "execution_count": 32,
   "id": "ab3483ae-89d3-46f1-a879-3a848fb0c289",
   "metadata": {},
   "outputs": [
    {
     "data": {
      "text/plain": [
       "(5, 4, 3, 2, 1)"
      ]
     },
     "execution_count": 32,
     "metadata": {},
     "output_type": "execute_result"
    }
   ],
   "source": [
    "tup44 = (1,2,3,4,5)\n",
    "\n",
    "#Create a new tuple with elements in reverse of existing tuple as tuples are immutable\n",
    "\n",
    "tup44_rev = tuple(tup44[::-1])\n",
    "\n",
    "tup44_rev"
   ]
  },
  {
   "cell_type": "markdown",
   "id": "7e9a0f7b-8640-4355-b757-8396b7003aa9",
   "metadata": {},
   "source": [
    "45. Create a tuple of the first `n` powers of 2."
   ]
  },
  {
   "cell_type": "code",
   "execution_count": 4,
   "id": "d0600322-32ec-43f8-9e02-131d1d476aee",
   "metadata": {},
   "outputs": [
    {
     "name": "stdin",
     "output_type": "stream",
     "text": [
      "Enter the power of 2 i.e. value of n:  6\n"
     ]
    },
    {
     "data": {
      "text/plain": [
       "(1, 2, 4, 8, 16, 32)"
      ]
     },
     "execution_count": 4,
     "metadata": {},
     "output_type": "execute_result"
    }
   ],
   "source": [
    "n = int(input(\"Enter the power of 2 i.e. value of n: \"))\n",
    "\n",
    "#Initiate an empty list\n",
    "list_power2 = []\n",
    "\n",
    "for i in range(n):               #Here max i will be n-1\n",
    "    list_power2.append(2**i) \n",
    "\n",
    "tup_pow_n = tuple(list_power2)\n",
    "    \n",
    "tup_pow_n"
   ]
  },
  {
   "cell_type": "markdown",
   "id": "f0ec13a4-0f16-4451-86d3-a62eaae2829e",
   "metadata": {},
   "source": [
    "46. Find the longest string in a tuple of strings."
   ]
  },
  {
   "cell_type": "markdown",
   "id": "691681c0-2a9e-40f6-a6a1-67d08ae30276",
   "metadata": {},
   "source": [
    "47. Find the shortest string in a tuple of strings."
   ]
  },
  {
   "cell_type": "code",
   "execution_count": 11,
   "id": "377033a2-88d1-4db5-b708-bae88cafeda4",
   "metadata": {},
   "outputs": [
    {
     "name": "stdout",
     "output_type": "stream",
     "text": [
      "New String is: Apple Banana Sugar Lemon Rice\n",
      "Longest String is: Banana\n",
      "Shortest String is: Rice\n"
     ]
    }
   ],
   "source": [
    "tup46 = (\"Apple\", \"Banana\", \"Sugar\", \"Lemon\", \"Rice\")\n",
    "\n",
    "tup46_lst = list(tup46)\n",
    "\n",
    "#convert it into string\n",
    "\n",
    "tup46_str = \" \".join(tup46_lst)\n",
    "print(\"New String is:\",tup46_str)\n",
    "\n",
    "#Splitting the string\n",
    "\n",
    "tup46_str_split = tup46_str.split()\n",
    "\n",
    "longest_string = max(tup46_str_split, key=len)\n",
    "Shortest_string = min(tup46_str_split, key=len)\n",
    "print(\"Longest String is:\",longest_string)\n",
    "print(\"Shortest String is:\",Shortest_string)\n",
    "\n"
   ]
  },
  {
   "cell_type": "markdown",
   "id": "26cf341c-bbe8-442f-9345-5b9585403688",
   "metadata": {},
   "source": [
    "48. Create a tuple of the first `n` triangular numbers."
   ]
  },
  {
   "cell_type": "code",
   "execution_count": 12,
   "id": "af60c07c-f2ac-4359-b79b-6060af8a984c",
   "metadata": {},
   "outputs": [
    {
     "name": "stdin",
     "output_type": "stream",
     "text": [
      "Enter the valube of n 5\n"
     ]
    },
    {
     "name": "stdout",
     "output_type": "stream",
     "text": [
      "List of triangular numbers (1, 3, 6, 10, 15)\n"
     ]
    }
   ],
   "source": [
    "def t_numbers(n):\n",
    "    return [i *(i+1)//2 for i in range(1, n+1)]\n",
    "\n",
    "num= int(input(\"Enter the valube of n\"))\n",
    "\n",
    "t_list_tuple = tuple(t_numbers(num))\n",
    "            \n",
    "print(\"List of triangular numbers\",t_list_tuple)"
   ]
  },
  {
   "cell_type": "markdown",
   "id": "8da99000-4a2c-4417-89d6-23b8f3e6ca62",
   "metadata": {},
   "source": [
    "49. Check if a tuple contains another tuple as a subsequence."
   ]
  },
  {
   "cell_type": "code",
   "execution_count": 13,
   "id": "64125713-55b3-4536-b1fc-233e4103ff29",
   "metadata": {},
   "outputs": [
    {
     "name": "stdout",
     "output_type": "stream",
     "text": [
      "Main tuple contains subsequence tuple: True\n"
     ]
    }
   ],
   "source": [
    "def contains_subsequence(main_tuple, sub_tuple):\n",
    "    sub_length= len(sub_tuple)\n",
    "    for i in range(len(main_tuple) - sub_length +1):\n",
    "        if main_tuple[i:i+sub_length] == sub_tuple:\n",
    "            return  True\n",
    "    return False\n",
    "main_tuple = (3,4,5,20,30,40)\n",
    "\n",
    "sub_tuple = (3,4,5)\n",
    "\n",
    "contains_subseq = contains_subsequence(main_tuple, sub_tuple)\n",
    "\n",
    "print(\"Main tuple contains subsequence tuple:\",contains_subseq)\n"
   ]
  },
  {
   "cell_type": "markdown",
   "id": "6e6c3b8d-ec0d-4f31-b214-412e10840863",
   "metadata": {},
   "source": [
    "50. Create a tuple of alternating 1s and 0s of length `n`."
   ]
  },
  {
   "cell_type": "code",
   "execution_count": 14,
   "id": "a61b2893-2607-4cd7-bd4c-efe3d6e8bcf8",
   "metadata": {},
   "outputs": [
    {
     "data": {
      "text/plain": [
       "(0, 1, 0, 1, 0, 1, 0, 1, 0, 1, 0, 1, 0, 1, 0, 1, 0, 1, 0, 1, 0)"
      ]
     },
     "execution_count": 14,
     "metadata": {},
     "output_type": "execute_result"
    }
   ],
   "source": [
    "n = 20\n",
    "\n",
    "tup50 = tuple(num%2 for num in range(n+1))\n",
    "\n",
    "tup50"
   ]
  },
  {
   "cell_type": "markdown",
   "id": "79e46115-41b9-4d8c-be46-4a190340f069",
   "metadata": {},
   "source": [
    "TOPIC: Set Based Practice Problem"
   ]
  },
  {
   "cell_type": "markdown",
   "id": "f9ed350e-8164-4dc1-91e8-924143d8c449",
   "metadata": {},
   "source": [
    "1. Create a set with integers from 1 to 5."
   ]
  },
  {
   "cell_type": "code",
   "execution_count": 3,
   "id": "5905b6e7-bd1d-42c3-8a26-58dcbd73e0e2",
   "metadata": {},
   "outputs": [
    {
     "data": {
      "text/plain": [
       "{1, 2, 3, 4, 5}"
      ]
     },
     "execution_count": 3,
     "metadata": {},
     "output_type": "execute_result"
    }
   ],
   "source": [
    "#Initiate an empty set\n",
    "set1 = set()\n",
    "\n",
    "#Keep on adding values using add function\n",
    "for num in range(1,6):\n",
    "    set1.add(num)\n",
    "    \n",
    "set1\n",
    "\n"
   ]
  },
  {
   "cell_type": "markdown",
   "id": "fc819073-e758-4086-9f4a-46ee3234e5e5",
   "metadata": {},
   "source": [
    "2. Add an element to a set."
   ]
  },
  {
   "cell_type": "code",
   "execution_count": 4,
   "id": "16d5950a-7e15-4a55-91fd-7eed36f3ce7f",
   "metadata": {},
   "outputs": [
    {
     "name": "stdout",
     "output_type": "stream",
     "text": [
      "Existing values in set: {1, 2, 3, 4, 5}\n",
      "Set after adding new element: {1, 2, 3, 4, 5, 6}\n"
     ]
    }
   ],
   "source": [
    "#Using set1 from above example\n",
    "\n",
    "print(\"Existing values in set:\", set1)\n",
    "\n",
    "element_to_add=6\n",
    "\n",
    "set1.add(element_to_add)\n",
    "\n",
    "print(\"Set after adding new element:\", set1)\n",
    "\n",
    "\n"
   ]
  },
  {
   "cell_type": "markdown",
   "id": "dc505566-5e8e-473a-b9d5-1ab4640efe56",
   "metadata": {},
   "source": [
    "3. Remove an element from a set."
   ]
  },
  {
   "cell_type": "code",
   "execution_count": 5,
   "id": "0cf13d96-6851-42f0-8fec-65366f26ccee",
   "metadata": {},
   "outputs": [
    {
     "name": "stdout",
     "output_type": "stream",
     "text": [
      "Existing values in set: {1, 2, 3, 4, 5, 6}\n",
      "Set after removing the element: {1, 2, 3, 4, 5}\n"
     ]
    }
   ],
   "source": [
    "#Using set1 from above example\n",
    "print(\"Existing values in set:\", set1)\n",
    "\n",
    "set1.remove(6)\n",
    "\n",
    "print(\"Set after removing the element:\", set1)"
   ]
  },
  {
   "cell_type": "markdown",
   "id": "9251cae5-b981-4902-9df0-479172f2da03",
   "metadata": {},
   "source": [
    "4. Check if an element exists in a set."
   ]
  },
  {
   "cell_type": "code",
   "execution_count": 9,
   "id": "41d146a9-82c7-4d51-91a4-7dd779cdec1c",
   "metadata": {},
   "outputs": [
    {
     "name": "stdout",
     "output_type": "stream",
     "text": [
      "Existing values in set: {1, 2, 3, 4, 5}\n",
      "element is present in set\n"
     ]
    }
   ],
   "source": [
    "#Using set1 from above example\n",
    "print(\"Existing values in set:\", set1)\n",
    "\n",
    "element_to_check = 5  \n",
    "\n",
    "if element_to_check in set1:\n",
    "            print(\"element is present in set\")\n",
    "else:\n",
    "            print(\"element is not present in set\")\n"
   ]
  },
  {
   "cell_type": "markdown",
   "id": "af8f5b4f-4837-460f-9f10-dfcf396d9c4f",
   "metadata": {},
   "source": [
    "5. Find the length of a set without using the `len()` function."
   ]
  },
  {
   "cell_type": "code",
   "execution_count": 11,
   "id": "8c28b023-7cb9-4982-8f14-10f8851895b1",
   "metadata": {},
   "outputs": [
    {
     "name": "stdout",
     "output_type": "stream",
     "text": [
      "Existing values in set: {1, 2, 3, 4, 5}\n",
      "length of set is 5\n"
     ]
    }
   ],
   "source": [
    "#Using set1 from above example\n",
    "print(\"Existing values in set:\", set1)\n",
    "\n",
    "\n",
    "count=0\n",
    "\n",
    "for i in set1:\n",
    "    count+=1\n",
    "    \n",
    "print(\"length of set is\", count)"
   ]
  },
  {
   "cell_type": "markdown",
   "id": "95a0af20-b1fd-4a8c-85e9-0254fbc20021",
   "metadata": {},
   "source": [
    "6. Clear all elements from a set."
   ]
  },
  {
   "cell_type": "code",
   "execution_count": 12,
   "id": "f1a42003-2101-4668-aeb9-642ea5198437",
   "metadata": {},
   "outputs": [
    {
     "name": "stdout",
     "output_type": "stream",
     "text": [
      "Existing values in set: {1, 2, 3, 4, 5}\n",
      "Set after clearing all the elements set()\n"
     ]
    }
   ],
   "source": [
    "#Using set1 from above example\n",
    "print(\"Existing values in set:\", set1)\n",
    "\n",
    "set1.clear()\n",
    "\n",
    "print(\"Set after clearing all the elements\",set1)"
   ]
  },
  {
   "cell_type": "markdown",
   "id": "3a23ff8a-556f-475b-b831-c99d523bb02a",
   "metadata": {},
   "source": [
    "7. Create a set of even numbers from 1 to 10."
   ]
  },
  {
   "cell_type": "code",
   "execution_count": 13,
   "id": "755f37c6-49b5-4f40-8db0-5d57c66ebea4",
   "metadata": {},
   "outputs": [
    {
     "name": "stdout",
     "output_type": "stream",
     "text": [
      "Set of even numbers: {2, 4, 6, 8, 10}\n"
     ]
    }
   ],
   "source": [
    "#create an empty set\n",
    "\n",
    "set2=set()\n",
    "\n",
    "for i in range(1,11):\n",
    "    if i%2 ==0:\n",
    "        set2.add(i)\n",
    "print(\"Set of even numbers:\", set2)"
   ]
  },
  {
   "cell_type": "markdown",
   "id": "c6c926af-b79a-4b00-ab8d-89362648a09f",
   "metadata": {},
   "source": [
    "8. Create a set of odd numbers from 1 to 10.\n"
   ]
  },
  {
   "cell_type": "code",
   "execution_count": 15,
   "id": "e674ec31-3435-4740-b7e6-a32b59b4bc2f",
   "metadata": {},
   "outputs": [
    {
     "name": "stdout",
     "output_type": "stream",
     "text": [
      "Set of odd numbers: {1, 3, 5, 7, 9}\n"
     ]
    }
   ],
   "source": [
    "set3 = set()\n",
    "\n",
    "for i in range(1,10):\n",
    "    if i in range(1,10):\n",
    "        if i%2 != 0:\n",
    "            set3.add(i)\n",
    "print(\"Set of odd numbers:\", set3)"
   ]
  },
  {
   "cell_type": "markdown",
   "id": "c0c39383-ae2f-4d95-9ce0-1a87177327b6",
   "metadata": {},
   "source": [
    "9. Find the union of two sets."
   ]
  },
  {
   "cell_type": "code",
   "execution_count": 17,
   "id": "6666c386-9c62-4cdc-8a81-c11349235f91",
   "metadata": {},
   "outputs": [
    {
     "name": "stdout",
     "output_type": "stream",
     "text": [
      "Union of set4 and set5 are: {1, 2, 3, 4, 5, 6, 7}\n"
     ]
    }
   ],
   "source": [
    "set4 = {1,2,3,4,5}\n",
    "set5 = {5,6,7}\n",
    "\n",
    "set6 = set4.union(set5)\n",
    "\n",
    "print(\"Union of set4 and set5 are:\", set6)"
   ]
  },
  {
   "cell_type": "markdown",
   "id": "a30f84bc-dc90-4cf7-a55b-220be051cc41",
   "metadata": {},
   "source": [
    "10. Find the intersection of two sets."
   ]
  },
  {
   "cell_type": "code",
   "execution_count": 18,
   "id": "220eed86-3cbf-4c4d-9b51-29c886ef5fec",
   "metadata": {},
   "outputs": [
    {
     "name": "stdout",
     "output_type": "stream",
     "text": [
      "Intersection of set4 and set5 are: {5}\n"
     ]
    }
   ],
   "source": [
    "set4 = {1,2,3,4,5}\n",
    "set5 = {5,6,7}\n",
    "\n",
    "set7 = set4.intersection(set5)\n",
    "\n",
    "print(\"Intersection of set4 and set5 are:\", set7)"
   ]
  },
  {
   "cell_type": "markdown",
   "id": "1c54a348-adc6-40f2-9de3-daf85c122445",
   "metadata": {},
   "source": [
    "11. Find the difference between two sets."
   ]
  },
  {
   "cell_type": "code",
   "execution_count": 19,
   "id": "985bfd80-7cbf-4cb2-83a8-5935b638403c",
   "metadata": {},
   "outputs": [
    {
     "name": "stdout",
     "output_type": "stream",
     "text": [
      "Intersection of set4 and set5 are: {1, 2, 3, 4}\n"
     ]
    }
   ],
   "source": [
    "set4 = {1,2,3,4,5}\n",
    "set5 = {5,6,7}\n",
    "\n",
    "set8 = set4.difference(set5)\n",
    "\n",
    "print(\"Intersection of set4 and set5 are:\", set8)"
   ]
  },
  {
   "cell_type": "markdown",
   "id": "ce0f1e20-408a-4d65-a44c-e1c9ba32cb03",
   "metadata": {},
   "source": [
    "12. Check if a set is a subset of another set."
   ]
  },
  {
   "cell_type": "code",
   "execution_count": 20,
   "id": "d2b1558b-0bdf-40bb-a84d-fe23510953a9",
   "metadata": {},
   "outputs": [
    {
     "name": "stdout",
     "output_type": "stream",
     "text": [
      "setB is subset of setA\n"
     ]
    }
   ],
   "source": [
    "setA = {1,2,3,4,5,6}\n",
    "setB = {2,3,4}\n",
    "\n",
    "if setB.issubset(setA):\n",
    "    print(\"setB is subset of setA\")\n",
    "else:\n",
    "    print(\"setB is not subset of setA\")"
   ]
  },
  {
   "cell_type": "markdown",
   "id": "76d9d234-4624-4e48-a2fc-e7db1eda71e0",
   "metadata": {},
   "source": [
    "13. Check if a set is a superset of another set."
   ]
  },
  {
   "cell_type": "code",
   "execution_count": 21,
   "id": "f0e3c9de-d743-4ec1-8e1d-0478a421f59e",
   "metadata": {},
   "outputs": [
    {
     "name": "stdout",
     "output_type": "stream",
     "text": [
      "setA is superset of setB\n"
     ]
    }
   ],
   "source": [
    "setA = {1,2,3,4,5,6}\n",
    "setB = {2,3,4}\n",
    "\n",
    "if setA.issuperset(setB):\n",
    "    print(\"setA is superset of setB\")\n",
    "else:\n",
    "    print(\"setA is not superset of setB\")"
   ]
  },
  {
   "cell_type": "markdown",
   "id": "cdb0e447-35e9-45d0-bc33-eae356229955",
   "metadata": {},
   "source": [
    "14. Create a set from a list."
   ]
  },
  {
   "cell_type": "code",
   "execution_count": 22,
   "id": "007ae499-37f4-4330-8cc8-a39c831261a7",
   "metadata": {},
   "outputs": [
    {
     "name": "stdout",
     "output_type": "stream",
     "text": [
      "Created set from list is {1, 3, 4, 5, 9, 10}\n"
     ]
    }
   ],
   "source": [
    "example_list =[1,3,4,5,9,9,9,10,10]\n",
    "\n",
    "set_list = set(example_list)\n",
    "\n",
    "print(\"Created set from list is\", set_list)"
   ]
  },
  {
   "cell_type": "markdown",
   "id": "8558d8b6-e318-40a3-aac3-01b28aff871a",
   "metadata": {},
   "source": [
    "15. Convert a set to a list."
   ]
  },
  {
   "cell_type": "code",
   "execution_count": 23,
   "id": "8708d2b4-e41b-4355-8d87-44562f5d44d4",
   "metadata": {},
   "outputs": [
    {
     "name": "stdout",
     "output_type": "stream",
     "text": [
      "Created list from the set is [1, 2, 3, 4, 5, 6, 7, 8]\n"
     ]
    }
   ],
   "source": [
    "ex_set = {1,2,3,4,5,6,6,7,8}\n",
    "\n",
    "ex_list = list(ex_set)\n",
    "\n",
    "print(\"Created list from the set is\", ex_list)"
   ]
  },
  {
   "cell_type": "markdown",
   "id": "58da29d5-11d2-4bd7-9cef-c18953686a45",
   "metadata": {},
   "source": [
    "16. Remove a random element from a set."
   ]
  },
  {
   "cell_type": "code",
   "execution_count": 31,
   "id": "29e8e4a7-12d2-4361-9a92-9b8932afdf17",
   "metadata": {},
   "outputs": [
    {
     "name": "stdout",
     "output_type": "stream",
     "text": [
      "Random element is 3\n",
      "Set after removing random element is: {1, 2, 4, 5}\n"
     ]
    }
   ],
   "source": [
    "set16 = {1,2,3,4,5}\n",
    "\n",
    "import random\n",
    "\n",
    "random_element = random.choice(list(set16))\n",
    "\n",
    "print(\"Random element is\",random_element)\n",
    "\n",
    "set16.remove(random_element)\n",
    "\n",
    "print(\"Set after removing random element is:\",set16)\n"
   ]
  },
  {
   "cell_type": "markdown",
   "id": "c0e002a6-049d-4b2f-9dab-7a04a57e8a26",
   "metadata": {},
   "source": [
    "17. Pop an element from a set."
   ]
  },
  {
   "cell_type": "code",
   "execution_count": 37,
   "id": "6caeec72-3241-4319-9759-b81dd87f971c",
   "metadata": {},
   "outputs": [
    {
     "name": "stdout",
     "output_type": "stream",
     "text": [
      "Set after popping element {2, 3, 4, 5, 6, 7, 8, 9}\n"
     ]
    }
   ],
   "source": [
    "set17 = {1,2,3,4,5,6,7,8,9}\n",
    "\n",
    "set17.pop()\n",
    "\n",
    "print(\"Set after popping element\", set17)"
   ]
  },
  {
   "cell_type": "markdown",
   "id": "3b1ba2d8-8773-4cd5-939c-d9d95930beeb",
   "metadata": {},
   "source": [
    "18. Check if two sets have no elements in common."
   ]
  },
  {
   "cell_type": "code",
   "execution_count": 41,
   "id": "3fb0d560-8b4b-4a07-bb0c-b9073d44fe1c",
   "metadata": {},
   "outputs": [
    {
     "name": "stdout",
     "output_type": "stream",
     "text": [
      "no common elements in the set\n"
     ]
    }
   ],
   "source": [
    "set1 = {1,2,3,4}\n",
    "set2 ={5,6,7,8}\n",
    "\n",
    "if set1.intersection(set2) == set():\n",
    "    print(\"no common elements in the set\")\n",
    "else:\n",
    "    print(\"Common elements in sets are:\", set1.intersection(set2))\n",
    "    "
   ]
  },
  {
   "cell_type": "markdown",
   "id": "3903eaf9-492e-48ca-80e7-020a991170a9",
   "metadata": {},
   "source": [
    "19. Find the symmetric difference between two sets."
   ]
  },
  {
   "cell_type": "code",
   "execution_count": 42,
   "id": "030fe5cb-22af-474a-9fb6-fe8c48d053bc",
   "metadata": {},
   "outputs": [
    {
     "name": "stdout",
     "output_type": "stream",
     "text": [
      "Symmetric difference between 2 sets is {4, 6, 8, 9}\n"
     ]
    }
   ],
   "source": [
    "set19a = {1,2,4,5,6}\n",
    "set19b = {2,5,8,9,1}\n",
    "\n",
    "symmetric_diff = set19a ^ set19b\n",
    "\n",
    "print(\"Symmetric difference between 2 sets is\",symmetric_diff)"
   ]
  },
  {
   "cell_type": "markdown",
   "id": "9b961d3b-2fa7-4d7d-a0bb-87db7b03967a",
   "metadata": {},
   "source": [
    "20. Update a set with elements from another set."
   ]
  },
  {
   "cell_type": "code",
   "execution_count": 43,
   "id": "ff78112a-b039-4005-ba04-dc9858b59fdb",
   "metadata": {},
   "outputs": [
    {
     "name": "stdout",
     "output_type": "stream",
     "text": [
      "Original set is: {1, 2, 3}\n",
      "Set from Original set needs to be update: {3, 4, 5}\n",
      "Updated set is: {1, 2, 3, 4, 5}\n"
     ]
    }
   ],
   "source": [
    "set1 = {1,2,3}\n",
    "set2 ={3,4,5}\n",
    "\n",
    "print(\"Original set is:\",set1)\n",
    "print(\"Set from Original set needs to be update:\",set2)\n",
    "set1.update(set2)\n",
    "\n",
    "print(\"Updated set is:\",set1)"
   ]
  },
  {
   "cell_type": "markdown",
   "id": "d119c7fd-08a2-4acb-9a17-113d40c91461",
   "metadata": {},
   "source": [
    "21. Create a set of the first 5 prime numbers."
   ]
  },
  {
   "cell_type": "code",
   "execution_count": 45,
   "id": "bfac03e6-7206-4d59-b2ba-7162086f83e7",
   "metadata": {},
   "outputs": [
    {
     "name": "stdout",
     "output_type": "stream",
     "text": [
      "Set with first 5 prime numbers {2, 3, 5, 7, 11}\n"
     ]
    }
   ],
   "source": [
    "#Initiate an empty set\n",
    "\n",
    "set_prime = set()\n",
    "\n",
    "for num in range(2,12):\n",
    "        #Assume number is prime, unless it is proven otherwise\n",
    "        IsPrime = True\n",
    "        \n",
    "        for i in range(2,num):\n",
    "            if num%i == 0:\n",
    "                IsPrime = False\n",
    "            \n",
    "        if IsPrime:\n",
    "                  set_prime.add(num)\n",
    "\n",
    "print(\"Set with first 5 prime numbers\",set_prime)\n",
    "\n",
    "\n",
    "        \n",
    "        \n",
    "        "
   ]
  },
  {
   "cell_type": "markdown",
   "id": "ea4b9aaa-d4ab-43de-955a-07f4dfaaeed1",
   "metadata": {},
   "source": [
    "22. Check if two sets are identical."
   ]
  },
  {
   "cell_type": "code",
   "execution_count": 50,
   "id": "5983ad8f-313a-4f4a-ac26-42591b59a3cc",
   "metadata": {},
   "outputs": [
    {
     "name": "stdout",
     "output_type": "stream",
     "text": [
      "Check for identical sets-setA and setC: True\n",
      "Check for identical sets-setA and setB: False\n"
     ]
    }
   ],
   "source": [
    "setA = {1,2,3}\n",
    "setB = {1,2,3,4}\n",
    "setC= {3,1,2}\n",
    "\n",
    "def identical_sets(set1,set2):\n",
    "    if set1 == set2:\n",
    "        return True\n",
    "    else:\n",
    "        return False\n",
    "\n",
    "print(\"Check for identical sets-setA and setC:\", identical_sets(setA,setC))\n",
    "print(\"Check for identical sets-setA and setB:\", identical_sets(setA,setB))\n",
    "\n"
   ]
  },
  {
   "cell_type": "markdown",
   "id": "f7f3c53f-3a75-427b-a89a-ac8354c39052",
   "metadata": {},
   "source": [
    "23. Create a frozen set."
   ]
  },
  {
   "cell_type": "code",
   "execution_count": 55,
   "id": "3478be85-ccc8-4125-9ac9-94246c442ff9",
   "metadata": {},
   "outputs": [
    {
     "name": "stdout",
     "output_type": "stream",
     "text": [
      "frozenset({1, 3, 4, 5, 6})\n"
     ]
    },
    {
     "ename": "AttributeError",
     "evalue": "'frozenset' object has no attribute 'add'",
     "output_type": "error",
     "traceback": [
      "\u001b[0;31m---------------------------------------------------------------------------\u001b[0m",
      "\u001b[0;31mAttributeError\u001b[0m                            Traceback (most recent call last)",
      "Cell \u001b[0;32mIn[55], line 7\u001b[0m\n\u001b[1;32m      3\u001b[0m frozen_set \u001b[38;5;241m=\u001b[39m \u001b[38;5;28mfrozenset\u001b[39m(element_lists)\n\u001b[1;32m      5\u001b[0m \u001b[38;5;28mprint\u001b[39m(frozen_set)\n\u001b[0;32m----> 7\u001b[0m \u001b[43mfrozen_set\u001b[49m\u001b[38;5;241;43m.\u001b[39;49m\u001b[43madd\u001b[49m(\u001b[38;5;241m10\u001b[39m) \u001b[38;5;66;03m#it will throw an error as frozen sets are immuatble\u001b[39;00m\n",
      "\u001b[0;31mAttributeError\u001b[0m: 'frozenset' object has no attribute 'add'"
     ]
    }
   ],
   "source": [
    "element_lists = [1,3,4,5,6] #elements to be includes in frozen set\n",
    "\n",
    "frozen_set = frozenset(element_lists)\n",
    "\n",
    "print(frozen_set)\n",
    "\n",
    "frozen_set.add(10) #it will throw an error as frozen sets are immuatble"
   ]
  },
  {
   "cell_type": "markdown",
   "id": "ac36a636-b804-4b77-8203-dac13cedaca7",
   "metadata": {},
   "source": [
    "24. Check if a set is disjoint with another set."
   ]
  },
  {
   "cell_type": "code",
   "execution_count": 56,
   "id": "6c5af96b-b2dd-4193-950d-9ffa191da2a7",
   "metadata": {},
   "outputs": [
    {
     "name": "stdout",
     "output_type": "stream",
     "text": [
      "Test if sets are disjoint: True\n"
     ]
    }
   ],
   "source": [
    "set1 = {1,2,3,4,5}\n",
    "set2 = {9,10,11,12}\n",
    "\n",
    "print(\"Test if sets are disjoint:\", set1.isdisjoint(set2))"
   ]
  },
  {
   "cell_type": "markdown",
   "id": "9a2ff5c7-a275-4c30-8fee-3e9f1bb5b496",
   "metadata": {},
   "source": [
    "25. Create a set of squares of numbers from 1 to 5."
   ]
  },
  {
   "cell_type": "code",
   "execution_count": 57,
   "id": "0c7e9f4f-b72f-4a08-894d-0bce782857ad",
   "metadata": {},
   "outputs": [
    {
     "name": "stdout",
     "output_type": "stream",
     "text": [
      "Set of squares of numbers from 1 to 5 {1, 4, 9, 16, 25}\n"
     ]
    }
   ],
   "source": [
    "set25 = set(num*num for num in range(1,6))\n",
    "\n",
    "print(\"Set of squares of numbers from 1 to 5\", set25)\n",
    "\n"
   ]
  },
  {
   "cell_type": "markdown",
   "id": "a4d36d01-b044-4ce8-8400-0b2d6081c2f3",
   "metadata": {},
   "source": [
    "26. Filter out all even numbers from a set."
   ]
  },
  {
   "cell_type": "code",
   "execution_count": 59,
   "id": "d7a115b8-3dd4-447f-b829-d1ed59b479b9",
   "metadata": {},
   "outputs": [
    {
     "name": "stdout",
     "output_type": "stream",
     "text": [
      "Filtered set with even numbers is: {2, 4, 6, 8, 10}\n"
     ]
    }
   ],
   "source": [
    "set26 = {1,2,3,4,5,6,7,8,9,10}\n",
    "even_set = set()\n",
    "\n",
    "for num in set26:\n",
    "    if num%2 == 0:\n",
    "        even_set.add(num)\n",
    "print(\"Filtered set with even numbers is:\", even_set)"
   ]
  },
  {
   "cell_type": "markdown",
   "id": "4ff8a9f1-c6fc-4645-86bf-61f6ef51f496",
   "metadata": {},
   "source": [
    "27. Multiply all elements in a set by 2."
   ]
  },
  {
   "cell_type": "code",
   "execution_count": 60,
   "id": "9fa18fee-fab5-4df4-b350-ac07e1e5d9ff",
   "metadata": {},
   "outputs": [
    {
     "name": "stdout",
     "output_type": "stream",
     "text": [
      "Set multiplied by2: {2, 4, 6, 8, 10}\n"
     ]
    }
   ],
   "source": [
    "set27 ={1,2,3,4,5}\n",
    "\n",
    "set27_double = set(num*2 for num in set27)\n",
    "\n",
    "print(\"Set multiplied by2:\",set27_double)"
   ]
  },
  {
   "cell_type": "markdown",
   "id": "1065967b-d9b6-49f0-9417-f331bb5eb582",
   "metadata": {},
   "source": [
    "28. Create a set of random numbers."
   ]
  },
  {
   "cell_type": "code",
   "execution_count": 62,
   "id": "3a6a1799-87cd-4a9f-9481-94ca48af9bc2",
   "metadata": {},
   "outputs": [
    {
     "name": "stdout",
     "output_type": "stream",
     "text": [
      "Set with random numbers: {36, 7, 40, 75, 79, 80, 21, 54, 55, 26}\n"
     ]
    }
   ],
   "source": [
    "import random\n",
    "\n",
    "#Initialize empty set\n",
    "set28 = set()\n",
    "\n",
    "#Number of random numbers needed in a set\n",
    "\n",
    "numbers_in_set = 10\n",
    "\n",
    "for _ in range(numbers_in_set):\n",
    "    random_number = random.randint(1,100)\n",
    "    set28.add(random_number)\n",
    "    \n",
    "print(\"Set with random numbers:\", set28)\n",
    "\n"
   ]
  },
  {
   "cell_type": "markdown",
   "id": "001cfee0-ad0f-4ee2-bb35-baa70edc8aa0",
   "metadata": {},
   "source": [
    "29. Check if a set is empty."
   ]
  },
  {
   "cell_type": "code",
   "execution_count": 71,
   "id": "e5cc1456-7c38-42a4-ad1f-c055a753acb2",
   "metadata": {},
   "outputs": [
    {
     "name": "stdout",
     "output_type": "stream",
     "text": [
      "Set is empty\n"
     ]
    }
   ],
   "source": [
    "set29_e = set()\n",
    "\n",
    "if not set29_e:\n",
    "        print(\"Set is empty\")\n",
    "\n",
    "else:\n",
    "         print(\"set is non-empty\")\n",
    "\n",
    "\n",
    "\n"
   ]
  },
  {
   "cell_type": "markdown",
   "id": "faa37a31-9db9-455d-ab6e-df5008bb79c0",
   "metadata": {},
   "source": [
    "30. Create a nested set (hint: use frozenset)."
   ]
  },
  {
   "cell_type": "code",
   "execution_count": 73,
   "id": "a8feff32-ec7f-42e5-a4ec-bbd9b4b602d1",
   "metadata": {},
   "outputs": [
    {
     "name": "stdout",
     "output_type": "stream",
     "text": [
      "Nested Set: {frozenset({1, 2, 3, 4, 5}), frozenset({2, 3, 4, 5, 6, 7})}\n"
     ]
    }
   ],
   "source": [
    "set1 = {1,2,3,4,5}\n",
    "set2 = {2,3,4,5,6,7}\n",
    "\n",
    "frozenset1 = frozenset(set1)\n",
    "frozenset2 = frozenset(set2)\n",
    "\n",
    "print(\"Nested Set:\",{frozenset1, frozenset2})\n"
   ]
  },
  {
   "cell_type": "markdown",
   "id": "c17d7d38-16e4-4d2f-a2f8-13c551637b11",
   "metadata": {},
   "source": [
    "31. Remove an element from a set using the discard method."
   ]
  },
  {
   "cell_type": "code",
   "execution_count": 74,
   "id": "3057a693-e71e-41cf-905b-60b9d00e4738",
   "metadata": {},
   "outputs": [
    {
     "data": {
      "text/plain": [
       "{1, 2, 4, 5}"
      ]
     },
     "execution_count": 74,
     "metadata": {},
     "output_type": "execute_result"
    }
   ],
   "source": [
    "set1 = {1,2,3,4,5}\n",
    "\n",
    "set1.discard(3)\n",
    "\n",
    "set1"
   ]
  },
  {
   "cell_type": "markdown",
   "id": "0873169f-d024-483d-991f-dcd69a2eab56",
   "metadata": {},
   "source": [
    "32. Compare two sets."
   ]
  },
  {
   "cell_type": "code",
   "execution_count": 3,
   "id": "e211be4e-cc53-4795-95e3-7689f0f5c832",
   "metadata": {},
   "outputs": [
    {
     "name": "stdout",
     "output_type": "stream",
     "text": [
      "set1: {1, 2, 3, 4, 5, 6}\n",
      "set2: {6, 7, 8, 9, 10}\n",
      "set3: {1, 2, 4}\n",
      "Is Set 3 Subset of Set 1 True\n",
      "Is Set 1 superset of Set 3 True\n",
      "elements in set 1 but not in set 3 {3, 5, 6}\n",
      "elements in set 2 but not in set 1 {8, 9, 10, 7}\n",
      "Intersection between set1 and set 2 {6}\n"
     ]
    }
   ],
   "source": [
    "set1 = {1,2,3,4,5,6}\n",
    "set2 = {6,7,8,9,10}\n",
    "set3 = {1,2,4}\n",
    "\n",
    "#check for subset\n",
    "is_subset = set3.issubset(set1)\n",
    "\n",
    "#check for superset\n",
    "\n",
    "is_superset = set1.issuperset(set3)\n",
    "\n",
    "#check for difference. elements in set 1 but not in set 3\n",
    "\n",
    "difference1 = set1.difference(set3)\n",
    "\n",
    "#check for difference. elements in set 2 but not in set 1\n",
    "\n",
    "difference2 = set2.difference(set1)\n",
    "\n",
    "\n",
    "#check for Intersection\n",
    "\n",
    "intersection = set1.intersection(set2)\n",
    "\n",
    "\n",
    "print(\"set1:\", set1)\n",
    "\n",
    "print(\"set2:\", set2)\n",
    "\n",
    "print(\"set3:\", set3)\n",
    "\n",
    "print(\"Is Set 3 Subset of Set 1\", is_subset)\n",
    "\n",
    "print(\"Is Set 1 superset of Set 3\", is_superset)\n",
    "\n",
    "print(\"elements in set 1 but not in set 3\", difference1)\n",
    "\n",
    "print(\"elements in set 2 but not in set 1\", difference2)\n",
    "\n",
    "print(\"Intersection between set1 and set 2\", intersection)"
   ]
  },
  {
   "cell_type": "markdown",
   "id": "e73b86b5-1c0d-4990-a9fe-4cb7913a8b42",
   "metadata": {},
   "source": [
    "33. Create a set from a string."
   ]
  },
  {
   "cell_type": "code",
   "execution_count": 12,
   "id": "8c75d25e-1671-4433-bed7-3eb250179883",
   "metadata": {},
   "outputs": [
    {
     "name": "stdout",
     "output_type": "stream",
     "text": [
      "Split String is: {'l', 'o', 'e', 'H'}\n"
     ]
    }
   ],
   "source": [
    "str_33 = \"Hello\"\n",
    "\n",
    "set_str_33 = set(str_33)\n",
    "print(\"Split String is:\", set_str_33)\n"
   ]
  },
  {
   "cell_type": "markdown",
   "id": "21a0b006-5430-4f77-85c9-a72e72347450",
   "metadata": {},
   "source": [
    "34. Convert a set of strings to a set of integers."
   ]
  },
  {
   "cell_type": "code",
   "execution_count": 14,
   "id": "8dae9989-add9-42d7-b7a2-3ae13c8e51ad",
   "metadata": {},
   "outputs": [
    {
     "name": "stdout",
     "output_type": "stream",
     "text": [
      "Output set is: {10, 20, 30}\n"
     ]
    }
   ],
   "source": [
    "set34 = {'10','20','30'}\n",
    "\n",
    "#Initiate an empty set\n",
    "set34_int = set()\n",
    "\n",
    "for i in set34:\n",
    "    i = int(i)\n",
    "    set34_int.add(i)\n",
    "    \n",
    "print(\"Output set is:\", set34_int)"
   ]
  },
  {
   "cell_type": "markdown",
   "id": "1cae1b02-516f-4ad7-81f1-ca960db05b66",
   "metadata": {},
   "source": [
    "35. Convert a set of integers to a set of strings."
   ]
  },
  {
   "cell_type": "code",
   "execution_count": 15,
   "id": "fe250b8b-3942-4dad-aea7-cfd5c7cf2ec2",
   "metadata": {},
   "outputs": [
    {
     "name": "stdout",
     "output_type": "stream",
     "text": [
      "Output set is: {'20', '30', '10'}\n"
     ]
    }
   ],
   "source": [
    "set35 = {10,20,30}\n",
    "\n",
    "#Initiate an empty set\n",
    "set35_str = set()\n",
    "\n",
    "for i in set35:\n",
    "    i = str(i)\n",
    "    set35_str.add(i)\n",
    "    \n",
    "print(\"Output set is:\", set35_str)"
   ]
  },
  {
   "cell_type": "markdown",
   "id": "4819fdf2-41e9-425c-9f8d-1899c1bdb05d",
   "metadata": {},
   "source": [
    "36. Create a set from a tuple."
   ]
  },
  {
   "cell_type": "code",
   "execution_count": 18,
   "id": "c4ef9a50-b908-4326-932a-12909013c768",
   "metadata": {},
   "outputs": [
    {
     "name": "stdout",
     "output_type": "stream",
     "text": [
      "The set from Tuple is: {1, 2, 3, 4, 5}\n"
     ]
    }
   ],
   "source": [
    "tup_36 = (1,2,3,4,5,5,4,3,2)\n",
    "\n",
    "tup_set_36 = set(tup_36)\n",
    "\n",
    "print(\"The set from Tuple is:\", tup_set_36)"
   ]
  },
  {
   "cell_type": "markdown",
   "id": "8ef4b424-6f04-45a6-95e3-fcfecf53bce5",
   "metadata": {},
   "source": [
    "37. Convert a set to a tuple."
   ]
  },
  {
   "cell_type": "code",
   "execution_count": 21,
   "id": "9f8a1e34-7a55-497b-874a-9234bcb7e758",
   "metadata": {},
   "outputs": [
    {
     "name": "stdout",
     "output_type": "stream",
     "text": [
      "<class 'tuple'>\n",
      "The Tuple from the set is: (1, 2, 3, 4, 5)\n"
     ]
    }
   ],
   "source": [
    "set_37 ={1,2,3,4,5}\n",
    "\n",
    "tup_set_37 = tuple(set_37)\n",
    "\n",
    "print(type(tup_set_37))\n",
    "\n",
    "print(\"The Tuple from the set is:\", tup_set_37)"
   ]
  },
  {
   "cell_type": "markdown",
   "id": "09d1d632-aa4e-45b5-a9a7-57d7929f43fa",
   "metadata": {},
   "source": [
    "38. Find the maximum value in a set."
   ]
  },
  {
   "cell_type": "code",
   "execution_count": 24,
   "id": "28e6d3b7-941b-4adb-aedd-3f2cc7ebd574",
   "metadata": {},
   "outputs": [
    {
     "name": "stdout",
     "output_type": "stream",
     "text": [
      "Maximum value in the set is 34\n"
     ]
    }
   ],
   "source": [
    "set_37 ={1,2,3,4,5,23,11,34,12}\n",
    "\n",
    "max_val = max(set_37) \n",
    "\n",
    "print(\"Maximum value in the set is\", max_val)"
   ]
  },
  {
   "cell_type": "markdown",
   "id": "4d4d3953-78ea-4a48-af60-ec5d7bde724e",
   "metadata": {},
   "source": [
    "39. Find the minimum value in a set."
   ]
  },
  {
   "cell_type": "code",
   "execution_count": 25,
   "id": "b1ddd02c-6fea-4324-89d7-134ed6aab761",
   "metadata": {},
   "outputs": [
    {
     "name": "stdout",
     "output_type": "stream",
     "text": [
      "Minimum value in the set is 1\n"
     ]
    }
   ],
   "source": [
    "set_39 ={1,2,3,4,5,23,11,34,12}\n",
    "\n",
    "min_val = min(set_39) \n",
    "\n",
    "print(\"Minimum value in the set is\", min_val)"
   ]
  },
  {
   "cell_type": "markdown",
   "id": "1c1426ca-59f8-4e39-9430-ba707ac9750d",
   "metadata": {},
   "source": [
    "40. Create a set from user input."
   ]
  },
  {
   "cell_type": "code",
   "execution_count": 31,
   "id": "eb9e2e52-d043-4c19-94aa-c4a7a05d4cbe",
   "metadata": {},
   "outputs": [
    {
     "name": "stdin",
     "output_type": "stream",
     "text": [
      "Enter the values to be added to set separated by ',': apple, Banana, Coffee, Tea\n"
     ]
    },
    {
     "name": "stdout",
     "output_type": "stream",
     "text": [
      "set from the user input is: {' Tea', ' Banana', ' Coffee', 'apple'}\n"
     ]
    }
   ],
   "source": [
    "get_input = input(\"Enter the values to be added to set separated by ',':\")\n",
    "\n",
    "#Add this to the list split by comma\n",
    "list_input= get_input.split(',')\n",
    "#Convert that list to the set\n",
    "\n",
    "set40 = set(list_input)\n",
    "\n",
    "print(\"set from the user input is:\",set40)\n",
    "\n"
   ]
  },
  {
   "cell_type": "markdown",
   "id": "26866be1-f174-44c9-8871-f15ef082abb5",
   "metadata": {},
   "source": [
    "41. Check if the intersection of two sets is empty."
   ]
  },
  {
   "cell_type": "code",
   "execution_count": 37,
   "id": "4d46cdaf-15e6-4272-8315-eeab546f036c",
   "metadata": {},
   "outputs": [
    {
     "name": "stdout",
     "output_type": "stream",
     "text": [
      "Intersection is empty\n"
     ]
    }
   ],
   "source": [
    "set1= {1,2,3,4}\n",
    "set2 = {5,6,7,8}\n",
    "\n",
    "intersection = set1.intersection(set2)\n",
    "if intersection == set():\n",
    "    print(\"Intersection is empty\")\n",
    "else:\n",
    "    print(\"Non empty set from intersection\")"
   ]
  },
  {
   "cell_type": "markdown",
   "id": "91e3d7ac-91dd-450d-a47a-225900698628",
   "metadata": {},
   "source": [
    "42. Create a set of the first 5 Fibonacci numbers."
   ]
  },
  {
   "cell_type": "code",
   "execution_count": 51,
   "id": "8eea7d96-39b2-43b2-a946-8ae247907b9a",
   "metadata": {},
   "outputs": [
    {
     "name": "stdout",
     "output_type": "stream",
     "text": [
      "<class 'list'>\n",
      "Set with Fibonacci Sequence is: {0, 1, 2, 3, 5}\n"
     ]
    }
   ],
   "source": [
    "#Initiate a Fibonacci sequence with first 2 numbers\n",
    "fib_list = [0,1]\n",
    "\n",
    "print(type(fib_list))\n",
    "\n",
    "for i in range(2,6):\n",
    "    num_next = fib_list[i-1] + fib_list[i-2] \n",
    "    fib_list.append(num_next)\n",
    "    \n",
    "fib_set = set(fib_list)\n",
    "print(\"Set with Fibonacci Sequence is:\", fib_set)"
   ]
  },
  {
   "cell_type": "markdown",
   "id": "3c9242fd-2c0f-4261-913c-a5ada8e96eae",
   "metadata": {},
   "source": [
    "43. Remove duplicates from a list using sets."
   ]
  },
  {
   "cell_type": "code",
   "execution_count": 53,
   "id": "64d51fb8-75d4-4684-9af0-93726ec03b85",
   "metadata": {},
   "outputs": [
    {
     "name": "stdout",
     "output_type": "stream",
     "text": [
      "set after removing duplicates {1, 2, 3, 4, 5, 6}\n"
     ]
    }
   ],
   "source": [
    "list_43 = [1,2,3,3,3,4,4,5,5,6]\n",
    "\n",
    "#converting it into sets removes duplicates\n",
    "\n",
    "set_list_43 = set(list_43)\n",
    "print(\"set after removing duplicates\", set_list_43)"
   ]
  },
  {
   "cell_type": "markdown",
   "id": "c5f8b3aa-b83c-4e2f-a099-0ebccfdbaa7b",
   "metadata": {},
   "source": [
    "44. Check if two sets have the same elements, regardless of their count."
   ]
  },
  {
   "cell_type": "code",
   "execution_count": 57,
   "id": "32f23fa8-d1fd-43a4-bbc1-3d9f0726e3ce",
   "metadata": {},
   "outputs": [
    {
     "name": "stdout",
     "output_type": "stream",
     "text": [
      "Sets have same elements\n"
     ]
    }
   ],
   "source": [
    "def have_same_elements(set1,set2):\n",
    "    sorted_list_1 = sorted(list(set1))\n",
    "    sorted_list_2 = sorted(list(set2)) #using sorted to return sorted list without impacting origianl list\n",
    "    return sorted_list_1 == sorted_list_2\n",
    "\n",
    "set1 = {1,3,5,3,1}\n",
    "set2 = {1,3,5}\n",
    "result = have_same_elements(set1,set2)\n",
    "\n",
    "if result:\n",
    "    print(\"Sets have same elements\")\n",
    "else:\n",
    "    print(\"Sets don't have same elements\")\n",
    "    \n"
   ]
  },
  {
   "cell_type": "markdown",
   "id": "ac57ef4f-f844-47cf-86d8-3b320f68b8fb",
   "metadata": {},
   "source": [
    "45. Create a set of the first `n` powers of 2."
   ]
  },
  {
   "cell_type": "code",
   "execution_count": 63,
   "id": "f607680d-4643-4210-8806-e300fd914e5d",
   "metadata": {},
   "outputs": [
    {
     "name": "stdin",
     "output_type": "stream",
     "text": [
      "Enter the value of n 5\n"
     ]
    },
    {
     "name": "stdout",
     "output_type": "stream",
     "text": [
      "Set of first 5 powers of 2 {32, 1, 2, 4, 8, 16}\n"
     ]
    }
   ],
   "source": [
    "#Initiate an empty set\n",
    "n = int(input(\"Enter the value of n\"))\n",
    "set45 = set(2**num for num in range(n+1))\n",
    "\n",
    "print(f\"Set of first {n} powers of 2\" , set45)\n"
   ]
  },
  {
   "cell_type": "markdown",
   "id": "53cbc675-625f-4c97-b18d-ec1f7575f44f",
   "metadata": {},
   "source": [
    "46. Find the common elements between a set and a list."
   ]
  },
  {
   "cell_type": "code",
   "execution_count": 65,
   "id": "658a974d-6e2f-488e-830b-1554a315146a",
   "metadata": {},
   "outputs": [
    {
     "name": "stdout",
     "output_type": "stream",
     "text": [
      "common elements {1, 2, 5, 6}\n"
     ]
    }
   ],
   "source": [
    "#defining a list and a set\n",
    "set46 = {1,2,3,5,6}\n",
    "\n",
    "list46 = [1,2,4,5,6,6,20,30]\n",
    "\n",
    "#convert the list to the set to get the unique elements in the list\n",
    "set_list46 = set(list46)\n",
    "\n",
    "#to find common elements of two sets, use intersection\n",
    "\n",
    "common_elements =  set46.intersection(set_list46)\n",
    "\n",
    "print(\"common elements\", common_elements)\n",
    "\n"
   ]
  },
  {
   "cell_type": "markdown",
   "id": "20f8513f-c40c-486b-9dbc-a9a8617ba877",
   "metadata": {},
   "source": [
    "47. Create a set of the first `n` triangular numbers."
   ]
  },
  {
   "cell_type": "code",
   "execution_count": 66,
   "id": "24ac75a4-6e55-4098-8ed9-be2318d72d5f",
   "metadata": {},
   "outputs": [
    {
     "name": "stdin",
     "output_type": "stream",
     "text": [
      "Enter the value of n: 5\n"
     ]
    },
    {
     "name": "stdout",
     "output_type": "stream",
     "text": [
      "The set of first 5 traingular numbers is: {1, 3, 6, 10, 15}\n"
     ]
    }
   ],
   "source": [
    "def generate_triangular_number(n):\n",
    "    #create an empty set to store number\n",
    "    t_set = set()\n",
    "    for i in range(1, n+1):\n",
    "        triangular_number = i*(i+1) //2\n",
    "        t_set.add(triangular_number)\n",
    "    return t_set\n",
    "\n",
    "n = int(input(\"Enter the value of n:\"))\n",
    "\n",
    "set_triangular = generate_triangular_number(n)\n",
    "\n",
    "print(f\"The set of first {n} traingular numbers is:\", set_triangular)\n"
   ]
  },
  {
   "cell_type": "markdown",
   "id": "7900e415-d205-48d6-acaf-dd14543beb21",
   "metadata": {},
   "source": [
    "48. Check if a set contains another set as a subset."
   ]
  },
  {
   "cell_type": "code",
   "execution_count": 70,
   "id": "b4c6eda2-bab3-490e-bcba-0621d0bade45",
   "metadata": {},
   "outputs": [
    {
     "name": "stdout",
     "output_type": "stream",
     "text": [
      "set contains another set as a subset\n"
     ]
    }
   ],
   "source": [
    "set48 = {1,4,5,6,7}\n",
    "subset48 = {4,5,6}\n",
    "\n",
    "is_subset = subset48.issubset(set48)\n",
    "\n",
    "if is_subset:\n",
    "    print(\"set contains another set as a subset\")\n",
    "else:\n",
    "     print(\"set doesn't contain another set as a subset\")"
   ]
  },
  {
   "cell_type": "markdown",
   "id": "18983f2b-8a18-4288-9625-3fee37da8705",
   "metadata": {},
   "source": [
    "49. Create a set of alternating 1s and 0s of length `n`."
   ]
  },
  {
   "cell_type": "code",
   "execution_count": 72,
   "id": "d48b2781-04c7-451c-97fd-d2006068d86e",
   "metadata": {},
   "outputs": [
    {
     "name": "stdin",
     "output_type": "stream",
     "text": [
      "Get the value of n:  6\n"
     ]
    },
    {
     "name": "stdout",
     "output_type": "stream",
     "text": [
      "Set with alternating 0s and 1: {0, 1}\n"
     ]
    }
   ],
   "source": [
    "n = int(input(\"Get the value of n: \"))\n",
    "\n",
    "#Initiate an empty set:\n",
    "\n",
    "set01 = set()\n",
    "\n",
    "for i in range(n):\n",
    "    if i%2 ==0:\n",
    "        set01.add(1)\n",
    "    else: \n",
    "        set01.add(0)\n",
    "\n",
    "    \n",
    "print(\"Set with alternating 0s and 1:\",set01)\n"
   ]
  },
  {
   "cell_type": "markdown",
   "id": "41163a9a-afe7-4eec-8d94-060696495c7b",
   "metadata": {},
   "source": [
    "50. Merge multiple sets into one."
   ]
  },
  {
   "cell_type": "code",
   "execution_count": 75,
   "id": "344b460e-ec97-4680-8444-d0dd3dca91cd",
   "metadata": {},
   "outputs": [
    {
     "name": "stdout",
     "output_type": "stream",
     "text": [
      "Merged Set is: {50, 20, 40, 10, 60, 30}\n"
     ]
    }
   ],
   "source": [
    "set1 = {10,20,30}\n",
    "set2 = {40,30,50}\n",
    "set3 = {20,30,60}\n",
    "\n",
    "merged_set = set1.union(set2,set3)\n",
    "\n",
    "print(\"Merged Set is:\", merged_set)"
   ]
  },
  {
   "cell_type": "code",
   "execution_count": null,
   "id": "8af0d6be-2840-41d0-a5b0-87abce43524c",
   "metadata": {},
   "outputs": [],
   "source": []
  }
 ],
 "metadata": {
  "kernelspec": {
   "display_name": "Python 3 (ipykernel)",
   "language": "python",
   "name": "python3"
  },
  "language_info": {
   "codemirror_mode": {
    "name": "ipython",
    "version": 3
   },
   "file_extension": ".py",
   "mimetype": "text/x-python",
   "name": "python",
   "nbconvert_exporter": "python",
   "pygments_lexer": "ipython3",
   "version": "3.10.8"
  }
 },
 "nbformat": 4,
 "nbformat_minor": 5
}

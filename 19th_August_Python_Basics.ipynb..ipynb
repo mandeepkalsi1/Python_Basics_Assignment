{
 "cells": [
  {
   "cell_type": "markdown",
   "id": "994e620b-be7c-46c2-b794-22fa2ef07768",
   "metadata": {},
   "source": [
    "TOPIC: Python Basics Variable"
   ]
  },
  {
   "cell_type": "markdown",
   "id": "a2dffb72-dfa6-40e0-b8e1-b2b24c2640c3",
   "metadata": {},
   "source": [
    "1. Declare two variables, `x` and `y`, and assign them integer values. Swap the\n",
    "values of these variables without using any temporary variable."
   ]
  },
  {
   "cell_type": "code",
   "execution_count": null,
   "id": "7a84e643-a51a-4e46-a33a-873ac31f6d66",
   "metadata": {},
   "outputs": [],
   "source": [
    "x = 20\n",
    "y = 30"
   ]
  },
  {
   "cell_type": "markdown",
   "id": "9ca92740-8abb-4b33-b66e-1e0486174e0e",
   "metadata": {},
   "source": [
    "Declared 2 variables and checked their type to ensure these are integers"
   ]
  },
  {
   "cell_type": "code",
   "execution_count": null,
   "id": "185fa30a-29f1-4f1c-9a6e-c28b94a74cc9",
   "metadata": {},
   "outputs": [],
   "source": [
    "type(x)\n",
    "type(y)"
   ]
  },
  {
   "cell_type": "markdown",
   "id": "b1eaef68-66f8-4703-9658-9192f7859ea5",
   "metadata": {},
   "source": [
    "Added two integers x & y and subtracting original value of x which is now assigned to y by using := which assigns the value to y within expression"
   ]
  },
  {
   "cell_type": "code",
   "execution_count": null,
   "id": "3c116b82-9c37-4194-84cc-09fad249382e",
   "metadata": {},
   "outputs": [],
   "source": [
    "x = x+y -(y:=x)"
   ]
  },
  {
   "cell_type": "code",
   "execution_count": null,
   "id": "cceecd33-b425-4b44-b498-8589cab06169",
   "metadata": {},
   "outputs": [],
   "source": [
    "print(\"x is:\", x)\n",
    "print(\"y is:\", y)"
   ]
  },
  {
   "cell_type": "markdown",
   "id": "18dae28d-4c52-4b4a-b1e5-511142859496",
   "metadata": {},
   "source": [
    "2. Create a program that calculates the area of a rectangle. Take the length and\n",
    "width as inputs from the user and store them in variables. Calculate and\n",
    "display the area."
   ]
  },
  {
   "cell_type": "code",
   "execution_count": 1,
   "id": "ba282a55-60d9-4955-95ab-028160fd1839",
   "metadata": {},
   "outputs": [
    {
     "name": "stdin",
     "output_type": "stream",
     "text": [
      "Enter the length of rectangle:  12\n",
      "Enter the breadth of rectangle:  10\n"
     ]
    },
    {
     "name": "stdout",
     "output_type": "stream",
     "text": [
      "Area of rectangle is:  120\n"
     ]
    }
   ],
   "source": [
    "length = int(input(\"Enter the length of rectangle: \"))\n",
    "breadth = int(input(\"Enter the breadth of rectangle: \"))\n",
    "\n",
    "\n",
    "\n",
    "area = length * breadth\n",
    "\n",
    "print(\"Area of rectangle is: \", area)\n"
   ]
  },
  {
   "cell_type": "markdown",
   "id": "f2359f60-ed4c-4705-8ddc-75ac67b5bc11",
   "metadata": {},
   "source": [
    "3. Write a Python program that converts temperatures from Celsius to\n",
    "Fahrenheit. Take the temperature in Celsius as input, store it in a variable,\n",
    "convert it to Fahrenheit, and display the result."
   ]
  },
  {
   "cell_type": "code",
   "execution_count": 3,
   "id": "1dc71fb2-b27e-4300-9712-fbe57aae244d",
   "metadata": {},
   "outputs": [
    {
     "name": "stdin",
     "output_type": "stream",
     "text": [
      "Enter the Temperature in Celsius:  0\n"
     ]
    },
    {
     "name": "stdout",
     "output_type": "stream",
     "text": [
      "Temperature in Farahenite is:  32.0\n"
     ]
    }
   ],
   "source": [
    "TempC = int(input(\"Enter the Temperature in Celsius: \"))\n",
    "            \n",
    "TempF = (TempC * 1.8) + 32\n",
    "            \n",
    "print(\"Temperature in Farahenite is: \", TempF)"
   ]
  },
  {
   "cell_type": "markdown",
   "id": "299698b1-c34e-412c-a895-62eca84d0a17",
   "metadata": {},
   "source": [
    "TOPIC: String Based Questions"
   ]
  },
  {
   "cell_type": "markdown",
   "id": "4a210d56-4a42-4a18-bf58-d64a2d6f2c10",
   "metadata": {},
   "source": [
    "1. Write a Python program that takes a string as input and prints the length of\n",
    "the string."
   ]
  },
  {
   "cell_type": "markdown",
   "id": "7df1256d-1276-4f7e-adce-7c24d0eda57c",
   "metadata": {},
   "source": [
    "By Default, input() data type is string\n"
   ]
  },
  {
   "cell_type": "code",
   "execution_count": 6,
   "id": "a8e9b3e0-722d-4723-ae27-1f058f62e016",
   "metadata": {},
   "outputs": [
    {
     "name": "stdin",
     "output_type": "stream",
     "text": [
      "Enter the string:  PWSkills\n"
     ]
    },
    {
     "name": "stdout",
     "output_type": "stream",
     "text": [
      "length of the string is:  8\n"
     ]
    }
   ],
   "source": [
    "str1 = input(\"Enter the string: \")\n",
    "\n",
    "print(\"length of the string is: \", len(str1))"
   ]
  },
  {
   "cell_type": "markdown",
   "id": "866e5a91-3f52-4901-b1f9-ed2ccc9bb2ca",
   "metadata": {},
   "source": [
    "2. Create a program that takes a sentence from the user and counts the number\n",
    "of vowels (a, e, i, o, u) in the string."
   ]
  },
  {
   "cell_type": "code",
   "execution_count": 30,
   "id": "d73513fd-f195-430a-8d2e-50cdc97b5f46",
   "metadata": {},
   "outputs": [
    {
     "name": "stdin",
     "output_type": "stream",
     "text": [
      "Enter the string:  This is Python Basics\n"
     ]
    },
    {
     "name": "stdout",
     "output_type": "stream",
     "text": [
      "Total number of vowels:  5\n"
     ]
    }
   ],
   "source": [
    "str2 = input(\"Enter the string: \")\n",
    "\n",
    "# we can have upper case and lower cases vowels, so making them all lower caps\n",
    "str2 =str2.lower()\n",
    "\n",
    "#Initiating Count and index from 0\n",
    "\n",
    "vcount =0\n",
    "\n",
    "\n",
    "n= 0\n",
    "\n",
    "for n in range(len(str2)):\n",
    "               if( str2[n]=='a' or str2[n]=='e' or str2[n]== 'i' or str2[n] == 'o' or str2[n] == 'u'):\n",
    "                \n",
    "                    vcount+=1\n",
    "                    \n",
    "                    \n",
    "                              \n",
    "              \n",
    "        \n",
    "         \n",
    "print(\"Total number of vowels: \",vcount )\n",
    "                                 \n",
    "                  "
   ]
  },
  {
   "cell_type": "markdown",
   "id": "54b592f1-298c-45f3-a828-7a02df7585d4",
   "metadata": {},
   "source": [
    "3. Given a string, reverse the order of characters using string slicing and print\n",
    "the reversed string."
   ]
  },
  {
   "cell_type": "code",
   "execution_count": 32,
   "id": "141b93eb-840d-4568-8ea6-398927bfc261",
   "metadata": {},
   "outputs": [
    {
     "name": "stdin",
     "output_type": "stream",
     "text": [
      "Enter the string:  Example of Reversed String\n"
     ]
    },
    {
     "name": "stdout",
     "output_type": "stream",
     "text": [
      "Reveresed String is:  gnirtS desreveR fo elpmaxE\n"
     ]
    }
   ],
   "source": [
    "str3 = input(\"Enter the string: \")\n",
    "\n",
    "# reverse the string by reading the chars backwards using -1\n",
    "\n",
    "Rstr3 = str3[::-1]\n",
    "\n",
    "print(\"Reveresed String is: \", Rstr3)\n"
   ]
  },
  {
   "cell_type": "markdown",
   "id": "87a59d1e-f67a-4ae7-9aeb-c451ffc6fecd",
   "metadata": {},
   "source": [
    "4. Write a program that takes a string as input and checks if it is a palindrome\n",
    "(reads the same forwards and backwards)."
   ]
  },
  {
   "cell_type": "code",
   "execution_count": 36,
   "id": "0c8bdd44-a900-410a-8b06-5b8226a13222",
   "metadata": {},
   "outputs": [
    {
     "name": "stdin",
     "output_type": "stream",
     "text": [
      "Enter the string:  ror\n"
     ]
    },
    {
     "name": "stdout",
     "output_type": "stream",
     "text": [
      "The string is palindrome\n"
     ]
    }
   ],
   "source": [
    "str4 = input(\"Enter the string: \")\n",
    "\n",
    "# reverse the string by reading the chars backwards using -1\n",
    "\n",
    "Rstr4 = str4[::-1]\n",
    "\n",
    "if (Rstr4 == str4):\n",
    "    print(\"The string is palindrome\")\n",
    "    \n",
    "else:\n",
    "    print(\"The string is not palindrome\")"
   ]
  },
  {
   "cell_type": "markdown",
   "id": "54169d68-3b8f-4e59-8aed-3d4fffe5c4c2",
   "metadata": {},
   "source": [
    "5.Create a program that takes a string as input and removes all the spaces from\n",
    "it. Print the modified string without spaces.\n"
   ]
  },
  {
   "cell_type": "code",
   "execution_count": 9,
   "id": "e60ab715-2234-4a14-9581-005465850c80",
   "metadata": {},
   "outputs": [
    {
     "name": "stdin",
     "output_type": "stream",
     "text": [
      "Enter the string:  Data Science\n"
     ]
    },
    {
     "name": "stdout",
     "output_type": "stream",
     "text": [
      "String after removing the spaces: DataScience\n"
     ]
    }
   ],
   "source": [
    "str5 = input(\"Enter the string: \")\n",
    "new_str5=''\n",
    "\n",
    "for char in str5:\n",
    "    if char != ' ':\n",
    "        new_str5 +=char\n",
    "\n",
    "  \n",
    "\n",
    "print(\"String after removing the spaces:\", new_str5)\n"
   ]
  },
  {
   "cell_type": "markdown",
   "id": "10e3d067-d6a8-403a-afe6-a23fc78da569",
   "metadata": {},
   "source": [
    "Alternate way to solve above "
   ]
  },
  {
   "cell_type": "code",
   "execution_count": 12,
   "id": "84b2b657-02e2-41c9-ac65-079c5b4068c4",
   "metadata": {},
   "outputs": [
    {
     "name": "stdin",
     "output_type": "stream",
     "text": [
      "Enter the string:  Data Science Course\n"
     ]
    },
    {
     "name": "stdout",
     "output_type": "stream",
     "text": [
      "String after removing the spaces: DataScienceCourse\n"
     ]
    }
   ],
   "source": [
    "str5 = input(\"Enter the string: \")\n",
    "\n",
    "modified_str5= str5.replace(\" \",\"\")\n",
    "\n",
    "print(\"String after removing the spaces:\", modified_str5)\n"
   ]
  },
  {
   "cell_type": "code",
   "execution_count": null,
   "id": "60d712eb-9dc6-4968-bb95-036c9606cc65",
   "metadata": {},
   "outputs": [],
   "source": []
  }
 ],
 "metadata": {
  "kernelspec": {
   "display_name": "Python 3 (ipykernel)",
   "language": "python",
   "name": "python3"
  },
  "language_info": {
   "codemirror_mode": {
    "name": "ipython",
    "version": 3
   },
   "file_extension": ".py",
   "mimetype": "text/x-python",
   "name": "python",
   "nbconvert_exporter": "python",
   "pygments_lexer": "ipython3",
   "version": "3.10.8"
  }
 },
 "nbformat": 4,
 "nbformat_minor": 5
}
